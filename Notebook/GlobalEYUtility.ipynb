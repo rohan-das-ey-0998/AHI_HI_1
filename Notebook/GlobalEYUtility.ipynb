{
 "cells": [
  {
   "cell_type": "code",
   "execution_count": 1,
   "metadata": {
    "id": "LjgZTjCHg2x1"
   },
   "outputs": [],
   "source": [
    "import pandas as pd\n",
    "import numpy as np\n",
    "import matplotlib.pyplot as plt\n",
    "import seaborn as sns"
   ]
  },
  {
   "cell_type": "code",
   "execution_count": 2,
   "metadata": {
    "colab": {
     "base_uri": "https://localhost:8080/",
     "height": 768
    },
    "id": "vMf9bB1dhKyv",
    "outputId": "8ace7db5-6d93-43d7-c586-dec8ff4fad70"
   },
   "outputs": [
    {
     "data": {
      "text/html": [
       "<div>\n",
       "<style scoped>\n",
       "    .dataframe tbody tr th:only-of-type {\n",
       "        vertical-align: middle;\n",
       "    }\n",
       "\n",
       "    .dataframe tbody tr th {\n",
       "        vertical-align: top;\n",
       "    }\n",
       "\n",
       "    .dataframe thead th {\n",
       "        text-align: right;\n",
       "    }\n",
       "</style>\n",
       "<table border=\"1\" class=\"dataframe\">\n",
       "  <thead>\n",
       "    <tr style=\"text-align: right;\">\n",
       "      <th></th>\n",
       "      <th>abin</th>\n",
       "      <th>Feeder_Category</th>\n",
       "      <th>BREAKER_MAKE</th>\n",
       "      <th>UpcaseRoadTraffic</th>\n",
       "      <th>Upcase_DepthOfCable</th>\n",
       "      <th>Upcase_SoilCondition</th>\n",
       "      <th>Upcase_LeadExposed</th>\n",
       "      <th>Upcase_ArmourCableCondition</th>\n",
       "      <th>CABLE_SIZE</th>\n",
       "      <th>NO__OF_PARALLEL_RUNNING_CABLES</th>\n",
       "      <th>...</th>\n",
       "      <th>Section Id</th>\n",
       "      <th>Pathid</th>\n",
       "      <th>Path Order</th>\n",
       "      <th>Lat</th>\n",
       "      <th>Long</th>\n",
       "      <th>Customer At Risk</th>\n",
       "      <th>Revenue At Rsik</th>\n",
       "      <th>Assets At Risk</th>\n",
       "      <th>Risk Type</th>\n",
       "      <th>NoFaultsSince2016</th>\n",
       "    </tr>\n",
       "  </thead>\n",
       "  <tbody>\n",
       "    <tr>\n",
       "      <th>0</th>\n",
       "      <td>ED</td>\n",
       "      <td>RES</td>\n",
       "      <td>SIEMENS VCB</td>\n",
       "      <td>MODERATE</td>\n",
       "      <td>NORMAL</td>\n",
       "      <td>DRY</td>\n",
       "      <td>NO</td>\n",
       "      <td>STRONG</td>\n",
       "      <td>120.0</td>\n",
       "      <td>3.0</td>\n",
       "      <td>...</td>\n",
       "      <td>30462-10499-1</td>\n",
       "      <td>SANTACRUZ RECEIVING STATION-ANAND NAGAR NO.2 S...</td>\n",
       "      <td>2.0</td>\n",
       "      <td>19.080542</td>\n",
       "      <td>72.845893</td>\n",
       "      <td>8000.0</td>\n",
       "      <td>97.0</td>\n",
       "      <td>10.0</td>\n",
       "      <td>Low</td>\n",
       "      <td>0.0</td>\n",
       "    </tr>\n",
       "    <tr>\n",
       "      <th>1</th>\n",
       "      <td>ED</td>\n",
       "      <td>RES</td>\n",
       "      <td>ABB SF6</td>\n",
       "      <td>HEAVY</td>\n",
       "      <td>NORMAL</td>\n",
       "      <td>MOIST</td>\n",
       "      <td>NO</td>\n",
       "      <td>STRONG</td>\n",
       "      <td>300.0</td>\n",
       "      <td>1.0</td>\n",
       "      <td>...</td>\n",
       "      <td>30462-10499-1</td>\n",
       "      <td>SANTACRUZ RECEIVING STATION-ANAND NAGAR NO.2 S...</td>\n",
       "      <td>2.0</td>\n",
       "      <td>19.080542</td>\n",
       "      <td>72.845893</td>\n",
       "      <td>8000.0</td>\n",
       "      <td>97.0</td>\n",
       "      <td>10.0</td>\n",
       "      <td>Low</td>\n",
       "      <td>0.0</td>\n",
       "    </tr>\n",
       "    <tr>\n",
       "      <th>2</th>\n",
       "      <td>SCD</td>\n",
       "      <td>RES</td>\n",
       "      <td>VOLTAS SF6</td>\n",
       "      <td>MODERATE</td>\n",
       "      <td>NORMAL</td>\n",
       "      <td>DRY</td>\n",
       "      <td>NO</td>\n",
       "      <td>STRONG</td>\n",
       "      <td>300.0</td>\n",
       "      <td>6.0</td>\n",
       "      <td>...</td>\n",
       "      <td>30462-10499-1</td>\n",
       "      <td>SANTACRUZ RECEIVING STATION-ANAND NAGAR NO.2 S...</td>\n",
       "      <td>2.0</td>\n",
       "      <td>19.080542</td>\n",
       "      <td>72.845893</td>\n",
       "      <td>8000.0</td>\n",
       "      <td>97.0</td>\n",
       "      <td>10.0</td>\n",
       "      <td>Low</td>\n",
       "      <td>7.0</td>\n",
       "    </tr>\n",
       "    <tr>\n",
       "      <th>3</th>\n",
       "      <td>SCD</td>\n",
       "      <td>RES</td>\n",
       "      <td>VOLTAS SF6</td>\n",
       "      <td>LOW</td>\n",
       "      <td>NORMAL</td>\n",
       "      <td>WET</td>\n",
       "      <td>NO</td>\n",
       "      <td>CORRODED</td>\n",
       "      <td>240.0</td>\n",
       "      <td>2.0</td>\n",
       "      <td>...</td>\n",
       "      <td>30462-10499-1</td>\n",
       "      <td>SANTACRUZ RECEIVING STATION-ANAND NAGAR NO.2 S...</td>\n",
       "      <td>2.0</td>\n",
       "      <td>19.080542</td>\n",
       "      <td>72.845893</td>\n",
       "      <td>8000.0</td>\n",
       "      <td>97.0</td>\n",
       "      <td>10.0</td>\n",
       "      <td>Low</td>\n",
       "      <td>7.0</td>\n",
       "    </tr>\n",
       "    <tr>\n",
       "      <th>4</th>\n",
       "      <td>ND</td>\n",
       "      <td>RES</td>\n",
       "      <td>VOLTAS SF6</td>\n",
       "      <td>MODERATE</td>\n",
       "      <td>NORMAL</td>\n",
       "      <td>DRY</td>\n",
       "      <td>NO</td>\n",
       "      <td>STRONG</td>\n",
       "      <td>240.0</td>\n",
       "      <td>1.0</td>\n",
       "      <td>...</td>\n",
       "      <td>30462-10499-1</td>\n",
       "      <td>SANTACRUZ RECEIVING STATION-ANAND NAGAR NO.2 S...</td>\n",
       "      <td>2.0</td>\n",
       "      <td>19.080542</td>\n",
       "      <td>72.845893</td>\n",
       "      <td>8000.0</td>\n",
       "      <td>97.0</td>\n",
       "      <td>10.0</td>\n",
       "      <td>Low</td>\n",
       "      <td>7.0</td>\n",
       "    </tr>\n",
       "    <tr>\n",
       "      <th>...</th>\n",
       "      <td>...</td>\n",
       "      <td>...</td>\n",
       "      <td>...</td>\n",
       "      <td>...</td>\n",
       "      <td>...</td>\n",
       "      <td>...</td>\n",
       "      <td>...</td>\n",
       "      <td>...</td>\n",
       "      <td>...</td>\n",
       "      <td>...</td>\n",
       "      <td>...</td>\n",
       "      <td>...</td>\n",
       "      <td>...</td>\n",
       "      <td>...</td>\n",
       "      <td>...</td>\n",
       "      <td>...</td>\n",
       "      <td>...</td>\n",
       "      <td>...</td>\n",
       "      <td>...</td>\n",
       "      <td>...</td>\n",
       "      <td>...</td>\n",
       "    </tr>\n",
       "    <tr>\n",
       "      <th>495</th>\n",
       "      <td>NaN</td>\n",
       "      <td>NaN</td>\n",
       "      <td>NaN</td>\n",
       "      <td>NaN</td>\n",
       "      <td>NaN</td>\n",
       "      <td>NaN</td>\n",
       "      <td>NaN</td>\n",
       "      <td>NaN</td>\n",
       "      <td>NaN</td>\n",
       "      <td>NaN</td>\n",
       "      <td>...</td>\n",
       "      <td>NaN</td>\n",
       "      <td>NaN</td>\n",
       "      <td>NaN</td>\n",
       "      <td>NaN</td>\n",
       "      <td>NaN</td>\n",
       "      <td>NaN</td>\n",
       "      <td>NaN</td>\n",
       "      <td>NaN</td>\n",
       "      <td>NaN</td>\n",
       "      <td>NaN</td>\n",
       "    </tr>\n",
       "    <tr>\n",
       "      <th>496</th>\n",
       "      <td>NaN</td>\n",
       "      <td>NaN</td>\n",
       "      <td>NaN</td>\n",
       "      <td>NaN</td>\n",
       "      <td>NaN</td>\n",
       "      <td>NaN</td>\n",
       "      <td>NaN</td>\n",
       "      <td>NaN</td>\n",
       "      <td>NaN</td>\n",
       "      <td>NaN</td>\n",
       "      <td>...</td>\n",
       "      <td>NaN</td>\n",
       "      <td>NaN</td>\n",
       "      <td>NaN</td>\n",
       "      <td>NaN</td>\n",
       "      <td>NaN</td>\n",
       "      <td>NaN</td>\n",
       "      <td>NaN</td>\n",
       "      <td>NaN</td>\n",
       "      <td>NaN</td>\n",
       "      <td>NaN</td>\n",
       "    </tr>\n",
       "    <tr>\n",
       "      <th>497</th>\n",
       "      <td>NaN</td>\n",
       "      <td>NaN</td>\n",
       "      <td>NaN</td>\n",
       "      <td>NaN</td>\n",
       "      <td>NaN</td>\n",
       "      <td>NaN</td>\n",
       "      <td>NaN</td>\n",
       "      <td>NaN</td>\n",
       "      <td>NaN</td>\n",
       "      <td>NaN</td>\n",
       "      <td>...</td>\n",
       "      <td>NaN</td>\n",
       "      <td>NaN</td>\n",
       "      <td>NaN</td>\n",
       "      <td>NaN</td>\n",
       "      <td>NaN</td>\n",
       "      <td>NaN</td>\n",
       "      <td>NaN</td>\n",
       "      <td>NaN</td>\n",
       "      <td>NaN</td>\n",
       "      <td>NaN</td>\n",
       "    </tr>\n",
       "    <tr>\n",
       "      <th>498</th>\n",
       "      <td>NaN</td>\n",
       "      <td>NaN</td>\n",
       "      <td>NaN</td>\n",
       "      <td>NaN</td>\n",
       "      <td>NaN</td>\n",
       "      <td>NaN</td>\n",
       "      <td>NaN</td>\n",
       "      <td>NaN</td>\n",
       "      <td>NaN</td>\n",
       "      <td>NaN</td>\n",
       "      <td>...</td>\n",
       "      <td>NaN</td>\n",
       "      <td>NaN</td>\n",
       "      <td>NaN</td>\n",
       "      <td>NaN</td>\n",
       "      <td>NaN</td>\n",
       "      <td>NaN</td>\n",
       "      <td>NaN</td>\n",
       "      <td>NaN</td>\n",
       "      <td>NaN</td>\n",
       "      <td>NaN</td>\n",
       "    </tr>\n",
       "    <tr>\n",
       "      <th>499</th>\n",
       "      <td>NaN</td>\n",
       "      <td>NaN</td>\n",
       "      <td>NaN</td>\n",
       "      <td>NaN</td>\n",
       "      <td>NaN</td>\n",
       "      <td>NaN</td>\n",
       "      <td>NaN</td>\n",
       "      <td>NaN</td>\n",
       "      <td>NaN</td>\n",
       "      <td>NaN</td>\n",
       "      <td>...</td>\n",
       "      <td>NaN</td>\n",
       "      <td>NaN</td>\n",
       "      <td>NaN</td>\n",
       "      <td>NaN</td>\n",
       "      <td>NaN</td>\n",
       "      <td>NaN</td>\n",
       "      <td>NaN</td>\n",
       "      <td>NaN</td>\n",
       "      <td>NaN</td>\n",
       "      <td>NaN</td>\n",
       "    </tr>\n",
       "  </tbody>\n",
       "</table>\n",
       "<p>500 rows × 119 columns</p>\n",
       "</div>"
      ],
      "text/plain": [
       "    abin Feeder_Category BREAKER_MAKE UpcaseRoadTraffic Upcase_DepthOfCable   \n",
       "0     ED             RES  SIEMENS VCB          MODERATE              NORMAL  \\\n",
       "1     ED             RES      ABB SF6             HEAVY              NORMAL   \n",
       "2    SCD             RES   VOLTAS SF6          MODERATE              NORMAL   \n",
       "3    SCD             RES   VOLTAS SF6               LOW              NORMAL   \n",
       "4     ND             RES   VOLTAS SF6          MODERATE              NORMAL   \n",
       "..   ...             ...          ...               ...                 ...   \n",
       "495  NaN             NaN          NaN               NaN                 NaN   \n",
       "496  NaN             NaN          NaN               NaN                 NaN   \n",
       "497  NaN             NaN          NaN               NaN                 NaN   \n",
       "498  NaN             NaN          NaN               NaN                 NaN   \n",
       "499  NaN             NaN          NaN               NaN                 NaN   \n",
       "\n",
       "    Upcase_SoilCondition Upcase_LeadExposed Upcase_ArmourCableCondition   \n",
       "0                    DRY                 NO                      STRONG  \\\n",
       "1                  MOIST                 NO                      STRONG   \n",
       "2                    DRY                 NO                      STRONG   \n",
       "3                    WET                 NO                    CORRODED   \n",
       "4                    DRY                 NO                      STRONG   \n",
       "..                   ...                ...                         ...   \n",
       "495                  NaN                NaN                         NaN   \n",
       "496                  NaN                NaN                         NaN   \n",
       "497                  NaN                NaN                         NaN   \n",
       "498                  NaN                NaN                         NaN   \n",
       "499                  NaN                NaN                         NaN   \n",
       "\n",
       "     CABLE_SIZE  NO__OF_PARALLEL_RUNNING_CABLES  ...     Section Id   \n",
       "0         120.0                             3.0  ...  30462-10499-1  \\\n",
       "1         300.0                             1.0  ...  30462-10499-1   \n",
       "2         300.0                             6.0  ...  30462-10499-1   \n",
       "3         240.0                             2.0  ...  30462-10499-1   \n",
       "4         240.0                             1.0  ...  30462-10499-1   \n",
       "..          ...                             ...  ...            ...   \n",
       "495         NaN                             NaN  ...            NaN   \n",
       "496         NaN                             NaN  ...            NaN   \n",
       "497         NaN                             NaN  ...            NaN   \n",
       "498         NaN                             NaN  ...            NaN   \n",
       "499         NaN                             NaN  ...            NaN   \n",
       "\n",
       "                                                Pathid  Path Order        Lat   \n",
       "0    SANTACRUZ RECEIVING STATION-ANAND NAGAR NO.2 S...         2.0  19.080542  \\\n",
       "1    SANTACRUZ RECEIVING STATION-ANAND NAGAR NO.2 S...         2.0  19.080542   \n",
       "2    SANTACRUZ RECEIVING STATION-ANAND NAGAR NO.2 S...         2.0  19.080542   \n",
       "3    SANTACRUZ RECEIVING STATION-ANAND NAGAR NO.2 S...         2.0  19.080542   \n",
       "4    SANTACRUZ RECEIVING STATION-ANAND NAGAR NO.2 S...         2.0  19.080542   \n",
       "..                                                 ...         ...        ...   \n",
       "495                                                NaN         NaN        NaN   \n",
       "496                                                NaN         NaN        NaN   \n",
       "497                                                NaN         NaN        NaN   \n",
       "498                                                NaN         NaN        NaN   \n",
       "499                                                NaN         NaN        NaN   \n",
       "\n",
       "          Long  Customer At Risk  Revenue At Rsik  Assets At Risk  Risk Type   \n",
       "0    72.845893            8000.0             97.0            10.0        Low  \\\n",
       "1    72.845893            8000.0             97.0            10.0        Low   \n",
       "2    72.845893            8000.0             97.0            10.0        Low   \n",
       "3    72.845893            8000.0             97.0            10.0        Low   \n",
       "4    72.845893            8000.0             97.0            10.0        Low   \n",
       "..         ...               ...              ...             ...        ...   \n",
       "495        NaN               NaN              NaN             NaN        NaN   \n",
       "496        NaN               NaN              NaN             NaN        NaN   \n",
       "497        NaN               NaN              NaN             NaN        NaN   \n",
       "498        NaN               NaN              NaN             NaN        NaN   \n",
       "499        NaN               NaN              NaN             NaN        NaN   \n",
       "\n",
       "     NoFaultsSince2016  \n",
       "0                  0.0  \n",
       "1                  0.0  \n",
       "2                  7.0  \n",
       "3                  7.0  \n",
       "4                  7.0  \n",
       "..                 ...  \n",
       "495                NaN  \n",
       "496                NaN  \n",
       "497                NaN  \n",
       "498                NaN  \n",
       "499                NaN  \n",
       "\n",
       "[500 rows x 119 columns]"
      ]
     },
     "execution_count": 2,
     "metadata": {},
     "output_type": "execute_result"
    }
   ],
   "source": [
    "df = pd.read_csv(\"C:/Project/Electricity_project/GlobalUtility_EY_04052023/RawDataset/GlobalEYUtility_Final_for Demo.csv\",delimiter=',')\n",
    "df"
   ]
  },
  {
   "cell_type": "code",
   "execution_count": 3,
   "metadata": {
    "colab": {
     "base_uri": "https://localhost:8080/"
    },
    "id": "FsnMOfadhP9c",
    "outputId": "c5f7bb26-9a35-47db-976c-5235357fe95f"
   },
   "outputs": [
    {
     "data": {
      "text/plain": [
       "(300, 119)"
      ]
     },
     "execution_count": 3,
     "metadata": {},
     "output_type": "execute_result"
    }
   ],
   "source": [
    "df = df[:300]\n",
    "df.shape"
   ]
  },
  {
   "cell_type": "code",
   "execution_count": 4,
   "metadata": {},
   "outputs": [
    {
     "data": {
      "text/html": [
       "<div>\n",
       "<style scoped>\n",
       "    .dataframe tbody tr th:only-of-type {\n",
       "        vertical-align: middle;\n",
       "    }\n",
       "\n",
       "    .dataframe tbody tr th {\n",
       "        vertical-align: top;\n",
       "    }\n",
       "\n",
       "    .dataframe thead th {\n",
       "        text-align: right;\n",
       "    }\n",
       "</style>\n",
       "<table border=\"1\" class=\"dataframe\">\n",
       "  <thead>\n",
       "    <tr style=\"text-align: right;\">\n",
       "      <th></th>\n",
       "      <th>abin</th>\n",
       "      <th>Feeder_Category</th>\n",
       "      <th>BREAKER_MAKE</th>\n",
       "      <th>UpcaseRoadTraffic</th>\n",
       "      <th>Upcase_DepthOfCable</th>\n",
       "      <th>Upcase_SoilCondition</th>\n",
       "      <th>Upcase_LeadExposed</th>\n",
       "      <th>Upcase_ArmourCableCondition</th>\n",
       "      <th>CABLE_SIZE</th>\n",
       "      <th>NO__OF_PARALLEL_RUNNING_CABLES</th>\n",
       "      <th>...</th>\n",
       "      <th>Section Id</th>\n",
       "      <th>Pathid</th>\n",
       "      <th>Path Order</th>\n",
       "      <th>Lat</th>\n",
       "      <th>Long</th>\n",
       "      <th>Customer At Risk</th>\n",
       "      <th>Revenue At Rsik</th>\n",
       "      <th>Assets At Risk</th>\n",
       "      <th>Risk Type</th>\n",
       "      <th>NoFaultsSince2016</th>\n",
       "    </tr>\n",
       "  </thead>\n",
       "  <tbody>\n",
       "    <tr>\n",
       "      <th>0</th>\n",
       "      <td>ED</td>\n",
       "      <td>RES</td>\n",
       "      <td>SIEMENS VCB</td>\n",
       "      <td>MODERATE</td>\n",
       "      <td>NORMAL</td>\n",
       "      <td>DRY</td>\n",
       "      <td>NO</td>\n",
       "      <td>STRONG</td>\n",
       "      <td>120.0</td>\n",
       "      <td>3.0</td>\n",
       "      <td>...</td>\n",
       "      <td>30462-10499-1</td>\n",
       "      <td>SANTACRUZ RECEIVING STATION-ANAND NAGAR NO.2 S...</td>\n",
       "      <td>2.0</td>\n",
       "      <td>19.080542</td>\n",
       "      <td>72.845893</td>\n",
       "      <td>8000.0</td>\n",
       "      <td>97.0</td>\n",
       "      <td>10.0</td>\n",
       "      <td>Low</td>\n",
       "      <td>0.0</td>\n",
       "    </tr>\n",
       "    <tr>\n",
       "      <th>1</th>\n",
       "      <td>ED</td>\n",
       "      <td>RES</td>\n",
       "      <td>ABB SF6</td>\n",
       "      <td>HEAVY</td>\n",
       "      <td>NORMAL</td>\n",
       "      <td>MOIST</td>\n",
       "      <td>NO</td>\n",
       "      <td>STRONG</td>\n",
       "      <td>300.0</td>\n",
       "      <td>1.0</td>\n",
       "      <td>...</td>\n",
       "      <td>30462-10499-1</td>\n",
       "      <td>SANTACRUZ RECEIVING STATION-ANAND NAGAR NO.2 S...</td>\n",
       "      <td>2.0</td>\n",
       "      <td>19.080542</td>\n",
       "      <td>72.845893</td>\n",
       "      <td>8000.0</td>\n",
       "      <td>97.0</td>\n",
       "      <td>10.0</td>\n",
       "      <td>Low</td>\n",
       "      <td>0.0</td>\n",
       "    </tr>\n",
       "    <tr>\n",
       "      <th>2</th>\n",
       "      <td>SCD</td>\n",
       "      <td>RES</td>\n",
       "      <td>VOLTAS SF6</td>\n",
       "      <td>MODERATE</td>\n",
       "      <td>NORMAL</td>\n",
       "      <td>DRY</td>\n",
       "      <td>NO</td>\n",
       "      <td>STRONG</td>\n",
       "      <td>300.0</td>\n",
       "      <td>6.0</td>\n",
       "      <td>...</td>\n",
       "      <td>30462-10499-1</td>\n",
       "      <td>SANTACRUZ RECEIVING STATION-ANAND NAGAR NO.2 S...</td>\n",
       "      <td>2.0</td>\n",
       "      <td>19.080542</td>\n",
       "      <td>72.845893</td>\n",
       "      <td>8000.0</td>\n",
       "      <td>97.0</td>\n",
       "      <td>10.0</td>\n",
       "      <td>Low</td>\n",
       "      <td>7.0</td>\n",
       "    </tr>\n",
       "    <tr>\n",
       "      <th>3</th>\n",
       "      <td>SCD</td>\n",
       "      <td>RES</td>\n",
       "      <td>VOLTAS SF6</td>\n",
       "      <td>LOW</td>\n",
       "      <td>NORMAL</td>\n",
       "      <td>WET</td>\n",
       "      <td>NO</td>\n",
       "      <td>CORRODED</td>\n",
       "      <td>240.0</td>\n",
       "      <td>2.0</td>\n",
       "      <td>...</td>\n",
       "      <td>30462-10499-1</td>\n",
       "      <td>SANTACRUZ RECEIVING STATION-ANAND NAGAR NO.2 S...</td>\n",
       "      <td>2.0</td>\n",
       "      <td>19.080542</td>\n",
       "      <td>72.845893</td>\n",
       "      <td>8000.0</td>\n",
       "      <td>97.0</td>\n",
       "      <td>10.0</td>\n",
       "      <td>Low</td>\n",
       "      <td>7.0</td>\n",
       "    </tr>\n",
       "    <tr>\n",
       "      <th>4</th>\n",
       "      <td>ND</td>\n",
       "      <td>RES</td>\n",
       "      <td>VOLTAS SF6</td>\n",
       "      <td>MODERATE</td>\n",
       "      <td>NORMAL</td>\n",
       "      <td>DRY</td>\n",
       "      <td>NO</td>\n",
       "      <td>STRONG</td>\n",
       "      <td>240.0</td>\n",
       "      <td>1.0</td>\n",
       "      <td>...</td>\n",
       "      <td>30462-10499-1</td>\n",
       "      <td>SANTACRUZ RECEIVING STATION-ANAND NAGAR NO.2 S...</td>\n",
       "      <td>2.0</td>\n",
       "      <td>19.080542</td>\n",
       "      <td>72.845893</td>\n",
       "      <td>8000.0</td>\n",
       "      <td>97.0</td>\n",
       "      <td>10.0</td>\n",
       "      <td>Low</td>\n",
       "      <td>7.0</td>\n",
       "    </tr>\n",
       "    <tr>\n",
       "      <th>...</th>\n",
       "      <td>...</td>\n",
       "      <td>...</td>\n",
       "      <td>...</td>\n",
       "      <td>...</td>\n",
       "      <td>...</td>\n",
       "      <td>...</td>\n",
       "      <td>...</td>\n",
       "      <td>...</td>\n",
       "      <td>...</td>\n",
       "      <td>...</td>\n",
       "      <td>...</td>\n",
       "      <td>...</td>\n",
       "      <td>...</td>\n",
       "      <td>...</td>\n",
       "      <td>...</td>\n",
       "      <td>...</td>\n",
       "      <td>...</td>\n",
       "      <td>...</td>\n",
       "      <td>...</td>\n",
       "      <td>...</td>\n",
       "      <td>...</td>\n",
       "    </tr>\n",
       "    <tr>\n",
       "      <th>295</th>\n",
       "      <td>ND</td>\n",
       "      <td>COM</td>\n",
       "      <td>CR VCB</td>\n",
       "      <td>HEAVY</td>\n",
       "      <td>DEEP</td>\n",
       "      <td>MOIST</td>\n",
       "      <td>YES</td>\n",
       "      <td>CORRODED</td>\n",
       "      <td>240.0</td>\n",
       "      <td>8.0</td>\n",
       "      <td>...</td>\n",
       "      <td>11932-13671-2</td>\n",
       "      <td>NEW AGRIPADA SUB STATION</td>\n",
       "      <td>2.0</td>\n",
       "      <td>19.087530</td>\n",
       "      <td>72.844269</td>\n",
       "      <td>6250.0</td>\n",
       "      <td>93.0</td>\n",
       "      <td>8.0</td>\n",
       "      <td>Low</td>\n",
       "      <td>0.0</td>\n",
       "    </tr>\n",
       "    <tr>\n",
       "      <th>296</th>\n",
       "      <td>ND</td>\n",
       "      <td>COM</td>\n",
       "      <td>CR VCB</td>\n",
       "      <td>HEAVY</td>\n",
       "      <td>DEEP</td>\n",
       "      <td>MOIST</td>\n",
       "      <td>YES</td>\n",
       "      <td>CORRODED</td>\n",
       "      <td>240.0</td>\n",
       "      <td>8.0</td>\n",
       "      <td>...</td>\n",
       "      <td>11932-13671-2</td>\n",
       "      <td>NEW AGRIPADA SUB STATION</td>\n",
       "      <td>2.0</td>\n",
       "      <td>19.087530</td>\n",
       "      <td>72.844269</td>\n",
       "      <td>6250.0</td>\n",
       "      <td>93.0</td>\n",
       "      <td>8.0</td>\n",
       "      <td>Need Further Evaluation</td>\n",
       "      <td>0.0</td>\n",
       "    </tr>\n",
       "    <tr>\n",
       "      <th>297</th>\n",
       "      <td>ED</td>\n",
       "      <td>RES</td>\n",
       "      <td>SIEMENS VCB</td>\n",
       "      <td>MODERATE</td>\n",
       "      <td>NORMAL</td>\n",
       "      <td>DRY</td>\n",
       "      <td>NO</td>\n",
       "      <td>STRONG</td>\n",
       "      <td>240.0</td>\n",
       "      <td>3.0</td>\n",
       "      <td>...</td>\n",
       "      <td>11932-13671-2</td>\n",
       "      <td>NEW AGRIPADA SUB STATION</td>\n",
       "      <td>2.0</td>\n",
       "      <td>19.087530</td>\n",
       "      <td>72.844269</td>\n",
       "      <td>6250.0</td>\n",
       "      <td>93.0</td>\n",
       "      <td>8.0</td>\n",
       "      <td>Low</td>\n",
       "      <td>4.0</td>\n",
       "    </tr>\n",
       "    <tr>\n",
       "      <th>298</th>\n",
       "      <td>ND</td>\n",
       "      <td>RES</td>\n",
       "      <td>VOLTAS SF6</td>\n",
       "      <td>MODERATE</td>\n",
       "      <td>NORMAL</td>\n",
       "      <td>DRY</td>\n",
       "      <td>NO</td>\n",
       "      <td>CORRODED</td>\n",
       "      <td>240.0</td>\n",
       "      <td>3.0</td>\n",
       "      <td>...</td>\n",
       "      <td>11932-13671-2</td>\n",
       "      <td>NEW AGRIPADA SUB STATION</td>\n",
       "      <td>2.0</td>\n",
       "      <td>19.087530</td>\n",
       "      <td>72.844269</td>\n",
       "      <td>6250.0</td>\n",
       "      <td>93.0</td>\n",
       "      <td>8.0</td>\n",
       "      <td>Need Further Evaluation</td>\n",
       "      <td>0.0</td>\n",
       "    </tr>\n",
       "    <tr>\n",
       "      <th>299</th>\n",
       "      <td>SD</td>\n",
       "      <td>RES</td>\n",
       "      <td>AREVA VCB</td>\n",
       "      <td>MODERATE</td>\n",
       "      <td>NORMAL</td>\n",
       "      <td>DRY</td>\n",
       "      <td>NO</td>\n",
       "      <td>STRONG</td>\n",
       "      <td>225.0</td>\n",
       "      <td>2.0</td>\n",
       "      <td>...</td>\n",
       "      <td>11932-13671-2</td>\n",
       "      <td>NEW AGRIPADA SUB STATION</td>\n",
       "      <td>2.0</td>\n",
       "      <td>19.087530</td>\n",
       "      <td>72.844269</td>\n",
       "      <td>6250.0</td>\n",
       "      <td>93.0</td>\n",
       "      <td>8.0</td>\n",
       "      <td>Need Further Evaluation</td>\n",
       "      <td>7.0</td>\n",
       "    </tr>\n",
       "  </tbody>\n",
       "</table>\n",
       "<p>300 rows × 119 columns</p>\n",
       "</div>"
      ],
      "text/plain": [
       "    abin Feeder_Category BREAKER_MAKE UpcaseRoadTraffic Upcase_DepthOfCable   \n",
       "0     ED             RES  SIEMENS VCB          MODERATE              NORMAL  \\\n",
       "1     ED             RES      ABB SF6             HEAVY              NORMAL   \n",
       "2    SCD             RES   VOLTAS SF6          MODERATE              NORMAL   \n",
       "3    SCD             RES   VOLTAS SF6               LOW              NORMAL   \n",
       "4     ND             RES   VOLTAS SF6          MODERATE              NORMAL   \n",
       "..   ...             ...          ...               ...                 ...   \n",
       "295   ND             COM       CR VCB             HEAVY                DEEP   \n",
       "296   ND             COM       CR VCB             HEAVY                DEEP   \n",
       "297   ED             RES  SIEMENS VCB          MODERATE              NORMAL   \n",
       "298   ND             RES   VOLTAS SF6          MODERATE              NORMAL   \n",
       "299   SD             RES    AREVA VCB          MODERATE              NORMAL   \n",
       "\n",
       "    Upcase_SoilCondition Upcase_LeadExposed Upcase_ArmourCableCondition   \n",
       "0                    DRY                 NO                      STRONG  \\\n",
       "1                  MOIST                 NO                      STRONG   \n",
       "2                    DRY                 NO                      STRONG   \n",
       "3                    WET                 NO                    CORRODED   \n",
       "4                    DRY                 NO                      STRONG   \n",
       "..                   ...                ...                         ...   \n",
       "295                MOIST                YES                    CORRODED   \n",
       "296                MOIST                YES                    CORRODED   \n",
       "297                  DRY                 NO                      STRONG   \n",
       "298                  DRY                 NO                    CORRODED   \n",
       "299                  DRY                 NO                      STRONG   \n",
       "\n",
       "     CABLE_SIZE  NO__OF_PARALLEL_RUNNING_CABLES  ...     Section Id   \n",
       "0         120.0                             3.0  ...  30462-10499-1  \\\n",
       "1         300.0                             1.0  ...  30462-10499-1   \n",
       "2         300.0                             6.0  ...  30462-10499-1   \n",
       "3         240.0                             2.0  ...  30462-10499-1   \n",
       "4         240.0                             1.0  ...  30462-10499-1   \n",
       "..          ...                             ...  ...            ...   \n",
       "295       240.0                             8.0  ...  11932-13671-2   \n",
       "296       240.0                             8.0  ...  11932-13671-2   \n",
       "297       240.0                             3.0  ...  11932-13671-2   \n",
       "298       240.0                             3.0  ...  11932-13671-2   \n",
       "299       225.0                             2.0  ...  11932-13671-2   \n",
       "\n",
       "                                                Pathid  Path Order        Lat   \n",
       "0    SANTACRUZ RECEIVING STATION-ANAND NAGAR NO.2 S...         2.0  19.080542  \\\n",
       "1    SANTACRUZ RECEIVING STATION-ANAND NAGAR NO.2 S...         2.0  19.080542   \n",
       "2    SANTACRUZ RECEIVING STATION-ANAND NAGAR NO.2 S...         2.0  19.080542   \n",
       "3    SANTACRUZ RECEIVING STATION-ANAND NAGAR NO.2 S...         2.0  19.080542   \n",
       "4    SANTACRUZ RECEIVING STATION-ANAND NAGAR NO.2 S...         2.0  19.080542   \n",
       "..                                                 ...         ...        ...   \n",
       "295                           NEW AGRIPADA SUB STATION         2.0  19.087530   \n",
       "296                           NEW AGRIPADA SUB STATION         2.0  19.087530   \n",
       "297                           NEW AGRIPADA SUB STATION         2.0  19.087530   \n",
       "298                           NEW AGRIPADA SUB STATION         2.0  19.087530   \n",
       "299                           NEW AGRIPADA SUB STATION         2.0  19.087530   \n",
       "\n",
       "          Long  Customer At Risk  Revenue At Rsik  Assets At Risk   \n",
       "0    72.845893            8000.0             97.0            10.0  \\\n",
       "1    72.845893            8000.0             97.0            10.0   \n",
       "2    72.845893            8000.0             97.0            10.0   \n",
       "3    72.845893            8000.0             97.0            10.0   \n",
       "4    72.845893            8000.0             97.0            10.0   \n",
       "..         ...               ...              ...             ...   \n",
       "295  72.844269            6250.0             93.0             8.0   \n",
       "296  72.844269            6250.0             93.0             8.0   \n",
       "297  72.844269            6250.0             93.0             8.0   \n",
       "298  72.844269            6250.0             93.0             8.0   \n",
       "299  72.844269            6250.0             93.0             8.0   \n",
       "\n",
       "                   Risk Type  NoFaultsSince2016  \n",
       "0                        Low                0.0  \n",
       "1                        Low                0.0  \n",
       "2                        Low                7.0  \n",
       "3                        Low                7.0  \n",
       "4                        Low                7.0  \n",
       "..                       ...                ...  \n",
       "295                      Low                0.0  \n",
       "296  Need Further Evaluation                0.0  \n",
       "297                      Low                4.0  \n",
       "298  Need Further Evaluation                0.0  \n",
       "299  Need Further Evaluation                7.0  \n",
       "\n",
       "[300 rows x 119 columns]"
      ]
     },
     "execution_count": 4,
     "metadata": {},
     "output_type": "execute_result"
    }
   ],
   "source": [
    "df"
   ]
  },
  {
   "cell_type": "code",
   "execution_count": 5,
   "metadata": {
    "colab": {
     "base_uri": "https://localhost:8080/"
    },
    "id": "OFYAdKGdhUi4",
    "outputId": "91d862fc-947f-41af-c4f9-71854614ff3d"
   },
   "outputs": [
    {
     "data": {
      "text/plain": [
       "['abin',\n",
       " 'Feeder_Category',\n",
       " 'BREAKER_MAKE',\n",
       " 'UpcaseRoadTraffic',\n",
       " 'Upcase_DepthOfCable',\n",
       " 'Upcase_SoilCondition',\n",
       " 'Upcase_LeadExposed',\n",
       " 'Upcase_ArmourCableCondition',\n",
       " 'CABLE_SIZE',\n",
       " 'NO__OF_PARALLEL_RUNNING_CABLES',\n",
       " 'FaultCurrent_Count',\n",
       " '_5Yr_Faults_Count',\n",
       " 'No_of_Load_transfer_Operations',\n",
       " 'No_of_Times_Exceeded100_',\n",
       " 'No_of_times_exceeded_60_',\n",
       " 'No_of_time_below_60_',\n",
       " 'No_of_Times_Exceeded90_',\n",
       " 'LENGTH_OF_CABLE_MTRS_',\n",
       " 'NO__OF_JOINTS',\n",
       " 'AGE_YRS_',\n",
       " 'Number_OF_Cables',\n",
       " 'PILC',\n",
       " 'XLPE',\n",
       " 'DATE_ONLY',\n",
       " 'DAY_OF_WEEK',\n",
       " 'WEEKEND_Y_N_',\n",
       " 'Average_Current',\n",
       " 'MORNING_AVG_CURRENT',\n",
       " 'AFTERNOON_AVG_CURRENT',\n",
       " 'EVENING_AVG_CURRENT',\n",
       " 'Peak_Current',\n",
       " 'Peak_Slab',\n",
       " 'Average_voltage',\n",
       " 'MORNING_AVG_VOLTAGE',\n",
       " 'AFTERNOON_AVG_VOLTAGE',\n",
       " 'EVENING_AVG_VOLTAGE',\n",
       " 'Peak_Voltage',\n",
       " 'target',\n",
       " 'Avg_Heat_Index',\n",
       " 'Morning_AVG_Heat_Index',\n",
       " 'Afternoon_AVG_Heat_Index',\n",
       " 'Evening_Avg_Heat_Index',\n",
       " 'Peak_HI',\n",
       " 'Avg_humidity',\n",
       " 'Morning_AVG_humidity',\n",
       " 'Afternoon_AVG_HUMIDITY',\n",
       " 'Evening_Avg_HUMIDITY',\n",
       " 'Max_Humidity',\n",
       " 'Avg_TEMP',\n",
       " 'Morning_AVG_TEMP',\n",
       " 'Afternoon_AVG_TEMP',\n",
       " 'Evening_Avg_TEMP',\n",
       " 'Max_TEMP',\n",
       " 'IR_Value_After_JointingPHASE_TO',\n",
       " 'MORNING_AVG_CURRENT_N_1',\n",
       " 'MORNING_AVG_CURRENT_N_2',\n",
       " 'AFTERNOON_AVG_CURRENT_N_1',\n",
       " 'AFTERNOON_AVG_CURRENT_N_2',\n",
       " 'EVENING_AVG_CURRENT_N_1',\n",
       " 'EVENING_AVG_CURRENT_N_2',\n",
       " 'MORNING_AVG_VOLTAGE_N_1',\n",
       " 'MORNING_AVG_VOLTAGE_N_2',\n",
       " 'AFTERNOON_AVG_VOLTAGE_N_1',\n",
       " 'AFTERNOON_AVG_VOLTAGE_N_2',\n",
       " 'EVENING_AVG_VOLTAGE_N_1',\n",
       " 'EVENING_AVG_VOLTAGE_N_2',\n",
       " 'TARGET_N_1',\n",
       " 'TARGET_N_2',\n",
       " 'AVERAGE_CURRENT_N_1',\n",
       " 'AVERAGE_CURRENT_N_2',\n",
       " 'AVERAGE_VOLTAGE_N_1',\n",
       " 'AVERAGE_VOLTAGE_N_2',\n",
       " 'AVERAGE_HEAT_INDEX_N_1',\n",
       " 'AVERAGE_HEAT_INDEX_N_2',\n",
       " 'AVERAGE_HUMUDITY_N_1',\n",
       " 'AVERAGE_HUMUDITY_N_2',\n",
       " 'AVERAGE_TEMP_N_1',\n",
       " 'AVERAGE_TEMP_N_2',\n",
       " 'MORNING_AVG_HEAT_INDEX_N_1',\n",
       " 'MORNING_AVG_HEAT_INDEX_N_2',\n",
       " 'AFTERNOON_AVG_HEAT_INDEX_N_1',\n",
       " 'AFTERNOON_AVG_HEAT_INDEX_N_2',\n",
       " 'EVENING_AVG_HEAT_INDEX_N_1',\n",
       " 'EVENING_AVG_HEAT_INDEX_N_2',\n",
       " 'MORNING_AVG_HUMUDITY_N_1',\n",
       " 'MORNING_AVG_HUMUDITY_N_2',\n",
       " 'AFTERNOON_AVG_HUMUDITY_N_1',\n",
       " 'AFTERNOON_AVG_HUMUDITY_N_2',\n",
       " 'EVENING_AVG_HUMUDITY_N_1',\n",
       " 'EVENING_AVG_HUMUDITY_N_2',\n",
       " 'MORNING_AVG_TEMP_N_1',\n",
       " 'MORNING_AVG_TEMP_N_2',\n",
       " 'AFTERNOON_AVG_TEMP_N_1',\n",
       " 'AFTERNOON_AVG_TEMP_N_2',\n",
       " 'EVENING_AVG_TEMP_N_1',\n",
       " 'EVENING_AVG_TEMP_N_2',\n",
       " 'Peak_Current_N_1',\n",
       " 'Peak_Current_N_2',\n",
       " 'Peak_Current_Time_N_1',\n",
       " 'Peak_Current_Time_N_2',\n",
       " 'Peak_Current_Slab_N_1',\n",
       " 'Peak_Current_Slab_N_2',\n",
       " 'New_PublicHoliday',\n",
       " 'New_Summer',\n",
       " 'New_Monsoon',\n",
       " 'New_Winter',\n",
       " '_dataobs_',\n",
       " 'Feeder',\n",
       " 'Switch',\n",
       " 'Section Id',\n",
       " 'Pathid',\n",
       " 'Path Order',\n",
       " 'Lat',\n",
       " 'Long',\n",
       " 'Customer At Risk',\n",
       " 'Revenue At Rsik',\n",
       " 'Assets At Risk',\n",
       " 'Risk Type',\n",
       " 'NoFaultsSince2016']"
      ]
     },
     "execution_count": 5,
     "metadata": {},
     "output_type": "execute_result"
    }
   ],
   "source": [
    "[i for i in df.columns]"
   ]
  },
  {
   "cell_type": "code",
   "execution_count": 6,
   "metadata": {
    "colab": {
     "base_uri": "https://localhost:8080/",
     "height": 594
    },
    "id": "haP_c51ghphF",
    "outputId": "0793bc81-c040-4011-80ed-f97f04bd091c"
   },
   "outputs": [
    {
     "data": {
      "text/html": [
       "<div>\n",
       "<style scoped>\n",
       "    .dataframe tbody tr th:only-of-type {\n",
       "        vertical-align: middle;\n",
       "    }\n",
       "\n",
       "    .dataframe tbody tr th {\n",
       "        vertical-align: top;\n",
       "    }\n",
       "\n",
       "    .dataframe thead th {\n",
       "        text-align: right;\n",
       "    }\n",
       "</style>\n",
       "<table border=\"1\" class=\"dataframe\">\n",
       "  <thead>\n",
       "    <tr style=\"text-align: right;\">\n",
       "      <th></th>\n",
       "      <th>abin</th>\n",
       "      <th>Feeder_Category</th>\n",
       "      <th>BREAKER_MAKE</th>\n",
       "      <th>UpcaseRoadTraffic</th>\n",
       "      <th>Upcase_DepthOfCable</th>\n",
       "      <th>Upcase_SoilCondition</th>\n",
       "      <th>Upcase_LeadExposed</th>\n",
       "      <th>Upcase_ArmourCableCondition</th>\n",
       "      <th>CABLE_SIZE</th>\n",
       "      <th>NO__OF_PARALLEL_RUNNING_CABLES</th>\n",
       "      <th>...</th>\n",
       "      <th>Section Id</th>\n",
       "      <th>Pathid</th>\n",
       "      <th>Path Order</th>\n",
       "      <th>Lat</th>\n",
       "      <th>Long</th>\n",
       "      <th>Customer At Risk</th>\n",
       "      <th>Revenue At Rsik</th>\n",
       "      <th>Assets At Risk</th>\n",
       "      <th>Risk Type</th>\n",
       "      <th>NoFaultsSince2016</th>\n",
       "    </tr>\n",
       "  </thead>\n",
       "  <tbody>\n",
       "    <tr>\n",
       "      <th>295</th>\n",
       "      <td>ND</td>\n",
       "      <td>COM</td>\n",
       "      <td>CR VCB</td>\n",
       "      <td>HEAVY</td>\n",
       "      <td>DEEP</td>\n",
       "      <td>MOIST</td>\n",
       "      <td>YES</td>\n",
       "      <td>CORRODED</td>\n",
       "      <td>240.0</td>\n",
       "      <td>8.0</td>\n",
       "      <td>...</td>\n",
       "      <td>11932-13671-2</td>\n",
       "      <td>NEW AGRIPADA SUB STATION</td>\n",
       "      <td>2.0</td>\n",
       "      <td>19.08753</td>\n",
       "      <td>72.844269</td>\n",
       "      <td>6250.0</td>\n",
       "      <td>93.0</td>\n",
       "      <td>8.0</td>\n",
       "      <td>Low</td>\n",
       "      <td>0.0</td>\n",
       "    </tr>\n",
       "    <tr>\n",
       "      <th>296</th>\n",
       "      <td>ND</td>\n",
       "      <td>COM</td>\n",
       "      <td>CR VCB</td>\n",
       "      <td>HEAVY</td>\n",
       "      <td>DEEP</td>\n",
       "      <td>MOIST</td>\n",
       "      <td>YES</td>\n",
       "      <td>CORRODED</td>\n",
       "      <td>240.0</td>\n",
       "      <td>8.0</td>\n",
       "      <td>...</td>\n",
       "      <td>11932-13671-2</td>\n",
       "      <td>NEW AGRIPADA SUB STATION</td>\n",
       "      <td>2.0</td>\n",
       "      <td>19.08753</td>\n",
       "      <td>72.844269</td>\n",
       "      <td>6250.0</td>\n",
       "      <td>93.0</td>\n",
       "      <td>8.0</td>\n",
       "      <td>Need Further Evaluation</td>\n",
       "      <td>0.0</td>\n",
       "    </tr>\n",
       "    <tr>\n",
       "      <th>297</th>\n",
       "      <td>ED</td>\n",
       "      <td>RES</td>\n",
       "      <td>SIEMENS VCB</td>\n",
       "      <td>MODERATE</td>\n",
       "      <td>NORMAL</td>\n",
       "      <td>DRY</td>\n",
       "      <td>NO</td>\n",
       "      <td>STRONG</td>\n",
       "      <td>240.0</td>\n",
       "      <td>3.0</td>\n",
       "      <td>...</td>\n",
       "      <td>11932-13671-2</td>\n",
       "      <td>NEW AGRIPADA SUB STATION</td>\n",
       "      <td>2.0</td>\n",
       "      <td>19.08753</td>\n",
       "      <td>72.844269</td>\n",
       "      <td>6250.0</td>\n",
       "      <td>93.0</td>\n",
       "      <td>8.0</td>\n",
       "      <td>Low</td>\n",
       "      <td>4.0</td>\n",
       "    </tr>\n",
       "    <tr>\n",
       "      <th>298</th>\n",
       "      <td>ND</td>\n",
       "      <td>RES</td>\n",
       "      <td>VOLTAS SF6</td>\n",
       "      <td>MODERATE</td>\n",
       "      <td>NORMAL</td>\n",
       "      <td>DRY</td>\n",
       "      <td>NO</td>\n",
       "      <td>CORRODED</td>\n",
       "      <td>240.0</td>\n",
       "      <td>3.0</td>\n",
       "      <td>...</td>\n",
       "      <td>11932-13671-2</td>\n",
       "      <td>NEW AGRIPADA SUB STATION</td>\n",
       "      <td>2.0</td>\n",
       "      <td>19.08753</td>\n",
       "      <td>72.844269</td>\n",
       "      <td>6250.0</td>\n",
       "      <td>93.0</td>\n",
       "      <td>8.0</td>\n",
       "      <td>Need Further Evaluation</td>\n",
       "      <td>0.0</td>\n",
       "    </tr>\n",
       "    <tr>\n",
       "      <th>299</th>\n",
       "      <td>SD</td>\n",
       "      <td>RES</td>\n",
       "      <td>AREVA VCB</td>\n",
       "      <td>MODERATE</td>\n",
       "      <td>NORMAL</td>\n",
       "      <td>DRY</td>\n",
       "      <td>NO</td>\n",
       "      <td>STRONG</td>\n",
       "      <td>225.0</td>\n",
       "      <td>2.0</td>\n",
       "      <td>...</td>\n",
       "      <td>11932-13671-2</td>\n",
       "      <td>NEW AGRIPADA SUB STATION</td>\n",
       "      <td>2.0</td>\n",
       "      <td>19.08753</td>\n",
       "      <td>72.844269</td>\n",
       "      <td>6250.0</td>\n",
       "      <td>93.0</td>\n",
       "      <td>8.0</td>\n",
       "      <td>Need Further Evaluation</td>\n",
       "      <td>7.0</td>\n",
       "    </tr>\n",
       "  </tbody>\n",
       "</table>\n",
       "<p>5 rows × 119 columns</p>\n",
       "</div>"
      ],
      "text/plain": [
       "    abin Feeder_Category BREAKER_MAKE UpcaseRoadTraffic Upcase_DepthOfCable   \n",
       "295   ND             COM       CR VCB             HEAVY                DEEP  \\\n",
       "296   ND             COM       CR VCB             HEAVY                DEEP   \n",
       "297   ED             RES  SIEMENS VCB          MODERATE              NORMAL   \n",
       "298   ND             RES   VOLTAS SF6          MODERATE              NORMAL   \n",
       "299   SD             RES    AREVA VCB          MODERATE              NORMAL   \n",
       "\n",
       "    Upcase_SoilCondition Upcase_LeadExposed Upcase_ArmourCableCondition   \n",
       "295                MOIST                YES                    CORRODED  \\\n",
       "296                MOIST                YES                    CORRODED   \n",
       "297                  DRY                 NO                      STRONG   \n",
       "298                  DRY                 NO                    CORRODED   \n",
       "299                  DRY                 NO                      STRONG   \n",
       "\n",
       "     CABLE_SIZE  NO__OF_PARALLEL_RUNNING_CABLES  ...     Section Id   \n",
       "295       240.0                             8.0  ...  11932-13671-2  \\\n",
       "296       240.0                             8.0  ...  11932-13671-2   \n",
       "297       240.0                             3.0  ...  11932-13671-2   \n",
       "298       240.0                             3.0  ...  11932-13671-2   \n",
       "299       225.0                             2.0  ...  11932-13671-2   \n",
       "\n",
       "                       Pathid  Path Order       Lat       Long   \n",
       "295  NEW AGRIPADA SUB STATION         2.0  19.08753  72.844269  \\\n",
       "296  NEW AGRIPADA SUB STATION         2.0  19.08753  72.844269   \n",
       "297  NEW AGRIPADA SUB STATION         2.0  19.08753  72.844269   \n",
       "298  NEW AGRIPADA SUB STATION         2.0  19.08753  72.844269   \n",
       "299  NEW AGRIPADA SUB STATION         2.0  19.08753  72.844269   \n",
       "\n",
       "     Customer At Risk  Revenue At Rsik  Assets At Risk   \n",
       "295            6250.0             93.0             8.0  \\\n",
       "296            6250.0             93.0             8.0   \n",
       "297            6250.0             93.0             8.0   \n",
       "298            6250.0             93.0             8.0   \n",
       "299            6250.0             93.0             8.0   \n",
       "\n",
       "                   Risk Type  NoFaultsSince2016  \n",
       "295                      Low                0.0  \n",
       "296  Need Further Evaluation                0.0  \n",
       "297                      Low                4.0  \n",
       "298  Need Further Evaluation                0.0  \n",
       "299  Need Further Evaluation                7.0  \n",
       "\n",
       "[5 rows x 119 columns]"
      ]
     },
     "execution_count": 6,
     "metadata": {},
     "output_type": "execute_result"
    }
   ],
   "source": [
    "df.tail()"
   ]
  },
  {
   "cell_type": "code",
   "execution_count": 7,
   "metadata": {
    "colab": {
     "base_uri": "https://localhost:8080/"
    },
    "id": "mZjdnalHjjkh",
    "outputId": "d68eeccb-0042-4d5e-8aa7-0b9316e189b2"
   },
   "outputs": [
    {
     "name": "stdout",
     "output_type": "stream",
     "text": [
      "Datatype abin : object\n",
      "Datatype Feeder_Category : object\n",
      "Datatype BREAKER_MAKE : object\n",
      "Datatype UpcaseRoadTraffic : object\n",
      "Datatype Upcase_DepthOfCable : object\n",
      "Datatype Upcase_SoilCondition : object\n",
      "Datatype Upcase_LeadExposed : object\n",
      "Datatype Upcase_ArmourCableCondition : object\n",
      "Datatype CABLE_SIZE : float64\n",
      "Datatype NO__OF_PARALLEL_RUNNING_CABLES : float64\n",
      "Datatype FaultCurrent_Count : float64\n",
      "Datatype _5Yr_Faults_Count : float64\n",
      "Datatype No_of_Load_transfer_Operations : float64\n",
      "Datatype No_of_Times_Exceeded100_ : float64\n",
      "Datatype No_of_times_exceeded_60_ : float64\n",
      "Datatype No_of_time_below_60_ : float64\n",
      "Datatype No_of_Times_Exceeded90_ : float64\n",
      "Datatype LENGTH_OF_CABLE_MTRS_ : float64\n",
      "Datatype NO__OF_JOINTS : float64\n",
      "Datatype AGE_YRS_ : float64\n",
      "Datatype Number_OF_Cables : float64\n",
      "Datatype PILC : float64\n",
      "Datatype XLPE : float64\n",
      "Datatype DATE_ONLY : object\n",
      "Datatype DAY_OF_WEEK : float64\n",
      "Datatype WEEKEND_Y_N_ : object\n",
      "Datatype Average_Current : float64\n",
      "Datatype MORNING_AVG_CURRENT : float64\n",
      "Datatype AFTERNOON_AVG_CURRENT : float64\n",
      "Datatype EVENING_AVG_CURRENT : float64\n",
      "Datatype Peak_Current : float64\n",
      "Datatype Peak_Slab : object\n",
      "Datatype Average_voltage : float64\n",
      "Datatype MORNING_AVG_VOLTAGE : float64\n",
      "Datatype AFTERNOON_AVG_VOLTAGE : float64\n",
      "Datatype EVENING_AVG_VOLTAGE : float64\n",
      "Datatype Peak_Voltage : float64\n",
      "Datatype target : float64\n",
      "Datatype Avg_Heat_Index : float64\n",
      "Datatype Morning_AVG_Heat_Index : float64\n",
      "Datatype Afternoon_AVG_Heat_Index : float64\n",
      "Datatype Evening_Avg_Heat_Index : float64\n",
      "Datatype Peak_HI : float64\n",
      "Datatype Avg_humidity : float64\n",
      "Datatype Morning_AVG_humidity : float64\n",
      "Datatype Afternoon_AVG_HUMIDITY : float64\n",
      "Datatype Evening_Avg_HUMIDITY : float64\n",
      "Datatype Max_Humidity : float64\n",
      "Datatype Avg_TEMP : float64\n",
      "Datatype Morning_AVG_TEMP : float64\n",
      "Datatype Afternoon_AVG_TEMP : float64\n",
      "Datatype Evening_Avg_TEMP : float64\n",
      "Datatype Max_TEMP : float64\n",
      "Datatype IR_Value_After_JointingPHASE_TO : float64\n",
      "Datatype MORNING_AVG_CURRENT_N_1 : float64\n",
      "Datatype MORNING_AVG_CURRENT_N_2 : float64\n",
      "Datatype AFTERNOON_AVG_CURRENT_N_1 : float64\n",
      "Datatype AFTERNOON_AVG_CURRENT_N_2 : float64\n",
      "Datatype EVENING_AVG_CURRENT_N_1 : float64\n",
      "Datatype EVENING_AVG_CURRENT_N_2 : float64\n",
      "Datatype MORNING_AVG_VOLTAGE_N_1 : float64\n",
      "Datatype MORNING_AVG_VOLTAGE_N_2 : float64\n",
      "Datatype AFTERNOON_AVG_VOLTAGE_N_1 : float64\n",
      "Datatype AFTERNOON_AVG_VOLTAGE_N_2 : float64\n",
      "Datatype EVENING_AVG_VOLTAGE_N_1 : float64\n",
      "Datatype EVENING_AVG_VOLTAGE_N_2 : float64\n",
      "Datatype TARGET_N_1 : float64\n",
      "Datatype TARGET_N_2 : float64\n",
      "Datatype AVERAGE_CURRENT_N_1 : float64\n",
      "Datatype AVERAGE_CURRENT_N_2 : float64\n",
      "Datatype AVERAGE_VOLTAGE_N_1 : float64\n",
      "Datatype AVERAGE_VOLTAGE_N_2 : float64\n",
      "Datatype AVERAGE_HEAT_INDEX_N_1 : float64\n",
      "Datatype AVERAGE_HEAT_INDEX_N_2 : float64\n",
      "Datatype AVERAGE_HUMUDITY_N_1 : float64\n",
      "Datatype AVERAGE_HUMUDITY_N_2 : float64\n",
      "Datatype AVERAGE_TEMP_N_1 : float64\n",
      "Datatype AVERAGE_TEMP_N_2 : float64\n",
      "Datatype MORNING_AVG_HEAT_INDEX_N_1 : float64\n",
      "Datatype MORNING_AVG_HEAT_INDEX_N_2 : float64\n",
      "Datatype AFTERNOON_AVG_HEAT_INDEX_N_1 : float64\n",
      "Datatype AFTERNOON_AVG_HEAT_INDEX_N_2 : float64\n",
      "Datatype EVENING_AVG_HEAT_INDEX_N_1 : float64\n",
      "Datatype EVENING_AVG_HEAT_INDEX_N_2 : float64\n",
      "Datatype MORNING_AVG_HUMUDITY_N_1 : float64\n",
      "Datatype MORNING_AVG_HUMUDITY_N_2 : float64\n",
      "Datatype AFTERNOON_AVG_HUMUDITY_N_1 : float64\n",
      "Datatype AFTERNOON_AVG_HUMUDITY_N_2 : float64\n",
      "Datatype EVENING_AVG_HUMUDITY_N_1 : float64\n",
      "Datatype EVENING_AVG_HUMUDITY_N_2 : float64\n",
      "Datatype MORNING_AVG_TEMP_N_1 : float64\n",
      "Datatype MORNING_AVG_TEMP_N_2 : float64\n",
      "Datatype AFTERNOON_AVG_TEMP_N_1 : float64\n",
      "Datatype AFTERNOON_AVG_TEMP_N_2 : float64\n",
      "Datatype EVENING_AVG_TEMP_N_1 : float64\n",
      "Datatype EVENING_AVG_TEMP_N_2 : float64\n",
      "Datatype Peak_Current_N_1 : float64\n",
      "Datatype Peak_Current_N_2 : float64\n",
      "Datatype Peak_Current_Time_N_1 : float64\n",
      "Datatype Peak_Current_Time_N_2 : float64\n",
      "Datatype Peak_Current_Slab_N_1 : object\n",
      "Datatype Peak_Current_Slab_N_2 : object\n",
      "Datatype New_PublicHoliday : object\n",
      "Datatype New_Summer : object\n",
      "Datatype New_Monsoon : object\n",
      "Datatype New_Winter : object\n",
      "Datatype _dataobs_ : float64\n",
      "Datatype Feeder : float64\n",
      "Datatype Switch : float64\n",
      "Datatype Section Id : object\n",
      "Datatype Pathid : object\n",
      "Datatype Path Order : float64\n",
      "Datatype Lat : float64\n",
      "Datatype Long : float64\n",
      "Datatype Customer At Risk : float64\n",
      "Datatype Revenue At Rsik : float64\n",
      "Datatype Assets At Risk : float64\n",
      "Datatype Risk Type : object\n",
      "Datatype NoFaultsSince2016 : float64\n"
     ]
    }
   ],
   "source": [
    "for i in df.columns:\n",
    "  print(f\"Datatype {i} : {df[i].dtypes}\")"
   ]
  },
  {
   "cell_type": "code",
   "execution_count": 8,
   "metadata": {
    "colab": {
     "base_uri": "https://localhost:8080/"
    },
    "id": "9ORyTrMph_pY",
    "outputId": "f532b871-8aa4-4bf2-c190-c2b80c79ef79"
   },
   "outputs": [
    {
     "data": {
      "text/plain": [
       "abin\n",
       "ED     100\n",
       "CD      66\n",
       "ND      57\n",
       "SCD     45\n",
       "SD      32\n",
       "Name: count, dtype: int64"
      ]
     },
     "execution_count": 8,
     "metadata": {},
     "output_type": "execute_result"
    }
   ],
   "source": [
    "df['abin'].value_counts()"
   ]
  },
  {
   "cell_type": "code",
   "execution_count": 9,
   "metadata": {
    "id": "hko91PpXjfyk"
   },
   "outputs": [
    {
     "name": "stderr",
     "output_type": "stream",
     "text": [
      "C:\\Users\\YR272YB\\AppData\\Local\\Temp\\ipykernel_11744\\3110347150.py:1: SettingWithCopyWarning: \n",
      "A value is trying to be set on a copy of a slice from a DataFrame.\n",
      "Try using .loc[row_indexer,col_indexer] = value instead\n",
      "\n",
      "See the caveats in the documentation: https://pandas.pydata.org/pandas-docs/stable/user_guide/indexing.html#returning-a-view-versus-a-copy\n",
      "  df['abin'] = df['abin'].map({\n"
     ]
    }
   ],
   "source": [
    "df['abin'] = df['abin'].map({\n",
    "    'ED':0,\n",
    "    'CD':1,\n",
    "    'ND':2,\n",
    "    'SCD':3,\n",
    "    'SD':4\n",
    "})"
   ]
  },
  {
   "cell_type": "code",
   "execution_count": 10,
   "metadata": {
    "id": "pEByJntVlA2r"
   },
   "outputs": [
    {
     "name": "stderr",
     "output_type": "stream",
     "text": [
      "C:\\Users\\YR272YB\\AppData\\Local\\Temp\\ipykernel_11744\\1511456532.py:1: SettingWithCopyWarning: \n",
      "A value is trying to be set on a copy of a slice from a DataFrame.\n",
      "Try using .loc[row_indexer,col_indexer] = value instead\n",
      "\n",
      "See the caveats in the documentation: https://pandas.pydata.org/pandas-docs/stable/user_guide/indexing.html#returning-a-view-versus-a-copy\n",
      "  df['Feeder_Category'] = df['Feeder_Category'].map({\n"
     ]
    }
   ],
   "source": [
    "df['Feeder_Category'] = df['Feeder_Category'].map({\n",
    "    'RES':0,\n",
    "    'COM':1,\n",
    "    'MIX':2\n",
    "})"
   ]
  },
  {
   "cell_type": "code",
   "execution_count": 11,
   "metadata": {
    "id": "H4cHIx56liAM"
   },
   "outputs": [
    {
     "name": "stderr",
     "output_type": "stream",
     "text": [
      "C:\\Users\\YR272YB\\AppData\\Local\\Temp\\ipykernel_11744\\419932007.py:1: SettingWithCopyWarning: \n",
      "A value is trying to be set on a copy of a slice from a DataFrame.\n",
      "Try using .loc[row_indexer,col_indexer] = value instead\n",
      "\n",
      "See the caveats in the documentation: https://pandas.pydata.org/pandas-docs/stable/user_guide/indexing.html#returning-a-view-versus-a-copy\n",
      "  df['BREAKER_MAKE'] = df['BREAKER_MAKE'].map({\n"
     ]
    }
   ],
   "source": [
    "df['BREAKER_MAKE'] = df['BREAKER_MAKE'].map({\n",
    "    'SIEMENS VCB':0,\n",
    "    'ABB SF6':1,\n",
    "    'CR VCB':2,\n",
    "    'SCHNIDER VCB':3,\n",
    "    'VOLTAS SF6':4,\n",
    "    'CG VCB':5,\n",
    "    'ABB VCB':6,\n",
    "    'JYOTI VCB':7,\n",
    "    'AREVA VCB':8\n",
    "\n",
    "})"
   ]
  },
  {
   "cell_type": "code",
   "execution_count": 12,
   "metadata": {
    "id": "TR7x0ivUmjO8"
   },
   "outputs": [
    {
     "name": "stderr",
     "output_type": "stream",
     "text": [
      "C:\\Users\\YR272YB\\AppData\\Local\\Temp\\ipykernel_11744\\1774184305.py:1: SettingWithCopyWarning: \n",
      "A value is trying to be set on a copy of a slice from a DataFrame.\n",
      "Try using .loc[row_indexer,col_indexer] = value instead\n",
      "\n",
      "See the caveats in the documentation: https://pandas.pydata.org/pandas-docs/stable/user_guide/indexing.html#returning-a-view-versus-a-copy\n",
      "  df['UpcaseRoadTraffic'] = df['UpcaseRoadTraffic'].map({\n"
     ]
    }
   ],
   "source": [
    "df['UpcaseRoadTraffic'] = df['UpcaseRoadTraffic'].map({\n",
    "    'HEAVY':0,\n",
    "    'MODERATE':1,\n",
    "    'LOW':2\n",
    "})"
   ]
  },
  {
   "cell_type": "code",
   "execution_count": 13,
   "metadata": {
    "id": "NHEcm28dm3FV"
   },
   "outputs": [
    {
     "name": "stderr",
     "output_type": "stream",
     "text": [
      "C:\\Users\\YR272YB\\AppData\\Local\\Temp\\ipykernel_11744\\3502059546.py:1: SettingWithCopyWarning: \n",
      "A value is trying to be set on a copy of a slice from a DataFrame.\n",
      "Try using .loc[row_indexer,col_indexer] = value instead\n",
      "\n",
      "See the caveats in the documentation: https://pandas.pydata.org/pandas-docs/stable/user_guide/indexing.html#returning-a-view-versus-a-copy\n",
      "  df['Upcase_DepthOfCable'] = df['Upcase_DepthOfCable'].map({\n"
     ]
    }
   ],
   "source": [
    "df['Upcase_DepthOfCable'] = df['Upcase_DepthOfCable'].map({\n",
    "    'NORMAL':0,\n",
    "    'SHALLOW':1,\n",
    "    'DEEP':2\n",
    "})"
   ]
  },
  {
   "cell_type": "code",
   "execution_count": 14,
   "metadata": {
    "id": "C2feBGV0nUpl"
   },
   "outputs": [
    {
     "name": "stderr",
     "output_type": "stream",
     "text": [
      "C:\\Users\\YR272YB\\AppData\\Local\\Temp\\ipykernel_11744\\3477594548.py:1: SettingWithCopyWarning: \n",
      "A value is trying to be set on a copy of a slice from a DataFrame.\n",
      "Try using .loc[row_indexer,col_indexer] = value instead\n",
      "\n",
      "See the caveats in the documentation: https://pandas.pydata.org/pandas-docs/stable/user_guide/indexing.html#returning-a-view-versus-a-copy\n",
      "  df['Upcase_SoilCondition'] = df['Upcase_SoilCondition'].map({\n"
     ]
    }
   ],
   "source": [
    "df['Upcase_SoilCondition'] = df['Upcase_SoilCondition'].map({\n",
    "    'DRY':0,\n",
    "    'MOIST':1,\n",
    "    'WET':2,\n",
    "    'ROCKY':3\n",
    "})"
   ]
  },
  {
   "cell_type": "code",
   "execution_count": 15,
   "metadata": {
    "id": "k1HDkvfNnui6"
   },
   "outputs": [
    {
     "name": "stderr",
     "output_type": "stream",
     "text": [
      "C:\\Users\\YR272YB\\AppData\\Local\\Temp\\ipykernel_11744\\1988730323.py:1: SettingWithCopyWarning: \n",
      "A value is trying to be set on a copy of a slice from a DataFrame.\n",
      "Try using .loc[row_indexer,col_indexer] = value instead\n",
      "\n",
      "See the caveats in the documentation: https://pandas.pydata.org/pandas-docs/stable/user_guide/indexing.html#returning-a-view-versus-a-copy\n",
      "  df['Upcase_LeadExposed'] = df['Upcase_LeadExposed'].map({\n"
     ]
    }
   ],
   "source": [
    "df['Upcase_LeadExposed'] = df['Upcase_LeadExposed'].map({\n",
    "    'NO':0,\n",
    "    'YES':1\n",
    "})"
   ]
  },
  {
   "cell_type": "code",
   "execution_count": 16,
   "metadata": {
    "id": "3j7Ug96zoA34",
    "scrolled": true
   },
   "outputs": [
    {
     "name": "stderr",
     "output_type": "stream",
     "text": [
      "C:\\Users\\YR272YB\\AppData\\Local\\Temp\\ipykernel_11744\\3837426453.py:1: SettingWithCopyWarning: \n",
      "A value is trying to be set on a copy of a slice from a DataFrame.\n",
      "Try using .loc[row_indexer,col_indexer] = value instead\n",
      "\n",
      "See the caveats in the documentation: https://pandas.pydata.org/pandas-docs/stable/user_guide/indexing.html#returning-a-view-versus-a-copy\n",
      "  df['Upcase_ArmourCableCondition'] = df['Upcase_ArmourCableCondition'].map({\n"
     ]
    }
   ],
   "source": [
    "df['Upcase_ArmourCableCondition'] = df['Upcase_ArmourCableCondition'].map({\n",
    "    'STRONG':0,\n",
    "    'CORRODED':1,\n",
    "    'EXPOSED':2\n",
    "})"
   ]
  },
  {
   "cell_type": "code",
   "execution_count": 17,
   "metadata": {
    "colab": {
     "base_uri": "https://localhost:8080/"
    },
    "id": "EB4vE-1aocAD",
    "outputId": "a0d83a4a-d838-4687-8ab4-4c58cd6e2eec"
   },
   "outputs": [
    {
     "ename": "ValueError",
     "evalue": "time data \"15-01-2016\" doesn't match format \"%m-%d-%Y\", at position 1. You might want to try:\n    - passing `format` if your strings have a consistent format;\n    - passing `format='ISO8601'` if your strings are all ISO8601 but not necessarily in exactly the same format;\n    - passing `format='mixed'`, and the format will be inferred for each element individually. You might want to use `dayfirst` alongside this.",
     "output_type": "error",
     "traceback": [
      "\u001b[1;31m---------------------------------------------------------------------------\u001b[0m",
      "\u001b[1;31mValueError\u001b[0m                                Traceback (most recent call last)",
      "Cell \u001b[1;32mIn[17], line 1\u001b[0m\n\u001b[1;32m----> 1\u001b[0m df[\u001b[38;5;124m'\u001b[39m\u001b[38;5;124mDATE_ONLY\u001b[39m\u001b[38;5;124m'\u001b[39m] \u001b[38;5;241m=\u001b[39m \u001b[43mpd\u001b[49m\u001b[38;5;241;43m.\u001b[39;49m\u001b[43mto_datetime\u001b[49m\u001b[43m(\u001b[49m\u001b[43mdf\u001b[49m\u001b[43m[\u001b[49m\u001b[38;5;124;43m'\u001b[39;49m\u001b[38;5;124;43mDATE_ONLY\u001b[39;49m\u001b[38;5;124;43m'\u001b[39;49m\u001b[43m]\u001b[49m\u001b[43m)\u001b[49m\n\u001b[0;32m      3\u001b[0m df[\u001b[38;5;124m'\u001b[39m\u001b[38;5;124mDATE_ONLY_Day\u001b[39m\u001b[38;5;124m'\u001b[39m] \u001b[38;5;241m=\u001b[39m df[\u001b[38;5;124m'\u001b[39m\u001b[38;5;124mDATE_ONLY\u001b[39m\u001b[38;5;124m'\u001b[39m]\u001b[38;5;241m.\u001b[39mdt\u001b[38;5;241m.\u001b[39mday\n\u001b[0;32m      4\u001b[0m df[\u001b[38;5;124m'\u001b[39m\u001b[38;5;124mDATE_ONLY_Month\u001b[39m\u001b[38;5;124m'\u001b[39m] \u001b[38;5;241m=\u001b[39m df[\u001b[38;5;124m'\u001b[39m\u001b[38;5;124mDATE_ONLY\u001b[39m\u001b[38;5;124m'\u001b[39m]\u001b[38;5;241m.\u001b[39mdt\u001b[38;5;241m.\u001b[39mmonth\n",
      "File \u001b[1;32m~\\.virtualenvs\\Global_Utility_05-sbsjTaLH\\lib\\site-packages\\pandas\\core\\tools\\datetimes.py:1050\u001b[0m, in \u001b[0;36mto_datetime\u001b[1;34m(arg, errors, dayfirst, yearfirst, utc, format, exact, unit, infer_datetime_format, origin, cache)\u001b[0m\n\u001b[0;32m   1048\u001b[0m         result \u001b[38;5;241m=\u001b[39m arg\u001b[38;5;241m.\u001b[39mmap(cache_array)\n\u001b[0;32m   1049\u001b[0m     \u001b[38;5;28;01melse\u001b[39;00m:\n\u001b[1;32m-> 1050\u001b[0m         values \u001b[38;5;241m=\u001b[39m \u001b[43mconvert_listlike\u001b[49m\u001b[43m(\u001b[49m\u001b[43marg\u001b[49m\u001b[38;5;241;43m.\u001b[39;49m\u001b[43m_values\u001b[49m\u001b[43m,\u001b[49m\u001b[43m \u001b[49m\u001b[38;5;28;43mformat\u001b[39;49m\u001b[43m)\u001b[49m\n\u001b[0;32m   1051\u001b[0m         result \u001b[38;5;241m=\u001b[39m arg\u001b[38;5;241m.\u001b[39m_constructor(values, index\u001b[38;5;241m=\u001b[39marg\u001b[38;5;241m.\u001b[39mindex, name\u001b[38;5;241m=\u001b[39marg\u001b[38;5;241m.\u001b[39mname)\n\u001b[0;32m   1052\u001b[0m \u001b[38;5;28;01melif\u001b[39;00m \u001b[38;5;28misinstance\u001b[39m(arg, (ABCDataFrame, abc\u001b[38;5;241m.\u001b[39mMutableMapping)):\n",
      "File \u001b[1;32m~\\.virtualenvs\\Global_Utility_05-sbsjTaLH\\lib\\site-packages\\pandas\\core\\tools\\datetimes.py:453\u001b[0m, in \u001b[0;36m_convert_listlike_datetimes\u001b[1;34m(arg, format, name, utc, unit, errors, dayfirst, yearfirst, exact)\u001b[0m\n\u001b[0;32m    451\u001b[0m \u001b[38;5;66;03m# `format` could be inferred, or user didn't ask for mixed-format parsing.\u001b[39;00m\n\u001b[0;32m    452\u001b[0m \u001b[38;5;28;01mif\u001b[39;00m \u001b[38;5;28mformat\u001b[39m \u001b[38;5;129;01mis\u001b[39;00m \u001b[38;5;129;01mnot\u001b[39;00m \u001b[38;5;28;01mNone\u001b[39;00m \u001b[38;5;129;01mand\u001b[39;00m \u001b[38;5;28mformat\u001b[39m \u001b[38;5;241m!=\u001b[39m \u001b[38;5;124m\"\u001b[39m\u001b[38;5;124mmixed\u001b[39m\u001b[38;5;124m\"\u001b[39m:\n\u001b[1;32m--> 453\u001b[0m     \u001b[38;5;28;01mreturn\u001b[39;00m \u001b[43m_array_strptime_with_fallback\u001b[49m\u001b[43m(\u001b[49m\u001b[43marg\u001b[49m\u001b[43m,\u001b[49m\u001b[43m \u001b[49m\u001b[43mname\u001b[49m\u001b[43m,\u001b[49m\u001b[43m \u001b[49m\u001b[43mutc\u001b[49m\u001b[43m,\u001b[49m\u001b[43m \u001b[49m\u001b[38;5;28;43mformat\u001b[39;49m\u001b[43m,\u001b[49m\u001b[43m \u001b[49m\u001b[43mexact\u001b[49m\u001b[43m,\u001b[49m\u001b[43m \u001b[49m\u001b[43merrors\u001b[49m\u001b[43m)\u001b[49m\n\u001b[0;32m    455\u001b[0m result, tz_parsed \u001b[38;5;241m=\u001b[39m objects_to_datetime64ns(\n\u001b[0;32m    456\u001b[0m     arg,\n\u001b[0;32m    457\u001b[0m     dayfirst\u001b[38;5;241m=\u001b[39mdayfirst,\n\u001b[1;32m   (...)\u001b[0m\n\u001b[0;32m    461\u001b[0m     allow_object\u001b[38;5;241m=\u001b[39m\u001b[38;5;28;01mTrue\u001b[39;00m,\n\u001b[0;32m    462\u001b[0m )\n\u001b[0;32m    464\u001b[0m \u001b[38;5;28;01mif\u001b[39;00m tz_parsed \u001b[38;5;129;01mis\u001b[39;00m \u001b[38;5;129;01mnot\u001b[39;00m \u001b[38;5;28;01mNone\u001b[39;00m:\n\u001b[0;32m    465\u001b[0m     \u001b[38;5;66;03m# We can take a shortcut since the datetime64 numpy array\u001b[39;00m\n\u001b[0;32m    466\u001b[0m     \u001b[38;5;66;03m# is in UTC\u001b[39;00m\n",
      "File \u001b[1;32m~\\.virtualenvs\\Global_Utility_05-sbsjTaLH\\lib\\site-packages\\pandas\\core\\tools\\datetimes.py:484\u001b[0m, in \u001b[0;36m_array_strptime_with_fallback\u001b[1;34m(arg, name, utc, fmt, exact, errors)\u001b[0m\n\u001b[0;32m    473\u001b[0m \u001b[38;5;28;01mdef\u001b[39;00m \u001b[38;5;21m_array_strptime_with_fallback\u001b[39m(\n\u001b[0;32m    474\u001b[0m     arg,\n\u001b[0;32m    475\u001b[0m     name,\n\u001b[1;32m   (...)\u001b[0m\n\u001b[0;32m    479\u001b[0m     errors: \u001b[38;5;28mstr\u001b[39m,\n\u001b[0;32m    480\u001b[0m ) \u001b[38;5;241m-\u001b[39m\u001b[38;5;241m>\u001b[39m Index:\n\u001b[0;32m    481\u001b[0m \u001b[38;5;250m    \u001b[39m\u001b[38;5;124;03m\"\"\"\u001b[39;00m\n\u001b[0;32m    482\u001b[0m \u001b[38;5;124;03m    Call array_strptime, with fallback behavior depending on 'errors'.\u001b[39;00m\n\u001b[0;32m    483\u001b[0m \u001b[38;5;124;03m    \"\"\"\u001b[39;00m\n\u001b[1;32m--> 484\u001b[0m     result, timezones \u001b[38;5;241m=\u001b[39m \u001b[43marray_strptime\u001b[49m\u001b[43m(\u001b[49m\u001b[43marg\u001b[49m\u001b[43m,\u001b[49m\u001b[43m \u001b[49m\u001b[43mfmt\u001b[49m\u001b[43m,\u001b[49m\u001b[43m \u001b[49m\u001b[43mexact\u001b[49m\u001b[38;5;241;43m=\u001b[39;49m\u001b[43mexact\u001b[49m\u001b[43m,\u001b[49m\u001b[43m \u001b[49m\u001b[43merrors\u001b[49m\u001b[38;5;241;43m=\u001b[39;49m\u001b[43merrors\u001b[49m\u001b[43m,\u001b[49m\u001b[43m \u001b[49m\u001b[43mutc\u001b[49m\u001b[38;5;241;43m=\u001b[39;49m\u001b[43mutc\u001b[49m\u001b[43m)\u001b[49m\n\u001b[0;32m    485\u001b[0m     \u001b[38;5;28;01mif\u001b[39;00m \u001b[38;5;28many\u001b[39m(tz \u001b[38;5;129;01mis\u001b[39;00m \u001b[38;5;129;01mnot\u001b[39;00m \u001b[38;5;28;01mNone\u001b[39;00m \u001b[38;5;28;01mfor\u001b[39;00m tz \u001b[38;5;129;01min\u001b[39;00m timezones):\n\u001b[0;32m    486\u001b[0m         \u001b[38;5;28;01mreturn\u001b[39;00m _return_parsed_timezone_results(result, timezones, utc, name)\n",
      "File \u001b[1;32m~\\.virtualenvs\\Global_Utility_05-sbsjTaLH\\lib\\site-packages\\pandas\\_libs\\tslibs\\strptime.pyx:530\u001b[0m, in \u001b[0;36mpandas._libs.tslibs.strptime.array_strptime\u001b[1;34m()\u001b[0m\n",
      "File \u001b[1;32m~\\.virtualenvs\\Global_Utility_05-sbsjTaLH\\lib\\site-packages\\pandas\\_libs\\tslibs\\strptime.pyx:351\u001b[0m, in \u001b[0;36mpandas._libs.tslibs.strptime.array_strptime\u001b[1;34m()\u001b[0m\n",
      "\u001b[1;31mValueError\u001b[0m: time data \"15-01-2016\" doesn't match format \"%m-%d-%Y\", at position 1. You might want to try:\n    - passing `format` if your strings have a consistent format;\n    - passing `format='ISO8601'` if your strings are all ISO8601 but not necessarily in exactly the same format;\n    - passing `format='mixed'`, and the format will be inferred for each element individually. You might want to use `dayfirst` alongside this."
     ]
    }
   ],
   "source": [
    "df['DATE_ONLY'] = pd.to_datetime(df['DATE_ONLY'])\n",
    "\n",
    "df['DATE_ONLY_Day'] = df['DATE_ONLY'].dt.day\n",
    "df['DATE_ONLY_Month'] = df['DATE_ONLY'].dt.month\n",
    "df['DATE_ONLY_Year'] = df['DATE_ONLY'].dt.year\n",
    "df['DATE_ONLY_Week'] = df['DATE_ONLY'].dt.week"
   ]
  },
  {
   "cell_type": "code",
   "execution_count": 18,
   "metadata": {
    "id": "gnBEQtAEvL7Y"
   },
   "outputs": [
    {
     "name": "stderr",
     "output_type": "stream",
     "text": [
      "C:\\Users\\YR272YB\\AppData\\Local\\Temp\\ipykernel_11744\\1842499797.py:1: SettingWithCopyWarning: \n",
      "A value is trying to be set on a copy of a slice from a DataFrame.\n",
      "Try using .loc[row_indexer,col_indexer] = value instead\n",
      "\n",
      "See the caveats in the documentation: https://pandas.pydata.org/pandas-docs/stable/user_guide/indexing.html#returning-a-view-versus-a-copy\n",
      "  df['WEEKEND_Y_N_'] = df['WEEKEND_Y_N_'].map({\n"
     ]
    }
   ],
   "source": [
    "df['WEEKEND_Y_N_'] = df['WEEKEND_Y_N_'].map({\n",
    "    'N':0,\n",
    "    'Y':1\n",
    "})"
   ]
  },
  {
   "cell_type": "code",
   "execution_count": 19,
   "metadata": {
    "id": "dab3sZTOvQDq"
   },
   "outputs": [
    {
     "name": "stderr",
     "output_type": "stream",
     "text": [
      "C:\\Users\\YR272YB\\AppData\\Local\\Temp\\ipykernel_11744\\2284428923.py:1: SettingWithCopyWarning: \n",
      "A value is trying to be set on a copy of a slice from a DataFrame.\n",
      "Try using .loc[row_indexer,col_indexer] = value instead\n",
      "\n",
      "See the caveats in the documentation: https://pandas.pydata.org/pandas-docs/stable/user_guide/indexing.html#returning-a-view-versus-a-copy\n",
      "  df['Peak_Slab'] = df['Peak_Slab'].map({\n"
     ]
    }
   ],
   "source": [
    "df['Peak_Slab'] = df['Peak_Slab'].map({\n",
    "    'M':0,\n",
    "    'A':1\n",
    "})"
   ]
  },
  {
   "cell_type": "code",
   "execution_count": 20,
   "metadata": {
    "id": "uuPmc4aRv7_y"
   },
   "outputs": [
    {
     "name": "stderr",
     "output_type": "stream",
     "text": [
      "C:\\Users\\YR272YB\\AppData\\Local\\Temp\\ipykernel_11744\\3279712628.py:1: SettingWithCopyWarning: \n",
      "A value is trying to be set on a copy of a slice from a DataFrame.\n",
      "Try using .loc[row_indexer,col_indexer] = value instead\n",
      "\n",
      "See the caveats in the documentation: https://pandas.pydata.org/pandas-docs/stable/user_guide/indexing.html#returning-a-view-versus-a-copy\n",
      "  df['Peak_Current_Slab_N_1'] = df['Peak_Current_Slab_N_1'].map({\n",
      "C:\\Users\\YR272YB\\AppData\\Local\\Temp\\ipykernel_11744\\3279712628.py:6: SettingWithCopyWarning: \n",
      "A value is trying to be set on a copy of a slice from a DataFrame.\n",
      "Try using .loc[row_indexer,col_indexer] = value instead\n",
      "\n",
      "See the caveats in the documentation: https://pandas.pydata.org/pandas-docs/stable/user_guide/indexing.html#returning-a-view-versus-a-copy\n",
      "  df['Peak_Current_Slab_N_2'] = df['Peak_Current_Slab_N_2'].map({\n"
     ]
    }
   ],
   "source": [
    "df['Peak_Current_Slab_N_1'] = df['Peak_Current_Slab_N_1'].map({\n",
    "    'M':0,\n",
    "    'A':1\n",
    "})\n",
    "\n",
    "df['Peak_Current_Slab_N_2'] = df['Peak_Current_Slab_N_2'].map({\n",
    "    'M':0,\n",
    "    'A':1\n",
    "})"
   ]
  },
  {
   "cell_type": "code",
   "execution_count": 21,
   "metadata": {},
   "outputs": [
    {
     "ename": "KeyError",
     "evalue": "\"['DATE_ONLY_Month', 'DATE_ONLY_Year', 'DATE_ONLY_Day'] not found in axis\"",
     "output_type": "error",
     "traceback": [
      "\u001b[1;31m---------------------------------------------------------------------------\u001b[0m",
      "\u001b[1;31mKeyError\u001b[0m                                  Traceback (most recent call last)",
      "Cell \u001b[1;32mIn[21], line 1\u001b[0m\n\u001b[1;32m----> 1\u001b[0m \u001b[43mdf\u001b[49m\u001b[38;5;241;43m.\u001b[39;49m\u001b[43mdrop\u001b[49m\u001b[43m(\u001b[49m\u001b[43mcolumns\u001b[49m\u001b[38;5;241;43m=\u001b[39;49m\u001b[43m[\u001b[49m\u001b[38;5;124;43m'\u001b[39;49m\u001b[38;5;124;43m_dataobs_\u001b[39;49m\u001b[38;5;124;43m'\u001b[39;49m\u001b[43m,\u001b[49m\n\u001b[0;32m      2\u001b[0m \u001b[43m                 \u001b[49m\u001b[38;5;124;43m'\u001b[39;49m\u001b[38;5;124;43mFeeder\u001b[39;49m\u001b[38;5;124;43m'\u001b[39;49m\u001b[43m,\u001b[49m\n\u001b[0;32m      3\u001b[0m \u001b[43m                \u001b[49m\u001b[38;5;124;43m'\u001b[39;49m\u001b[38;5;124;43mSwitch\u001b[39;49m\u001b[38;5;124;43m'\u001b[39;49m\u001b[43m,\u001b[49m\n\u001b[0;32m      4\u001b[0m \u001b[43m                \u001b[49m\u001b[38;5;124;43m'\u001b[39;49m\u001b[38;5;124;43mPath Order\u001b[39;49m\u001b[38;5;124;43m'\u001b[39;49m\u001b[43m,\u001b[49m\n\u001b[0;32m      5\u001b[0m \u001b[43m                \u001b[49m\u001b[38;5;124;43m'\u001b[39;49m\u001b[38;5;124;43mLat\u001b[39;49m\u001b[38;5;124;43m'\u001b[39;49m\u001b[43m,\u001b[49m\n\u001b[0;32m      6\u001b[0m \u001b[43m                \u001b[49m\u001b[38;5;124;43m'\u001b[39;49m\u001b[38;5;124;43mLong\u001b[39;49m\u001b[38;5;124;43m'\u001b[39;49m\u001b[43m,\u001b[49m\n\u001b[0;32m      7\u001b[0m \u001b[43m                \u001b[49m\u001b[38;5;124;43m'\u001b[39;49m\u001b[38;5;124;43mCustomer At Risk\u001b[39;49m\u001b[38;5;124;43m'\u001b[39;49m\u001b[43m,\u001b[49m\n\u001b[0;32m      8\u001b[0m \u001b[43m                \u001b[49m\u001b[38;5;124;43m'\u001b[39;49m\u001b[38;5;124;43mRevenue At Rsik\u001b[39;49m\u001b[38;5;124;43m'\u001b[39;49m\u001b[43m,\u001b[49m\n\u001b[0;32m      9\u001b[0m \u001b[43m                \u001b[49m\u001b[38;5;124;43m'\u001b[39;49m\u001b[38;5;124;43mAssets At Risk\u001b[39;49m\u001b[38;5;124;43m'\u001b[39;49m\u001b[43m,\u001b[49m\n\u001b[0;32m     10\u001b[0m \u001b[43m                \u001b[49m\u001b[38;5;124;43m'\u001b[39;49m\u001b[38;5;124;43mNoFaultsSince2016\u001b[39;49m\u001b[38;5;124;43m'\u001b[39;49m\u001b[43m,\u001b[49m\n\u001b[0;32m     11\u001b[0m \u001b[43m                 \u001b[49m\u001b[38;5;124;43m'\u001b[39;49m\u001b[38;5;124;43mIR_Value_After_JointingPHASE_TO\u001b[39;49m\u001b[38;5;124;43m'\u001b[39;49m\u001b[43m,\u001b[49m\n\u001b[0;32m     12\u001b[0m \u001b[43m                 \u001b[49m\u001b[38;5;124;43m'\u001b[39;49m\u001b[38;5;124;43mDATE_ONLY\u001b[39;49m\u001b[38;5;124;43m'\u001b[39;49m\u001b[43m,\u001b[49m\n\u001b[0;32m     13\u001b[0m \u001b[43m                 \u001b[49m\u001b[38;5;124;43m'\u001b[39;49m\u001b[38;5;124;43mSection Id\u001b[39;49m\u001b[38;5;124;43m'\u001b[39;49m\u001b[43m,\u001b[49m\n\u001b[0;32m     14\u001b[0m \u001b[43m                 \u001b[49m\u001b[38;5;124;43m'\u001b[39;49m\u001b[38;5;124;43mPathid\u001b[39;49m\u001b[38;5;124;43m'\u001b[39;49m\u001b[43m,\u001b[49m\n\u001b[0;32m     15\u001b[0m \u001b[43m                 \u001b[49m\u001b[38;5;124;43m'\u001b[39;49m\u001b[38;5;124;43mRisk Type\u001b[39;49m\u001b[38;5;124;43m'\u001b[39;49m\u001b[43m,\u001b[49m\n\u001b[0;32m     16\u001b[0m \u001b[43m                 \u001b[49m\u001b[38;5;124;43m'\u001b[39;49m\u001b[38;5;124;43mNew_Winter\u001b[39;49m\u001b[38;5;124;43m'\u001b[39;49m\u001b[43m,\u001b[49m\n\u001b[0;32m     17\u001b[0m \u001b[43m                 \u001b[49m\u001b[38;5;124;43m'\u001b[39;49m\u001b[38;5;124;43mPeak_Slab\u001b[39;49m\u001b[38;5;124;43m'\u001b[39;49m\u001b[43m,\u001b[49m\n\u001b[0;32m     18\u001b[0m \u001b[43m                 \u001b[49m\u001b[38;5;124;43m'\u001b[39;49m\u001b[38;5;124;43mIR_Value_After_JointingPHASE_TO\u001b[39;49m\u001b[38;5;124;43m'\u001b[39;49m\u001b[43m,\u001b[49m\n\u001b[0;32m     19\u001b[0m \u001b[43m                 \u001b[49m\u001b[38;5;124;43m'\u001b[39;49m\u001b[38;5;124;43mNo_of_Times_Exceeded100_\u001b[39;49m\u001b[38;5;124;43m'\u001b[39;49m\u001b[43m,\u001b[49m\n\u001b[0;32m     20\u001b[0m \u001b[43m                 \u001b[49m\u001b[38;5;124;43m'\u001b[39;49m\u001b[38;5;124;43mNo_of_Times_Exceeded90_\u001b[39;49m\u001b[38;5;124;43m'\u001b[39;49m\u001b[43m,\u001b[49m\n\u001b[0;32m     21\u001b[0m \u001b[43m                 \u001b[49m\u001b[38;5;124;43m'\u001b[39;49m\u001b[38;5;124;43mPeak_Current_Time_N_1\u001b[39;49m\u001b[38;5;124;43m'\u001b[39;49m\u001b[43m,\u001b[49m\n\u001b[0;32m     22\u001b[0m \u001b[43m                 \u001b[49m\u001b[38;5;124;43m'\u001b[39;49m\u001b[38;5;124;43mPeak_Current_Time_N_2\u001b[39;49m\u001b[38;5;124;43m'\u001b[39;49m\u001b[43m,\u001b[49m\n\u001b[0;32m     23\u001b[0m \u001b[43m                 \u001b[49m\u001b[38;5;124;43m'\u001b[39;49m\u001b[38;5;124;43mPeak_Current_Slab_N_1\u001b[39;49m\u001b[38;5;124;43m'\u001b[39;49m\u001b[43m,\u001b[49m\n\u001b[0;32m     24\u001b[0m \u001b[43m                 \u001b[49m\u001b[38;5;124;43m'\u001b[39;49m\u001b[38;5;124;43mPeak_Current_Slab_N_2\u001b[39;49m\u001b[38;5;124;43m'\u001b[39;49m\u001b[43m,\u001b[49m\n\u001b[0;32m     25\u001b[0m \u001b[43m                 \u001b[49m\u001b[38;5;124;43m'\u001b[39;49m\u001b[38;5;124;43mDATE_ONLY_Month\u001b[39;49m\u001b[38;5;124;43m'\u001b[39;49m\u001b[43m,\u001b[49m\n\u001b[0;32m     26\u001b[0m \u001b[43m                 \u001b[49m\u001b[38;5;124;43m'\u001b[39;49m\u001b[38;5;124;43mDATE_ONLY_Year\u001b[39;49m\u001b[38;5;124;43m'\u001b[39;49m\u001b[43m,\u001b[49m\n\u001b[0;32m     27\u001b[0m \u001b[43m                 \u001b[49m\u001b[38;5;124;43m'\u001b[39;49m\u001b[38;5;124;43mDATE_ONLY_Day\u001b[39;49m\u001b[38;5;124;43m'\u001b[39;49m\u001b[43m]\u001b[49m\u001b[43m,\u001b[49m\u001b[43minplace\u001b[49m\u001b[38;5;241;43m=\u001b[39;49m\u001b[38;5;28;43;01mTrue\u001b[39;49;00m\u001b[43m)\u001b[49m\n",
      "File \u001b[1;32m~\\.virtualenvs\\Global_Utility_05-sbsjTaLH\\lib\\site-packages\\pandas\\core\\frame.py:5268\u001b[0m, in \u001b[0;36mDataFrame.drop\u001b[1;34m(self, labels, axis, index, columns, level, inplace, errors)\u001b[0m\n\u001b[0;32m   5120\u001b[0m \u001b[38;5;28;01mdef\u001b[39;00m \u001b[38;5;21mdrop\u001b[39m(\n\u001b[0;32m   5121\u001b[0m     \u001b[38;5;28mself\u001b[39m,\n\u001b[0;32m   5122\u001b[0m     labels: IndexLabel \u001b[38;5;241m=\u001b[39m \u001b[38;5;28;01mNone\u001b[39;00m,\n\u001b[1;32m   (...)\u001b[0m\n\u001b[0;32m   5129\u001b[0m     errors: IgnoreRaise \u001b[38;5;241m=\u001b[39m \u001b[38;5;124m\"\u001b[39m\u001b[38;5;124mraise\u001b[39m\u001b[38;5;124m\"\u001b[39m,\n\u001b[0;32m   5130\u001b[0m ) \u001b[38;5;241m-\u001b[39m\u001b[38;5;241m>\u001b[39m DataFrame \u001b[38;5;241m|\u001b[39m \u001b[38;5;28;01mNone\u001b[39;00m:\n\u001b[0;32m   5131\u001b[0m \u001b[38;5;250m    \u001b[39m\u001b[38;5;124;03m\"\"\"\u001b[39;00m\n\u001b[0;32m   5132\u001b[0m \u001b[38;5;124;03m    Drop specified labels from rows or columns.\u001b[39;00m\n\u001b[0;32m   5133\u001b[0m \n\u001b[1;32m   (...)\u001b[0m\n\u001b[0;32m   5266\u001b[0m \u001b[38;5;124;03m            weight  1.0     0.8\u001b[39;00m\n\u001b[0;32m   5267\u001b[0m \u001b[38;5;124;03m    \"\"\"\u001b[39;00m\n\u001b[1;32m-> 5268\u001b[0m     \u001b[38;5;28;01mreturn\u001b[39;00m \u001b[38;5;28;43msuper\u001b[39;49m\u001b[43m(\u001b[49m\u001b[43m)\u001b[49m\u001b[38;5;241;43m.\u001b[39;49m\u001b[43mdrop\u001b[49m\u001b[43m(\u001b[49m\n\u001b[0;32m   5269\u001b[0m \u001b[43m        \u001b[49m\u001b[43mlabels\u001b[49m\u001b[38;5;241;43m=\u001b[39;49m\u001b[43mlabels\u001b[49m\u001b[43m,\u001b[49m\n\u001b[0;32m   5270\u001b[0m \u001b[43m        \u001b[49m\u001b[43maxis\u001b[49m\u001b[38;5;241;43m=\u001b[39;49m\u001b[43maxis\u001b[49m\u001b[43m,\u001b[49m\n\u001b[0;32m   5271\u001b[0m \u001b[43m        \u001b[49m\u001b[43mindex\u001b[49m\u001b[38;5;241;43m=\u001b[39;49m\u001b[43mindex\u001b[49m\u001b[43m,\u001b[49m\n\u001b[0;32m   5272\u001b[0m \u001b[43m        \u001b[49m\u001b[43mcolumns\u001b[49m\u001b[38;5;241;43m=\u001b[39;49m\u001b[43mcolumns\u001b[49m\u001b[43m,\u001b[49m\n\u001b[0;32m   5273\u001b[0m \u001b[43m        \u001b[49m\u001b[43mlevel\u001b[49m\u001b[38;5;241;43m=\u001b[39;49m\u001b[43mlevel\u001b[49m\u001b[43m,\u001b[49m\n\u001b[0;32m   5274\u001b[0m \u001b[43m        \u001b[49m\u001b[43minplace\u001b[49m\u001b[38;5;241;43m=\u001b[39;49m\u001b[43minplace\u001b[49m\u001b[43m,\u001b[49m\n\u001b[0;32m   5275\u001b[0m \u001b[43m        \u001b[49m\u001b[43merrors\u001b[49m\u001b[38;5;241;43m=\u001b[39;49m\u001b[43merrors\u001b[49m\u001b[43m,\u001b[49m\n\u001b[0;32m   5276\u001b[0m \u001b[43m    \u001b[49m\u001b[43m)\u001b[49m\n",
      "File \u001b[1;32m~\\.virtualenvs\\Global_Utility_05-sbsjTaLH\\lib\\site-packages\\pandas\\core\\generic.py:4549\u001b[0m, in \u001b[0;36mNDFrame.drop\u001b[1;34m(self, labels, axis, index, columns, level, inplace, errors)\u001b[0m\n\u001b[0;32m   4547\u001b[0m \u001b[38;5;28;01mfor\u001b[39;00m axis, labels \u001b[38;5;129;01min\u001b[39;00m axes\u001b[38;5;241m.\u001b[39mitems():\n\u001b[0;32m   4548\u001b[0m     \u001b[38;5;28;01mif\u001b[39;00m labels \u001b[38;5;129;01mis\u001b[39;00m \u001b[38;5;129;01mnot\u001b[39;00m \u001b[38;5;28;01mNone\u001b[39;00m:\n\u001b[1;32m-> 4549\u001b[0m         obj \u001b[38;5;241m=\u001b[39m \u001b[43mobj\u001b[49m\u001b[38;5;241;43m.\u001b[39;49m\u001b[43m_drop_axis\u001b[49m\u001b[43m(\u001b[49m\u001b[43mlabels\u001b[49m\u001b[43m,\u001b[49m\u001b[43m \u001b[49m\u001b[43maxis\u001b[49m\u001b[43m,\u001b[49m\u001b[43m \u001b[49m\u001b[43mlevel\u001b[49m\u001b[38;5;241;43m=\u001b[39;49m\u001b[43mlevel\u001b[49m\u001b[43m,\u001b[49m\u001b[43m \u001b[49m\u001b[43merrors\u001b[49m\u001b[38;5;241;43m=\u001b[39;49m\u001b[43merrors\u001b[49m\u001b[43m)\u001b[49m\n\u001b[0;32m   4551\u001b[0m \u001b[38;5;28;01mif\u001b[39;00m inplace:\n\u001b[0;32m   4552\u001b[0m     \u001b[38;5;28mself\u001b[39m\u001b[38;5;241m.\u001b[39m_update_inplace(obj)\n",
      "File \u001b[1;32m~\\.virtualenvs\\Global_Utility_05-sbsjTaLH\\lib\\site-packages\\pandas\\core\\generic.py:4591\u001b[0m, in \u001b[0;36mNDFrame._drop_axis\u001b[1;34m(self, labels, axis, level, errors, only_slice)\u001b[0m\n\u001b[0;32m   4589\u001b[0m         new_axis \u001b[38;5;241m=\u001b[39m axis\u001b[38;5;241m.\u001b[39mdrop(labels, level\u001b[38;5;241m=\u001b[39mlevel, errors\u001b[38;5;241m=\u001b[39merrors)\n\u001b[0;32m   4590\u001b[0m     \u001b[38;5;28;01melse\u001b[39;00m:\n\u001b[1;32m-> 4591\u001b[0m         new_axis \u001b[38;5;241m=\u001b[39m \u001b[43maxis\u001b[49m\u001b[38;5;241;43m.\u001b[39;49m\u001b[43mdrop\u001b[49m\u001b[43m(\u001b[49m\u001b[43mlabels\u001b[49m\u001b[43m,\u001b[49m\u001b[43m \u001b[49m\u001b[43merrors\u001b[49m\u001b[38;5;241;43m=\u001b[39;49m\u001b[43merrors\u001b[49m\u001b[43m)\u001b[49m\n\u001b[0;32m   4592\u001b[0m     indexer \u001b[38;5;241m=\u001b[39m axis\u001b[38;5;241m.\u001b[39mget_indexer(new_axis)\n\u001b[0;32m   4594\u001b[0m \u001b[38;5;66;03m# Case for non-unique axis\u001b[39;00m\n\u001b[0;32m   4595\u001b[0m \u001b[38;5;28;01melse\u001b[39;00m:\n",
      "File \u001b[1;32m~\\.virtualenvs\\Global_Utility_05-sbsjTaLH\\lib\\site-packages\\pandas\\core\\indexes\\base.py:6696\u001b[0m, in \u001b[0;36mIndex.drop\u001b[1;34m(self, labels, errors)\u001b[0m\n\u001b[0;32m   6694\u001b[0m \u001b[38;5;28;01mif\u001b[39;00m mask\u001b[38;5;241m.\u001b[39many():\n\u001b[0;32m   6695\u001b[0m     \u001b[38;5;28;01mif\u001b[39;00m errors \u001b[38;5;241m!=\u001b[39m \u001b[38;5;124m\"\u001b[39m\u001b[38;5;124mignore\u001b[39m\u001b[38;5;124m\"\u001b[39m:\n\u001b[1;32m-> 6696\u001b[0m         \u001b[38;5;28;01mraise\u001b[39;00m \u001b[38;5;167;01mKeyError\u001b[39;00m(\u001b[38;5;124mf\u001b[39m\u001b[38;5;124m\"\u001b[39m\u001b[38;5;132;01m{\u001b[39;00m\u001b[38;5;28mlist\u001b[39m(labels[mask])\u001b[38;5;132;01m}\u001b[39;00m\u001b[38;5;124m not found in axis\u001b[39m\u001b[38;5;124m\"\u001b[39m)\n\u001b[0;32m   6697\u001b[0m     indexer \u001b[38;5;241m=\u001b[39m indexer[\u001b[38;5;241m~\u001b[39mmask]\n\u001b[0;32m   6698\u001b[0m \u001b[38;5;28;01mreturn\u001b[39;00m \u001b[38;5;28mself\u001b[39m\u001b[38;5;241m.\u001b[39mdelete(indexer)\n",
      "\u001b[1;31mKeyError\u001b[0m: \"['DATE_ONLY_Month', 'DATE_ONLY_Year', 'DATE_ONLY_Day'] not found in axis\""
     ]
    }
   ],
   "source": [
    "df.drop(columns=['_dataobs_',\n",
    "                 'Feeder',\n",
    "                'Switch',\n",
    "                'Path Order',\n",
    "                'Lat',\n",
    "                'Long',\n",
    "                'Customer At Risk',\n",
    "                'Revenue At Rsik',\n",
    "                'Assets At Risk',\n",
    "                'NoFaultsSince2016',\n",
    "                 'IR_Value_After_JointingPHASE_TO',\n",
    "                 'DATE_ONLY',\n",
    "                 'Section Id',\n",
    "                 'Pathid',\n",
    "                 'Risk Type',\n",
    "                 'New_Winter',\n",
    "                 'Peak_Slab',\n",
    "                 'IR_Value_After_JointingPHASE_TO',\n",
    "                 'No_of_Times_Exceeded100_',\n",
    "                 'No_of_Times_Exceeded90_',\n",
    "                 'Peak_Current_Time_N_1',\n",
    "                 'Peak_Current_Time_N_2',\n",
    "                 'Peak_Current_Slab_N_1',\n",
    "                 'Peak_Current_Slab_N_2',\n",
    "                 'DATE_ONLY_Month',\n",
    "                 'DATE_ONLY_Year',\n",
    "                 'DATE_ONLY_Day'],inplace=True)"
   ]
  },
  {
   "cell_type": "code",
   "execution_count": null,
   "metadata": {
    "colab": {
     "base_uri": "https://localhost:8080/"
    },
    "id": "ZkOqBk8EwZHv",
    "outputId": "26bea1ad-f051-4a02-c814-d3e9c14dd8d2"
   },
   "outputs": [],
   "source": [
    "for i in df.columns:\n",
    "  if df[i].dtypes == 'object':\n",
    "    print(i)"
   ]
  },
  {
   "cell_type": "code",
   "execution_count": null,
   "metadata": {
    "id": "paPGZsJdwwUi"
   },
   "outputs": [],
   "source": [
    "df['New_PublicHoliday'] = df['New_PublicHoliday'].map({\n",
    "    'N':0,\n",
    "    'Y':1\n",
    "})\n",
    "\n",
    "df['New_Summer'] = df['New_Summer'].map({\n",
    "    'N':0,\n",
    "    'Y':1\n",
    "})\n",
    "\n",
    "df['New_Monsoon'] = df['New_Monsoon'].map({\n",
    "    'N':0,\n",
    "    'Y':1\n",
    "})"
   ]
  },
  {
   "cell_type": "code",
   "execution_count": null,
   "metadata": {
    "colab": {
     "base_uri": "https://localhost:8080/"
    },
    "id": "MfuX9agCzCVf",
    "outputId": "40b999c2-3e06-43f5-d8f9-6f00b8144ded"
   },
   "outputs": [],
   "source": [
    "[i for i in df.columns]"
   ]
  },
  {
   "cell_type": "code",
   "execution_count": null,
   "metadata": {
    "colab": {
     "base_uri": "https://localhost:8080/"
    },
    "id": "HM5HpeHxzDdO",
    "outputId": "5e3a8a76-1b84-4d11-ffda-4c55966b0a9e"
   },
   "outputs": [],
   "source": [
    "for i in df.columns:\n",
    "  print(f\"{i} : {df[i].isna().sum()}\")"
   ]
  },
  {
   "cell_type": "code",
   "execution_count": 22,
   "metadata": {
    "id": "ujtKS2ZG3Vrm"
   },
   "outputs": [
    {
     "name": "stderr",
     "output_type": "stream",
     "text": [
      "C:\\Users\\YR272YB\\AppData\\Local\\Temp\\ipykernel_11744\\2345975117.py:3: SettingWithCopyWarning: \n",
      "A value is trying to be set on a copy of a slice from a DataFrame\n",
      "\n",
      "See the caveats in the documentation: https://pandas.pydata.org/pandas-docs/stable/user_guide/indexing.html#returning-a-view-versus-a-copy\n",
      "  df['Feeder_Category'].fillna(0,inplace=True)\n",
      "C:\\Users\\YR272YB\\AppData\\Local\\Temp\\ipykernel_11744\\2345975117.py:4: SettingWithCopyWarning: \n",
      "A value is trying to be set on a copy of a slice from a DataFrame\n",
      "\n",
      "See the caveats in the documentation: https://pandas.pydata.org/pandas-docs/stable/user_guide/indexing.html#returning-a-view-versus-a-copy\n",
      "  df['NO__OF_JOINTS'].fillna(df['NO__OF_JOINTS'].mean(),inplace=True)\n",
      "C:\\Users\\YR272YB\\AppData\\Local\\Temp\\ipykernel_11744\\2345975117.py:5: SettingWithCopyWarning: \n",
      "A value is trying to be set on a copy of a slice from a DataFrame\n",
      "\n",
      "See the caveats in the documentation: https://pandas.pydata.org/pandas-docs/stable/user_guide/indexing.html#returning-a-view-versus-a-copy\n",
      "  df['AGE_YRS_'].fillna(df['AGE_YRS_'].mean(),inplace=True)\n"
     ]
    }
   ],
   "source": [
    "## , NO__OF_JOINTS, AGE_YRS_,\n",
    "\n",
    "df['Feeder_Category'].fillna(0,inplace=True)\n",
    "df['NO__OF_JOINTS'].fillna(df['NO__OF_JOINTS'].mean(),inplace=True)\n",
    "df['AGE_YRS_'].fillna(df['AGE_YRS_'].mean(),inplace=True)"
   ]
  },
  {
   "cell_type": "markdown",
   "metadata": {
    "id": "Z5vqZvG50z3W"
   },
   "source": [
    "Feature Selection"
   ]
  },
  {
   "cell_type": "code",
   "execution_count": 23,
   "metadata": {},
   "outputs": [],
   "source": [
    "## Do not run from here"
   ]
  },
  {
   "cell_type": "code",
   "execution_count": 24,
   "metadata": {
    "id": "SJrkEY0K0Fhy"
   },
   "outputs": [],
   "source": [
    "from sklearn.model_selection import train_test_split\n",
    "from sklearn.feature_selection import VarianceThreshold"
   ]
  },
  {
   "cell_type": "code",
   "execution_count": 25,
   "metadata": {
    "id": "ozIiie7s03i8"
   },
   "outputs": [],
   "source": [
    "X = df.drop(columns=['target'])\n",
    "y = df['target']"
   ]
  },
  {
   "cell_type": "code",
   "execution_count": 26,
   "metadata": {
    "colab": {
     "base_uri": "https://localhost:8080/"
    },
    "id": "63xB9t5608or",
    "outputId": "d288636b-c95c-4ca7-b73a-6cea4b9a35e2"
   },
   "outputs": [
    {
     "name": "stdout",
     "output_type": "stream",
     "text": [
      "X_train : (240, 118)\n",
      "X_test : (60, 118)\n",
      "y_train : (240,)\n",
      "y_test : (60,)\n"
     ]
    }
   ],
   "source": [
    "X_train, X_test, y_train, y_test = train_test_split(X,y,test_size=0.2,random_state=0)\n",
    "print(f\"X_train : {X_train.shape}\")\n",
    "print(f\"X_test : {X_test.shape}\")\n",
    "print(f\"y_train : {y_train.shape}\")\n",
    "print(f\"y_test : {y_test.shape}\")"
   ]
  },
  {
   "cell_type": "code",
   "execution_count": 27,
   "metadata": {
    "colab": {
     "base_uri": "https://localhost:8080/",
     "height": 74
    },
    "id": "eef8ziag1Gdg",
    "outputId": "a090a343-44bf-4407-ff72-e4c9be405b07"
   },
   "outputs": [
    {
     "ename": "ValueError",
     "evalue": "could not convert string to float: '14-09-2016'",
     "output_type": "error",
     "traceback": [
      "\u001b[1;31m---------------------------------------------------------------------------\u001b[0m",
      "\u001b[1;31mValueError\u001b[0m                                Traceback (most recent call last)",
      "\u001b[1;32m~\\AppData\\Local\\Temp\\ipykernel_11744\\3905179722.py\u001b[0m in \u001b[0;36m?\u001b[1;34m()\u001b[0m\n\u001b[1;32m----> 3\u001b[1;33m \u001b[1;31m## removing constant features\u001b[0m\u001b[1;33m\u001b[0m\u001b[1;33m\u001b[0m\u001b[0m\n\u001b[0m\u001b[0;32m      4\u001b[0m \u001b[0mvt\u001b[0m \u001b[1;33m=\u001b[0m \u001b[0mVarianceThreshold\u001b[0m\u001b[1;33m(\u001b[0m\u001b[0mthreshold\u001b[0m\u001b[1;33m=\u001b[0m\u001b[1;36m0\u001b[0m\u001b[1;33m)\u001b[0m   \u001b[1;31m## i.e. variance=0\u001b[0m\u001b[1;33m\u001b[0m\u001b[1;33m\u001b[0m\u001b[0m\n\u001b[0;32m      5\u001b[0m \u001b[0mvt\u001b[0m\u001b[1;33m.\u001b[0m\u001b[0mfit\u001b[0m\u001b[1;33m(\u001b[0m\u001b[0mX_train\u001b[0m\u001b[1;33m)\u001b[0m\u001b[1;33m\u001b[0m\u001b[1;33m\u001b[0m\u001b[0m\n",
      "\u001b[1;32m~\\.virtualenvs\\Global_Utility_05-sbsjTaLH\\lib\\site-packages\\sklearn\\feature_selection\\_variance_threshold.py\u001b[0m in \u001b[0;36m?\u001b[1;34m(self, X, y)\u001b[0m\n\u001b[0;32m     94\u001b[0m         \u001b[0mself\u001b[0m \u001b[1;33m:\u001b[0m \u001b[0mobject\u001b[0m\u001b[1;33m\u001b[0m\u001b[1;33m\u001b[0m\u001b[0m\n\u001b[0;32m     95\u001b[0m             \u001b[0mReturns\u001b[0m \u001b[0mthe\u001b[0m \u001b[0minstance\u001b[0m \u001b[0mitself\u001b[0m\u001b[1;33m.\u001b[0m\u001b[1;33m\u001b[0m\u001b[1;33m\u001b[0m\u001b[0m\n\u001b[0;32m     96\u001b[0m         \"\"\"\n\u001b[0;32m     97\u001b[0m         \u001b[0mself\u001b[0m\u001b[1;33m.\u001b[0m\u001b[0m_validate_params\u001b[0m\u001b[1;33m(\u001b[0m\u001b[1;33m)\u001b[0m\u001b[1;33m\u001b[0m\u001b[1;33m\u001b[0m\u001b[0m\n\u001b[1;32m---> 98\u001b[1;33m         X = self._validate_data(\n\u001b[0m\u001b[0;32m     99\u001b[0m             \u001b[0mX\u001b[0m\u001b[1;33m,\u001b[0m\u001b[1;33m\u001b[0m\u001b[1;33m\u001b[0m\u001b[0m\n\u001b[0;32m    100\u001b[0m             \u001b[0maccept_sparse\u001b[0m\u001b[1;33m=\u001b[0m\u001b[1;33m(\u001b[0m\u001b[1;34m\"csr\"\u001b[0m\u001b[1;33m,\u001b[0m \u001b[1;34m\"csc\"\u001b[0m\u001b[1;33m)\u001b[0m\u001b[1;33m,\u001b[0m\u001b[1;33m\u001b[0m\u001b[1;33m\u001b[0m\u001b[0m\n\u001b[0;32m    101\u001b[0m             \u001b[0mdtype\u001b[0m\u001b[1;33m=\u001b[0m\u001b[0mnp\u001b[0m\u001b[1;33m.\u001b[0m\u001b[0mfloat64\u001b[0m\u001b[1;33m,\u001b[0m\u001b[1;33m\u001b[0m\u001b[1;33m\u001b[0m\u001b[0m\n",
      "\u001b[1;32m~\\.virtualenvs\\Global_Utility_05-sbsjTaLH\\lib\\site-packages\\sklearn\\base.py\u001b[0m in \u001b[0;36m?\u001b[1;34m(self, X, y, reset, validate_separately, **check_params)\u001b[0m\n\u001b[0;32m    561\u001b[0m \u001b[1;33m\u001b[0m\u001b[0m\n\u001b[0;32m    562\u001b[0m         \u001b[1;32mif\u001b[0m \u001b[0mno_val_X\u001b[0m \u001b[1;32mand\u001b[0m \u001b[0mno_val_y\u001b[0m\u001b[1;33m:\u001b[0m\u001b[1;33m\u001b[0m\u001b[1;33m\u001b[0m\u001b[0m\n\u001b[0;32m    563\u001b[0m             \u001b[1;32mraise\u001b[0m \u001b[0mValueError\u001b[0m\u001b[1;33m(\u001b[0m\u001b[1;34m\"Validation should be done on X, y or both.\"\u001b[0m\u001b[1;33m)\u001b[0m\u001b[1;33m\u001b[0m\u001b[1;33m\u001b[0m\u001b[0m\n\u001b[0;32m    564\u001b[0m         \u001b[1;32melif\u001b[0m \u001b[1;32mnot\u001b[0m \u001b[0mno_val_X\u001b[0m \u001b[1;32mand\u001b[0m \u001b[0mno_val_y\u001b[0m\u001b[1;33m:\u001b[0m\u001b[1;33m\u001b[0m\u001b[1;33m\u001b[0m\u001b[0m\n\u001b[1;32m--> 565\u001b[1;33m             \u001b[0mX\u001b[0m \u001b[1;33m=\u001b[0m \u001b[0mcheck_array\u001b[0m\u001b[1;33m(\u001b[0m\u001b[0mX\u001b[0m\u001b[1;33m,\u001b[0m \u001b[0minput_name\u001b[0m\u001b[1;33m=\u001b[0m\u001b[1;34m\"X\"\u001b[0m\u001b[1;33m,\u001b[0m \u001b[1;33m**\u001b[0m\u001b[0mcheck_params\u001b[0m\u001b[1;33m)\u001b[0m\u001b[1;33m\u001b[0m\u001b[1;33m\u001b[0m\u001b[0m\n\u001b[0m\u001b[0;32m    566\u001b[0m             \u001b[0mout\u001b[0m \u001b[1;33m=\u001b[0m \u001b[0mX\u001b[0m\u001b[1;33m\u001b[0m\u001b[1;33m\u001b[0m\u001b[0m\n\u001b[0;32m    567\u001b[0m         \u001b[1;32melif\u001b[0m \u001b[0mno_val_X\u001b[0m \u001b[1;32mand\u001b[0m \u001b[1;32mnot\u001b[0m \u001b[0mno_val_y\u001b[0m\u001b[1;33m:\u001b[0m\u001b[1;33m\u001b[0m\u001b[1;33m\u001b[0m\u001b[0m\n\u001b[0;32m    568\u001b[0m             \u001b[0my\u001b[0m \u001b[1;33m=\u001b[0m \u001b[0m_check_y\u001b[0m\u001b[1;33m(\u001b[0m\u001b[0my\u001b[0m\u001b[1;33m,\u001b[0m \u001b[1;33m**\u001b[0m\u001b[0mcheck_params\u001b[0m\u001b[1;33m)\u001b[0m\u001b[1;33m\u001b[0m\u001b[1;33m\u001b[0m\u001b[0m\n",
      "\u001b[1;32m~\\.virtualenvs\\Global_Utility_05-sbsjTaLH\\lib\\site-packages\\sklearn\\utils\\validation.py\u001b[0m in \u001b[0;36m?\u001b[1;34m(array, accept_sparse, accept_large_sparse, dtype, order, copy, force_all_finite, ensure_2d, allow_nd, ensure_min_samples, ensure_min_features, estimator, input_name)\u001b[0m\n\u001b[0;32m    877\u001b[0m                     \u001b[0marray\u001b[0m \u001b[1;33m=\u001b[0m \u001b[0mxp\u001b[0m\u001b[1;33m.\u001b[0m\u001b[0mastype\u001b[0m\u001b[1;33m(\u001b[0m\u001b[0marray\u001b[0m\u001b[1;33m,\u001b[0m \u001b[0mdtype\u001b[0m\u001b[1;33m,\u001b[0m \u001b[0mcopy\u001b[0m\u001b[1;33m=\u001b[0m\u001b[1;32mFalse\u001b[0m\u001b[1;33m)\u001b[0m\u001b[1;33m\u001b[0m\u001b[1;33m\u001b[0m\u001b[0m\n\u001b[0;32m    878\u001b[0m                 \u001b[1;32melse\u001b[0m\u001b[1;33m:\u001b[0m\u001b[1;33m\u001b[0m\u001b[1;33m\u001b[0m\u001b[0m\n\u001b[0;32m    879\u001b[0m                     \u001b[0marray\u001b[0m \u001b[1;33m=\u001b[0m \u001b[0m_asarray_with_order\u001b[0m\u001b[1;33m(\u001b[0m\u001b[0marray\u001b[0m\u001b[1;33m,\u001b[0m \u001b[0morder\u001b[0m\u001b[1;33m=\u001b[0m\u001b[0morder\u001b[0m\u001b[1;33m,\u001b[0m \u001b[0mdtype\u001b[0m\u001b[1;33m=\u001b[0m\u001b[0mdtype\u001b[0m\u001b[1;33m,\u001b[0m \u001b[0mxp\u001b[0m\u001b[1;33m=\u001b[0m\u001b[0mxp\u001b[0m\u001b[1;33m)\u001b[0m\u001b[1;33m\u001b[0m\u001b[1;33m\u001b[0m\u001b[0m\n\u001b[0;32m    880\u001b[0m             \u001b[1;32mexcept\u001b[0m \u001b[0mComplexWarning\u001b[0m \u001b[1;32mas\u001b[0m \u001b[0mcomplex_warning\u001b[0m\u001b[1;33m:\u001b[0m\u001b[1;33m\u001b[0m\u001b[1;33m\u001b[0m\u001b[0m\n\u001b[1;32m--> 881\u001b[1;33m                 raise ValueError(\n\u001b[0m\u001b[0;32m    882\u001b[0m                     \u001b[1;34m\"Complex data not supported\\n{}\\n\"\u001b[0m\u001b[1;33m.\u001b[0m\u001b[0mformat\u001b[0m\u001b[1;33m(\u001b[0m\u001b[0marray\u001b[0m\u001b[1;33m)\u001b[0m\u001b[1;33m\u001b[0m\u001b[1;33m\u001b[0m\u001b[0m\n\u001b[0;32m    883\u001b[0m                 ) from complex_warning\n\u001b[0;32m    884\u001b[0m \u001b[1;33m\u001b[0m\u001b[0m\n",
      "\u001b[1;32m~\\.virtualenvs\\Global_Utility_05-sbsjTaLH\\lib\\site-packages\\sklearn\\utils\\_array_api.py\u001b[0m in \u001b[0;36m?\u001b[1;34m(array, dtype, order, copy, xp)\u001b[0m\n\u001b[0;32m    181\u001b[0m     \u001b[1;32mif\u001b[0m \u001b[0mxp\u001b[0m \u001b[1;32mis\u001b[0m \u001b[1;32mNone\u001b[0m\u001b[1;33m:\u001b[0m\u001b[1;33m\u001b[0m\u001b[1;33m\u001b[0m\u001b[0m\n\u001b[0;32m    182\u001b[0m         \u001b[0mxp\u001b[0m\u001b[1;33m,\u001b[0m \u001b[0m_\u001b[0m \u001b[1;33m=\u001b[0m \u001b[0mget_namespace\u001b[0m\u001b[1;33m(\u001b[0m\u001b[0marray\u001b[0m\u001b[1;33m)\u001b[0m\u001b[1;33m\u001b[0m\u001b[1;33m\u001b[0m\u001b[0m\n\u001b[0;32m    183\u001b[0m     \u001b[1;32mif\u001b[0m \u001b[0mxp\u001b[0m\u001b[1;33m.\u001b[0m\u001b[0m__name__\u001b[0m \u001b[1;32min\u001b[0m \u001b[1;33m{\u001b[0m\u001b[1;34m\"numpy\"\u001b[0m\u001b[1;33m,\u001b[0m \u001b[1;34m\"numpy.array_api\"\u001b[0m\u001b[1;33m}\u001b[0m\u001b[1;33m:\u001b[0m\u001b[1;33m\u001b[0m\u001b[1;33m\u001b[0m\u001b[0m\n\u001b[0;32m    184\u001b[0m         \u001b[1;31m# Use NumPy API to support order\u001b[0m\u001b[1;33m\u001b[0m\u001b[1;33m\u001b[0m\u001b[0m\n\u001b[1;32m--> 185\u001b[1;33m         \u001b[0marray\u001b[0m \u001b[1;33m=\u001b[0m \u001b[0mnumpy\u001b[0m\u001b[1;33m.\u001b[0m\u001b[0masarray\u001b[0m\u001b[1;33m(\u001b[0m\u001b[0marray\u001b[0m\u001b[1;33m,\u001b[0m \u001b[0morder\u001b[0m\u001b[1;33m=\u001b[0m\u001b[0morder\u001b[0m\u001b[1;33m,\u001b[0m \u001b[0mdtype\u001b[0m\u001b[1;33m=\u001b[0m\u001b[0mdtype\u001b[0m\u001b[1;33m)\u001b[0m\u001b[1;33m\u001b[0m\u001b[1;33m\u001b[0m\u001b[0m\n\u001b[0m\u001b[0;32m    186\u001b[0m         \u001b[1;32mreturn\u001b[0m \u001b[0mxp\u001b[0m\u001b[1;33m.\u001b[0m\u001b[0masarray\u001b[0m\u001b[1;33m(\u001b[0m\u001b[0marray\u001b[0m\u001b[1;33m,\u001b[0m \u001b[0mcopy\u001b[0m\u001b[1;33m=\u001b[0m\u001b[0mcopy\u001b[0m\u001b[1;33m)\u001b[0m\u001b[1;33m\u001b[0m\u001b[1;33m\u001b[0m\u001b[0m\n\u001b[0;32m    187\u001b[0m     \u001b[1;32melse\u001b[0m\u001b[1;33m:\u001b[0m\u001b[1;33m\u001b[0m\u001b[1;33m\u001b[0m\u001b[0m\n\u001b[0;32m    188\u001b[0m         \u001b[1;32mreturn\u001b[0m \u001b[0mxp\u001b[0m\u001b[1;33m.\u001b[0m\u001b[0masarray\u001b[0m\u001b[1;33m(\u001b[0m\u001b[0marray\u001b[0m\u001b[1;33m,\u001b[0m \u001b[0mdtype\u001b[0m\u001b[1;33m=\u001b[0m\u001b[0mdtype\u001b[0m\u001b[1;33m,\u001b[0m \u001b[0mcopy\u001b[0m\u001b[1;33m=\u001b[0m\u001b[0mcopy\u001b[0m\u001b[1;33m)\u001b[0m\u001b[1;33m\u001b[0m\u001b[1;33m\u001b[0m\u001b[0m\n",
      "\u001b[1;32m~\\.virtualenvs\\Global_Utility_05-sbsjTaLH\\lib\\site-packages\\pandas\\core\\generic.py\u001b[0m in \u001b[0;36m?\u001b[1;34m(self, dtype)\u001b[0m\n\u001b[0;32m   1996\u001b[0m     \u001b[1;32mdef\u001b[0m \u001b[0m__array__\u001b[0m\u001b[1;33m(\u001b[0m\u001b[0mself\u001b[0m\u001b[1;33m,\u001b[0m \u001b[0mdtype\u001b[0m\u001b[1;33m:\u001b[0m \u001b[0mnpt\u001b[0m\u001b[1;33m.\u001b[0m\u001b[0mDTypeLike\u001b[0m \u001b[1;33m|\u001b[0m \u001b[1;32mNone\u001b[0m \u001b[1;33m=\u001b[0m \u001b[1;32mNone\u001b[0m\u001b[1;33m)\u001b[0m \u001b[1;33m->\u001b[0m \u001b[0mnp\u001b[0m\u001b[1;33m.\u001b[0m\u001b[0mndarray\u001b[0m\u001b[1;33m:\u001b[0m\u001b[1;33m\u001b[0m\u001b[1;33m\u001b[0m\u001b[0m\n\u001b[0;32m   1997\u001b[0m         \u001b[0mvalues\u001b[0m \u001b[1;33m=\u001b[0m \u001b[0mself\u001b[0m\u001b[1;33m.\u001b[0m\u001b[0m_values\u001b[0m\u001b[1;33m\u001b[0m\u001b[1;33m\u001b[0m\u001b[0m\n\u001b[1;32m-> 1998\u001b[1;33m         \u001b[0marr\u001b[0m \u001b[1;33m=\u001b[0m \u001b[0mnp\u001b[0m\u001b[1;33m.\u001b[0m\u001b[0masarray\u001b[0m\u001b[1;33m(\u001b[0m\u001b[0mvalues\u001b[0m\u001b[1;33m,\u001b[0m \u001b[0mdtype\u001b[0m\u001b[1;33m=\u001b[0m\u001b[0mdtype\u001b[0m\u001b[1;33m)\u001b[0m\u001b[1;33m\u001b[0m\u001b[1;33m\u001b[0m\u001b[0m\n\u001b[0m\u001b[0;32m   1999\u001b[0m         if (\n\u001b[0;32m   2000\u001b[0m             \u001b[0mastype_is_view\u001b[0m\u001b[1;33m(\u001b[0m\u001b[0mvalues\u001b[0m\u001b[1;33m.\u001b[0m\u001b[0mdtype\u001b[0m\u001b[1;33m,\u001b[0m \u001b[0marr\u001b[0m\u001b[1;33m.\u001b[0m\u001b[0mdtype\u001b[0m\u001b[1;33m)\u001b[0m\u001b[1;33m\u001b[0m\u001b[1;33m\u001b[0m\u001b[0m\n\u001b[0;32m   2001\u001b[0m             \u001b[1;32mand\u001b[0m \u001b[0musing_copy_on_write\u001b[0m\u001b[1;33m(\u001b[0m\u001b[1;33m)\u001b[0m\u001b[1;33m\u001b[0m\u001b[1;33m\u001b[0m\u001b[0m\n",
      "\u001b[1;31mValueError\u001b[0m: could not convert string to float: '14-09-2016'"
     ]
    }
   ],
   "source": [
    "## removing constant features\n",
    "vt = VarianceThreshold(threshold=0)   ## i.e. variance=0\n",
    "vt.fit(X_train)"
   ]
  },
  {
   "cell_type": "code",
   "execution_count": 28,
   "metadata": {
    "colab": {
     "base_uri": "https://localhost:8080/"
    },
    "id": "D9SDg02L4Blr",
    "outputId": "d4dab082-bd3e-4bff-cfc0-8fb3cb99a0d7"
   },
   "outputs": [
    {
     "ename": "AttributeError",
     "evalue": "'VarianceThreshold' object has no attribute 'variances_'",
     "output_type": "error",
     "traceback": [
      "\u001b[1;31m---------------------------------------------------------------------------\u001b[0m",
      "\u001b[1;31mAttributeError\u001b[0m                            Traceback (most recent call last)",
      "Cell \u001b[1;32mIn[28], line 1\u001b[0m\n\u001b[1;32m----> 1\u001b[0m \u001b[43mvt\u001b[49m\u001b[38;5;241;43m.\u001b[39;49m\u001b[43mget_support\u001b[49m\u001b[43m(\u001b[49m\u001b[43m)\u001b[49m    \u001b[38;5;66;03m## True -> not constant, False -> Constant\u001b[39;00m\n",
      "File \u001b[1;32m~\\.virtualenvs\\Global_Utility_05-sbsjTaLH\\lib\\site-packages\\sklearn\\feature_selection\\_base.py:53\u001b[0m, in \u001b[0;36mSelectorMixin.get_support\u001b[1;34m(self, indices)\u001b[0m\n\u001b[0;32m     33\u001b[0m \u001b[38;5;28;01mdef\u001b[39;00m \u001b[38;5;21mget_support\u001b[39m(\u001b[38;5;28mself\u001b[39m, indices\u001b[38;5;241m=\u001b[39m\u001b[38;5;28;01mFalse\u001b[39;00m):\n\u001b[0;32m     34\u001b[0m \u001b[38;5;250m    \u001b[39m\u001b[38;5;124;03m\"\"\"\u001b[39;00m\n\u001b[0;32m     35\u001b[0m \u001b[38;5;124;03m    Get a mask, or integer index, of the features selected.\u001b[39;00m\n\u001b[0;32m     36\u001b[0m \n\u001b[1;32m   (...)\u001b[0m\n\u001b[0;32m     51\u001b[0m \u001b[38;5;124;03m        values are indices into the input feature vector.\u001b[39;00m\n\u001b[0;32m     52\u001b[0m \u001b[38;5;124;03m    \"\"\"\u001b[39;00m\n\u001b[1;32m---> 53\u001b[0m     mask \u001b[38;5;241m=\u001b[39m \u001b[38;5;28;43mself\u001b[39;49m\u001b[38;5;241;43m.\u001b[39;49m\u001b[43m_get_support_mask\u001b[49m\u001b[43m(\u001b[49m\u001b[43m)\u001b[49m\n\u001b[0;32m     54\u001b[0m     \u001b[38;5;28;01mreturn\u001b[39;00m mask \u001b[38;5;28;01mif\u001b[39;00m \u001b[38;5;129;01mnot\u001b[39;00m indices \u001b[38;5;28;01melse\u001b[39;00m np\u001b[38;5;241m.\u001b[39mwhere(mask)[\u001b[38;5;241m0\u001b[39m]\n",
      "File \u001b[1;32m~\\.virtualenvs\\Global_Utility_05-sbsjTaLH\\lib\\site-packages\\sklearn\\feature_selection\\_variance_threshold.py:132\u001b[0m, in \u001b[0;36mVarianceThreshold._get_support_mask\u001b[1;34m(self)\u001b[0m\n\u001b[0;32m    129\u001b[0m \u001b[38;5;28;01mdef\u001b[39;00m \u001b[38;5;21m_get_support_mask\u001b[39m(\u001b[38;5;28mself\u001b[39m):\n\u001b[0;32m    130\u001b[0m     check_is_fitted(\u001b[38;5;28mself\u001b[39m)\n\u001b[1;32m--> 132\u001b[0m     \u001b[38;5;28;01mreturn\u001b[39;00m \u001b[38;5;28;43mself\u001b[39;49m\u001b[38;5;241;43m.\u001b[39;49m\u001b[43mvariances_\u001b[49m \u001b[38;5;241m>\u001b[39m \u001b[38;5;28mself\u001b[39m\u001b[38;5;241m.\u001b[39mthreshold\n",
      "\u001b[1;31mAttributeError\u001b[0m: 'VarianceThreshold' object has no attribute 'variances_'"
     ]
    }
   ],
   "source": [
    "vt.get_support()    ## True -> not constant, False -> Constant"
   ]
  },
  {
   "cell_type": "code",
   "execution_count": 29,
   "metadata": {
    "colab": {
     "base_uri": "https://localhost:8080/"
    },
    "id": "saYrWTvk4bfC",
    "outputId": "1d0d6544-b123-46f1-f331-c24ce1e4447a"
   },
   "outputs": [
    {
     "ename": "AttributeError",
     "evalue": "'VarianceThreshold' object has no attribute 'variances_'",
     "output_type": "error",
     "traceback": [
      "\u001b[1;31m---------------------------------------------------------------------------\u001b[0m",
      "\u001b[1;31mAttributeError\u001b[0m                            Traceback (most recent call last)",
      "Cell \u001b[1;32mIn[29], line 1\u001b[0m\n\u001b[1;32m----> 1\u001b[0m X_train\u001b[38;5;241m.\u001b[39mcolumns[\u001b[38;5;241m~\u001b[39m\u001b[43mvt\u001b[49m\u001b[38;5;241;43m.\u001b[39;49m\u001b[43mget_support\u001b[49m\u001b[43m(\u001b[49m\u001b[43m)\u001b[49m]       \u001b[38;5;66;03m## So  is a constant feature lets remove it\u001b[39;00m\n",
      "File \u001b[1;32m~\\.virtualenvs\\Global_Utility_05-sbsjTaLH\\lib\\site-packages\\sklearn\\feature_selection\\_base.py:53\u001b[0m, in \u001b[0;36mSelectorMixin.get_support\u001b[1;34m(self, indices)\u001b[0m\n\u001b[0;32m     33\u001b[0m \u001b[38;5;28;01mdef\u001b[39;00m \u001b[38;5;21mget_support\u001b[39m(\u001b[38;5;28mself\u001b[39m, indices\u001b[38;5;241m=\u001b[39m\u001b[38;5;28;01mFalse\u001b[39;00m):\n\u001b[0;32m     34\u001b[0m \u001b[38;5;250m    \u001b[39m\u001b[38;5;124;03m\"\"\"\u001b[39;00m\n\u001b[0;32m     35\u001b[0m \u001b[38;5;124;03m    Get a mask, or integer index, of the features selected.\u001b[39;00m\n\u001b[0;32m     36\u001b[0m \n\u001b[1;32m   (...)\u001b[0m\n\u001b[0;32m     51\u001b[0m \u001b[38;5;124;03m        values are indices into the input feature vector.\u001b[39;00m\n\u001b[0;32m     52\u001b[0m \u001b[38;5;124;03m    \"\"\"\u001b[39;00m\n\u001b[1;32m---> 53\u001b[0m     mask \u001b[38;5;241m=\u001b[39m \u001b[38;5;28;43mself\u001b[39;49m\u001b[38;5;241;43m.\u001b[39;49m\u001b[43m_get_support_mask\u001b[49m\u001b[43m(\u001b[49m\u001b[43m)\u001b[49m\n\u001b[0;32m     54\u001b[0m     \u001b[38;5;28;01mreturn\u001b[39;00m mask \u001b[38;5;28;01mif\u001b[39;00m \u001b[38;5;129;01mnot\u001b[39;00m indices \u001b[38;5;28;01melse\u001b[39;00m np\u001b[38;5;241m.\u001b[39mwhere(mask)[\u001b[38;5;241m0\u001b[39m]\n",
      "File \u001b[1;32m~\\.virtualenvs\\Global_Utility_05-sbsjTaLH\\lib\\site-packages\\sklearn\\feature_selection\\_variance_threshold.py:132\u001b[0m, in \u001b[0;36mVarianceThreshold._get_support_mask\u001b[1;34m(self)\u001b[0m\n\u001b[0;32m    129\u001b[0m \u001b[38;5;28;01mdef\u001b[39;00m \u001b[38;5;21m_get_support_mask\u001b[39m(\u001b[38;5;28mself\u001b[39m):\n\u001b[0;32m    130\u001b[0m     check_is_fitted(\u001b[38;5;28mself\u001b[39m)\n\u001b[1;32m--> 132\u001b[0m     \u001b[38;5;28;01mreturn\u001b[39;00m \u001b[38;5;28;43mself\u001b[39;49m\u001b[38;5;241;43m.\u001b[39;49m\u001b[43mvariances_\u001b[49m \u001b[38;5;241m>\u001b[39m \u001b[38;5;28mself\u001b[39m\u001b[38;5;241m.\u001b[39mthreshold\n",
      "\u001b[1;31mAttributeError\u001b[0m: 'VarianceThreshold' object has no attribute 'variances_'"
     ]
    }
   ],
   "source": [
    "X_train.columns[~vt.get_support()]       ## So  is a constant feature lets remove it"
   ]
  },
  {
   "cell_type": "code",
   "execution_count": 30,
   "metadata": {
    "colab": {
     "base_uri": "https://localhost:8080/"
    },
    "id": "1kskq2uf4gtu",
    "outputId": "74673171-fb80-4892-c774-ae7fd5980f64"
   },
   "outputs": [
    {
     "ename": "AttributeError",
     "evalue": "'VarianceThreshold' object has no attribute 'variances_'",
     "output_type": "error",
     "traceback": [
      "\u001b[1;31m---------------------------------------------------------------------------\u001b[0m",
      "\u001b[1;31mAttributeError\u001b[0m                            Traceback (most recent call last)",
      "Cell \u001b[1;32mIn[30], line 2\u001b[0m\n\u001b[0;32m      1\u001b[0m \u001b[38;5;66;03m## Non constant features : \u001b[39;00m\n\u001b[1;32m----> 2\u001b[0m n_c \u001b[38;5;241m=\u001b[39m X_train\u001b[38;5;241m.\u001b[39mcolumns[\u001b[43mvt\u001b[49m\u001b[38;5;241;43m.\u001b[39;49m\u001b[43mget_support\u001b[49m\u001b[43m(\u001b[49m\u001b[43m)\u001b[49m]\n\u001b[0;32m      3\u001b[0m n_c\n",
      "File \u001b[1;32m~\\.virtualenvs\\Global_Utility_05-sbsjTaLH\\lib\\site-packages\\sklearn\\feature_selection\\_base.py:53\u001b[0m, in \u001b[0;36mSelectorMixin.get_support\u001b[1;34m(self, indices)\u001b[0m\n\u001b[0;32m     33\u001b[0m \u001b[38;5;28;01mdef\u001b[39;00m \u001b[38;5;21mget_support\u001b[39m(\u001b[38;5;28mself\u001b[39m, indices\u001b[38;5;241m=\u001b[39m\u001b[38;5;28;01mFalse\u001b[39;00m):\n\u001b[0;32m     34\u001b[0m \u001b[38;5;250m    \u001b[39m\u001b[38;5;124;03m\"\"\"\u001b[39;00m\n\u001b[0;32m     35\u001b[0m \u001b[38;5;124;03m    Get a mask, or integer index, of the features selected.\u001b[39;00m\n\u001b[0;32m     36\u001b[0m \n\u001b[1;32m   (...)\u001b[0m\n\u001b[0;32m     51\u001b[0m \u001b[38;5;124;03m        values are indices into the input feature vector.\u001b[39;00m\n\u001b[0;32m     52\u001b[0m \u001b[38;5;124;03m    \"\"\"\u001b[39;00m\n\u001b[1;32m---> 53\u001b[0m     mask \u001b[38;5;241m=\u001b[39m \u001b[38;5;28;43mself\u001b[39;49m\u001b[38;5;241;43m.\u001b[39;49m\u001b[43m_get_support_mask\u001b[49m\u001b[43m(\u001b[49m\u001b[43m)\u001b[49m\n\u001b[0;32m     54\u001b[0m     \u001b[38;5;28;01mreturn\u001b[39;00m mask \u001b[38;5;28;01mif\u001b[39;00m \u001b[38;5;129;01mnot\u001b[39;00m indices \u001b[38;5;28;01melse\u001b[39;00m np\u001b[38;5;241m.\u001b[39mwhere(mask)[\u001b[38;5;241m0\u001b[39m]\n",
      "File \u001b[1;32m~\\.virtualenvs\\Global_Utility_05-sbsjTaLH\\lib\\site-packages\\sklearn\\feature_selection\\_variance_threshold.py:132\u001b[0m, in \u001b[0;36mVarianceThreshold._get_support_mask\u001b[1;34m(self)\u001b[0m\n\u001b[0;32m    129\u001b[0m \u001b[38;5;28;01mdef\u001b[39;00m \u001b[38;5;21m_get_support_mask\u001b[39m(\u001b[38;5;28mself\u001b[39m):\n\u001b[0;32m    130\u001b[0m     check_is_fitted(\u001b[38;5;28mself\u001b[39m)\n\u001b[1;32m--> 132\u001b[0m     \u001b[38;5;28;01mreturn\u001b[39;00m \u001b[38;5;28;43mself\u001b[39;49m\u001b[38;5;241;43m.\u001b[39;49m\u001b[43mvariances_\u001b[49m \u001b[38;5;241m>\u001b[39m \u001b[38;5;28mself\u001b[39m\u001b[38;5;241m.\u001b[39mthreshold\n",
      "\u001b[1;31mAttributeError\u001b[0m: 'VarianceThreshold' object has no attribute 'variances_'"
     ]
    }
   ],
   "source": [
    "## Non constant features : \n",
    "n_c = X_train.columns[vt.get_support()]\n",
    "n_c"
   ]
  },
  {
   "cell_type": "code",
   "execution_count": 31,
   "metadata": {
    "colab": {
     "base_uri": "https://localhost:8080/",
     "height": 74
    },
    "id": "NRCe6r7_4nk2",
    "outputId": "92184e7c-f8c0-4a5d-a978-d27b6bdd52e4"
   },
   "outputs": [
    {
     "ename": "ValueError",
     "evalue": "could not convert string to float: '14-09-2016'",
     "output_type": "error",
     "traceback": [
      "\u001b[1;31m---------------------------------------------------------------------------\u001b[0m",
      "\u001b[1;31mValueError\u001b[0m                                Traceback (most recent call last)",
      "\u001b[1;32m~\\AppData\\Local\\Temp\\ipykernel_11744\\2698507465.py\u001b[0m in \u001b[0;36m?\u001b[1;34m()\u001b[0m\n\u001b[1;32m----> 4\u001b[1;33m \u001b[1;31m### Quasi Constant -> same values in all observations\u001b[0m\u001b[1;33m\u001b[0m\u001b[1;33m\u001b[0m\u001b[0m\n\u001b[0m\u001b[0;32m      5\u001b[0m \u001b[1;33m\u001b[0m\u001b[0m\n\u001b[0;32m      6\u001b[0m \u001b[0mvt_q\u001b[0m \u001b[1;33m=\u001b[0m \u001b[0mVarianceThreshold\u001b[0m\u001b[1;33m(\u001b[0m\u001b[0mthreshold\u001b[0m\u001b[1;33m=\u001b[0m\u001b[1;36m0.02\u001b[0m\u001b[1;33m)\u001b[0m\u001b[1;33m\u001b[0m\u001b[1;33m\u001b[0m\u001b[0m\n\u001b[0;32m      7\u001b[0m \u001b[0mvt_q\u001b[0m\u001b[1;33m.\u001b[0m\u001b[0mfit\u001b[0m\u001b[1;33m(\u001b[0m\u001b[0mX_train\u001b[0m\u001b[1;33m)\u001b[0m\u001b[1;33m\u001b[0m\u001b[1;33m\u001b[0m\u001b[0m\n",
      "\u001b[1;32m~\\.virtualenvs\\Global_Utility_05-sbsjTaLH\\lib\\site-packages\\sklearn\\feature_selection\\_variance_threshold.py\u001b[0m in \u001b[0;36m?\u001b[1;34m(self, X, y)\u001b[0m\n\u001b[0;32m     94\u001b[0m         \u001b[0mself\u001b[0m \u001b[1;33m:\u001b[0m \u001b[0mobject\u001b[0m\u001b[1;33m\u001b[0m\u001b[1;33m\u001b[0m\u001b[0m\n\u001b[0;32m     95\u001b[0m             \u001b[0mReturns\u001b[0m \u001b[0mthe\u001b[0m \u001b[0minstance\u001b[0m \u001b[0mitself\u001b[0m\u001b[1;33m.\u001b[0m\u001b[1;33m\u001b[0m\u001b[1;33m\u001b[0m\u001b[0m\n\u001b[0;32m     96\u001b[0m         \"\"\"\n\u001b[0;32m     97\u001b[0m         \u001b[0mself\u001b[0m\u001b[1;33m.\u001b[0m\u001b[0m_validate_params\u001b[0m\u001b[1;33m(\u001b[0m\u001b[1;33m)\u001b[0m\u001b[1;33m\u001b[0m\u001b[1;33m\u001b[0m\u001b[0m\n\u001b[1;32m---> 98\u001b[1;33m         X = self._validate_data(\n\u001b[0m\u001b[0;32m     99\u001b[0m             \u001b[0mX\u001b[0m\u001b[1;33m,\u001b[0m\u001b[1;33m\u001b[0m\u001b[1;33m\u001b[0m\u001b[0m\n\u001b[0;32m    100\u001b[0m             \u001b[0maccept_sparse\u001b[0m\u001b[1;33m=\u001b[0m\u001b[1;33m(\u001b[0m\u001b[1;34m\"csr\"\u001b[0m\u001b[1;33m,\u001b[0m \u001b[1;34m\"csc\"\u001b[0m\u001b[1;33m)\u001b[0m\u001b[1;33m,\u001b[0m\u001b[1;33m\u001b[0m\u001b[1;33m\u001b[0m\u001b[0m\n\u001b[0;32m    101\u001b[0m             \u001b[0mdtype\u001b[0m\u001b[1;33m=\u001b[0m\u001b[0mnp\u001b[0m\u001b[1;33m.\u001b[0m\u001b[0mfloat64\u001b[0m\u001b[1;33m,\u001b[0m\u001b[1;33m\u001b[0m\u001b[1;33m\u001b[0m\u001b[0m\n",
      "\u001b[1;32m~\\.virtualenvs\\Global_Utility_05-sbsjTaLH\\lib\\site-packages\\sklearn\\base.py\u001b[0m in \u001b[0;36m?\u001b[1;34m(self, X, y, reset, validate_separately, **check_params)\u001b[0m\n\u001b[0;32m    561\u001b[0m \u001b[1;33m\u001b[0m\u001b[0m\n\u001b[0;32m    562\u001b[0m         \u001b[1;32mif\u001b[0m \u001b[0mno_val_X\u001b[0m \u001b[1;32mand\u001b[0m \u001b[0mno_val_y\u001b[0m\u001b[1;33m:\u001b[0m\u001b[1;33m\u001b[0m\u001b[1;33m\u001b[0m\u001b[0m\n\u001b[0;32m    563\u001b[0m             \u001b[1;32mraise\u001b[0m \u001b[0mValueError\u001b[0m\u001b[1;33m(\u001b[0m\u001b[1;34m\"Validation should be done on X, y or both.\"\u001b[0m\u001b[1;33m)\u001b[0m\u001b[1;33m\u001b[0m\u001b[1;33m\u001b[0m\u001b[0m\n\u001b[0;32m    564\u001b[0m         \u001b[1;32melif\u001b[0m \u001b[1;32mnot\u001b[0m \u001b[0mno_val_X\u001b[0m \u001b[1;32mand\u001b[0m \u001b[0mno_val_y\u001b[0m\u001b[1;33m:\u001b[0m\u001b[1;33m\u001b[0m\u001b[1;33m\u001b[0m\u001b[0m\n\u001b[1;32m--> 565\u001b[1;33m             \u001b[0mX\u001b[0m \u001b[1;33m=\u001b[0m \u001b[0mcheck_array\u001b[0m\u001b[1;33m(\u001b[0m\u001b[0mX\u001b[0m\u001b[1;33m,\u001b[0m \u001b[0minput_name\u001b[0m\u001b[1;33m=\u001b[0m\u001b[1;34m\"X\"\u001b[0m\u001b[1;33m,\u001b[0m \u001b[1;33m**\u001b[0m\u001b[0mcheck_params\u001b[0m\u001b[1;33m)\u001b[0m\u001b[1;33m\u001b[0m\u001b[1;33m\u001b[0m\u001b[0m\n\u001b[0m\u001b[0;32m    566\u001b[0m             \u001b[0mout\u001b[0m \u001b[1;33m=\u001b[0m \u001b[0mX\u001b[0m\u001b[1;33m\u001b[0m\u001b[1;33m\u001b[0m\u001b[0m\n\u001b[0;32m    567\u001b[0m         \u001b[1;32melif\u001b[0m \u001b[0mno_val_X\u001b[0m \u001b[1;32mand\u001b[0m \u001b[1;32mnot\u001b[0m \u001b[0mno_val_y\u001b[0m\u001b[1;33m:\u001b[0m\u001b[1;33m\u001b[0m\u001b[1;33m\u001b[0m\u001b[0m\n\u001b[0;32m    568\u001b[0m             \u001b[0my\u001b[0m \u001b[1;33m=\u001b[0m \u001b[0m_check_y\u001b[0m\u001b[1;33m(\u001b[0m\u001b[0my\u001b[0m\u001b[1;33m,\u001b[0m \u001b[1;33m**\u001b[0m\u001b[0mcheck_params\u001b[0m\u001b[1;33m)\u001b[0m\u001b[1;33m\u001b[0m\u001b[1;33m\u001b[0m\u001b[0m\n",
      "\u001b[1;32m~\\.virtualenvs\\Global_Utility_05-sbsjTaLH\\lib\\site-packages\\sklearn\\utils\\validation.py\u001b[0m in \u001b[0;36m?\u001b[1;34m(array, accept_sparse, accept_large_sparse, dtype, order, copy, force_all_finite, ensure_2d, allow_nd, ensure_min_samples, ensure_min_features, estimator, input_name)\u001b[0m\n\u001b[0;32m    877\u001b[0m                     \u001b[0marray\u001b[0m \u001b[1;33m=\u001b[0m \u001b[0mxp\u001b[0m\u001b[1;33m.\u001b[0m\u001b[0mastype\u001b[0m\u001b[1;33m(\u001b[0m\u001b[0marray\u001b[0m\u001b[1;33m,\u001b[0m \u001b[0mdtype\u001b[0m\u001b[1;33m,\u001b[0m \u001b[0mcopy\u001b[0m\u001b[1;33m=\u001b[0m\u001b[1;32mFalse\u001b[0m\u001b[1;33m)\u001b[0m\u001b[1;33m\u001b[0m\u001b[1;33m\u001b[0m\u001b[0m\n\u001b[0;32m    878\u001b[0m                 \u001b[1;32melse\u001b[0m\u001b[1;33m:\u001b[0m\u001b[1;33m\u001b[0m\u001b[1;33m\u001b[0m\u001b[0m\n\u001b[0;32m    879\u001b[0m                     \u001b[0marray\u001b[0m \u001b[1;33m=\u001b[0m \u001b[0m_asarray_with_order\u001b[0m\u001b[1;33m(\u001b[0m\u001b[0marray\u001b[0m\u001b[1;33m,\u001b[0m \u001b[0morder\u001b[0m\u001b[1;33m=\u001b[0m\u001b[0morder\u001b[0m\u001b[1;33m,\u001b[0m \u001b[0mdtype\u001b[0m\u001b[1;33m=\u001b[0m\u001b[0mdtype\u001b[0m\u001b[1;33m,\u001b[0m \u001b[0mxp\u001b[0m\u001b[1;33m=\u001b[0m\u001b[0mxp\u001b[0m\u001b[1;33m)\u001b[0m\u001b[1;33m\u001b[0m\u001b[1;33m\u001b[0m\u001b[0m\n\u001b[0;32m    880\u001b[0m             \u001b[1;32mexcept\u001b[0m \u001b[0mComplexWarning\u001b[0m \u001b[1;32mas\u001b[0m \u001b[0mcomplex_warning\u001b[0m\u001b[1;33m:\u001b[0m\u001b[1;33m\u001b[0m\u001b[1;33m\u001b[0m\u001b[0m\n\u001b[1;32m--> 881\u001b[1;33m                 raise ValueError(\n\u001b[0m\u001b[0;32m    882\u001b[0m                     \u001b[1;34m\"Complex data not supported\\n{}\\n\"\u001b[0m\u001b[1;33m.\u001b[0m\u001b[0mformat\u001b[0m\u001b[1;33m(\u001b[0m\u001b[0marray\u001b[0m\u001b[1;33m)\u001b[0m\u001b[1;33m\u001b[0m\u001b[1;33m\u001b[0m\u001b[0m\n\u001b[0;32m    883\u001b[0m                 ) from complex_warning\n\u001b[0;32m    884\u001b[0m \u001b[1;33m\u001b[0m\u001b[0m\n",
      "\u001b[1;32m~\\.virtualenvs\\Global_Utility_05-sbsjTaLH\\lib\\site-packages\\sklearn\\utils\\_array_api.py\u001b[0m in \u001b[0;36m?\u001b[1;34m(array, dtype, order, copy, xp)\u001b[0m\n\u001b[0;32m    181\u001b[0m     \u001b[1;32mif\u001b[0m \u001b[0mxp\u001b[0m \u001b[1;32mis\u001b[0m \u001b[1;32mNone\u001b[0m\u001b[1;33m:\u001b[0m\u001b[1;33m\u001b[0m\u001b[1;33m\u001b[0m\u001b[0m\n\u001b[0;32m    182\u001b[0m         \u001b[0mxp\u001b[0m\u001b[1;33m,\u001b[0m \u001b[0m_\u001b[0m \u001b[1;33m=\u001b[0m \u001b[0mget_namespace\u001b[0m\u001b[1;33m(\u001b[0m\u001b[0marray\u001b[0m\u001b[1;33m)\u001b[0m\u001b[1;33m\u001b[0m\u001b[1;33m\u001b[0m\u001b[0m\n\u001b[0;32m    183\u001b[0m     \u001b[1;32mif\u001b[0m \u001b[0mxp\u001b[0m\u001b[1;33m.\u001b[0m\u001b[0m__name__\u001b[0m \u001b[1;32min\u001b[0m \u001b[1;33m{\u001b[0m\u001b[1;34m\"numpy\"\u001b[0m\u001b[1;33m,\u001b[0m \u001b[1;34m\"numpy.array_api\"\u001b[0m\u001b[1;33m}\u001b[0m\u001b[1;33m:\u001b[0m\u001b[1;33m\u001b[0m\u001b[1;33m\u001b[0m\u001b[0m\n\u001b[0;32m    184\u001b[0m         \u001b[1;31m# Use NumPy API to support order\u001b[0m\u001b[1;33m\u001b[0m\u001b[1;33m\u001b[0m\u001b[0m\n\u001b[1;32m--> 185\u001b[1;33m         \u001b[0marray\u001b[0m \u001b[1;33m=\u001b[0m \u001b[0mnumpy\u001b[0m\u001b[1;33m.\u001b[0m\u001b[0masarray\u001b[0m\u001b[1;33m(\u001b[0m\u001b[0marray\u001b[0m\u001b[1;33m,\u001b[0m \u001b[0morder\u001b[0m\u001b[1;33m=\u001b[0m\u001b[0morder\u001b[0m\u001b[1;33m,\u001b[0m \u001b[0mdtype\u001b[0m\u001b[1;33m=\u001b[0m\u001b[0mdtype\u001b[0m\u001b[1;33m)\u001b[0m\u001b[1;33m\u001b[0m\u001b[1;33m\u001b[0m\u001b[0m\n\u001b[0m\u001b[0;32m    186\u001b[0m         \u001b[1;32mreturn\u001b[0m \u001b[0mxp\u001b[0m\u001b[1;33m.\u001b[0m\u001b[0masarray\u001b[0m\u001b[1;33m(\u001b[0m\u001b[0marray\u001b[0m\u001b[1;33m,\u001b[0m \u001b[0mcopy\u001b[0m\u001b[1;33m=\u001b[0m\u001b[0mcopy\u001b[0m\u001b[1;33m)\u001b[0m\u001b[1;33m\u001b[0m\u001b[1;33m\u001b[0m\u001b[0m\n\u001b[0;32m    187\u001b[0m     \u001b[1;32melse\u001b[0m\u001b[1;33m:\u001b[0m\u001b[1;33m\u001b[0m\u001b[1;33m\u001b[0m\u001b[0m\n\u001b[0;32m    188\u001b[0m         \u001b[1;32mreturn\u001b[0m \u001b[0mxp\u001b[0m\u001b[1;33m.\u001b[0m\u001b[0masarray\u001b[0m\u001b[1;33m(\u001b[0m\u001b[0marray\u001b[0m\u001b[1;33m,\u001b[0m \u001b[0mdtype\u001b[0m\u001b[1;33m=\u001b[0m\u001b[0mdtype\u001b[0m\u001b[1;33m,\u001b[0m \u001b[0mcopy\u001b[0m\u001b[1;33m=\u001b[0m\u001b[0mcopy\u001b[0m\u001b[1;33m)\u001b[0m\u001b[1;33m\u001b[0m\u001b[1;33m\u001b[0m\u001b[0m\n",
      "\u001b[1;32m~\\.virtualenvs\\Global_Utility_05-sbsjTaLH\\lib\\site-packages\\pandas\\core\\generic.py\u001b[0m in \u001b[0;36m?\u001b[1;34m(self, dtype)\u001b[0m\n\u001b[0;32m   1996\u001b[0m     \u001b[1;32mdef\u001b[0m \u001b[0m__array__\u001b[0m\u001b[1;33m(\u001b[0m\u001b[0mself\u001b[0m\u001b[1;33m,\u001b[0m \u001b[0mdtype\u001b[0m\u001b[1;33m:\u001b[0m \u001b[0mnpt\u001b[0m\u001b[1;33m.\u001b[0m\u001b[0mDTypeLike\u001b[0m \u001b[1;33m|\u001b[0m \u001b[1;32mNone\u001b[0m \u001b[1;33m=\u001b[0m \u001b[1;32mNone\u001b[0m\u001b[1;33m)\u001b[0m \u001b[1;33m->\u001b[0m \u001b[0mnp\u001b[0m\u001b[1;33m.\u001b[0m\u001b[0mndarray\u001b[0m\u001b[1;33m:\u001b[0m\u001b[1;33m\u001b[0m\u001b[1;33m\u001b[0m\u001b[0m\n\u001b[0;32m   1997\u001b[0m         \u001b[0mvalues\u001b[0m \u001b[1;33m=\u001b[0m \u001b[0mself\u001b[0m\u001b[1;33m.\u001b[0m\u001b[0m_values\u001b[0m\u001b[1;33m\u001b[0m\u001b[1;33m\u001b[0m\u001b[0m\n\u001b[1;32m-> 1998\u001b[1;33m         \u001b[0marr\u001b[0m \u001b[1;33m=\u001b[0m \u001b[0mnp\u001b[0m\u001b[1;33m.\u001b[0m\u001b[0masarray\u001b[0m\u001b[1;33m(\u001b[0m\u001b[0mvalues\u001b[0m\u001b[1;33m,\u001b[0m \u001b[0mdtype\u001b[0m\u001b[1;33m=\u001b[0m\u001b[0mdtype\u001b[0m\u001b[1;33m)\u001b[0m\u001b[1;33m\u001b[0m\u001b[1;33m\u001b[0m\u001b[0m\n\u001b[0m\u001b[0;32m   1999\u001b[0m         if (\n\u001b[0;32m   2000\u001b[0m             \u001b[0mastype_is_view\u001b[0m\u001b[1;33m(\u001b[0m\u001b[0mvalues\u001b[0m\u001b[1;33m.\u001b[0m\u001b[0mdtype\u001b[0m\u001b[1;33m,\u001b[0m \u001b[0marr\u001b[0m\u001b[1;33m.\u001b[0m\u001b[0mdtype\u001b[0m\u001b[1;33m)\u001b[0m\u001b[1;33m\u001b[0m\u001b[1;33m\u001b[0m\u001b[0m\n\u001b[0;32m   2001\u001b[0m             \u001b[1;32mand\u001b[0m \u001b[0musing_copy_on_write\u001b[0m\u001b[1;33m(\u001b[0m\u001b[1;33m)\u001b[0m\u001b[1;33m\u001b[0m\u001b[1;33m\u001b[0m\u001b[0m\n",
      "\u001b[1;31mValueError\u001b[0m: could not convert string to float: '14-09-2016'"
     ]
    }
   ],
   "source": [
    "### Quasi Constant -> same values in all observations\n",
    "\n",
    "vt_q = VarianceThreshold(threshold=0.02)\n",
    "vt_q.fit(X_train)"
   ]
  },
  {
   "cell_type": "code",
   "execution_count": 32,
   "metadata": {
    "colab": {
     "base_uri": "https://localhost:8080/"
    },
    "id": "ykqp2L8E4qbS",
    "outputId": "d9c4279b-eb30-4621-95b8-0c171fff42c4"
   },
   "outputs": [
    {
     "ename": "AttributeError",
     "evalue": "'VarianceThreshold' object has no attribute 'variances_'",
     "output_type": "error",
     "traceback": [
      "\u001b[1;31m---------------------------------------------------------------------------\u001b[0m",
      "\u001b[1;31mAttributeError\u001b[0m                            Traceback (most recent call last)",
      "Cell \u001b[1;32mIn[32], line 1\u001b[0m\n\u001b[1;32m----> 1\u001b[0m X_train\u001b[38;5;241m.\u001b[39mcolumns[\u001b[38;5;241m~\u001b[39m\u001b[43mvt_q\u001b[49m\u001b[38;5;241;43m.\u001b[39;49m\u001b[43mget_support\u001b[49m\u001b[43m(\u001b[49m\u001b[43m)\u001b[49m]\n",
      "File \u001b[1;32m~\\.virtualenvs\\Global_Utility_05-sbsjTaLH\\lib\\site-packages\\sklearn\\feature_selection\\_base.py:53\u001b[0m, in \u001b[0;36mSelectorMixin.get_support\u001b[1;34m(self, indices)\u001b[0m\n\u001b[0;32m     33\u001b[0m \u001b[38;5;28;01mdef\u001b[39;00m \u001b[38;5;21mget_support\u001b[39m(\u001b[38;5;28mself\u001b[39m, indices\u001b[38;5;241m=\u001b[39m\u001b[38;5;28;01mFalse\u001b[39;00m):\n\u001b[0;32m     34\u001b[0m \u001b[38;5;250m    \u001b[39m\u001b[38;5;124;03m\"\"\"\u001b[39;00m\n\u001b[0;32m     35\u001b[0m \u001b[38;5;124;03m    Get a mask, or integer index, of the features selected.\u001b[39;00m\n\u001b[0;32m     36\u001b[0m \n\u001b[1;32m   (...)\u001b[0m\n\u001b[0;32m     51\u001b[0m \u001b[38;5;124;03m        values are indices into the input feature vector.\u001b[39;00m\n\u001b[0;32m     52\u001b[0m \u001b[38;5;124;03m    \"\"\"\u001b[39;00m\n\u001b[1;32m---> 53\u001b[0m     mask \u001b[38;5;241m=\u001b[39m \u001b[38;5;28;43mself\u001b[39;49m\u001b[38;5;241;43m.\u001b[39;49m\u001b[43m_get_support_mask\u001b[49m\u001b[43m(\u001b[49m\u001b[43m)\u001b[49m\n\u001b[0;32m     54\u001b[0m     \u001b[38;5;28;01mreturn\u001b[39;00m mask \u001b[38;5;28;01mif\u001b[39;00m \u001b[38;5;129;01mnot\u001b[39;00m indices \u001b[38;5;28;01melse\u001b[39;00m np\u001b[38;5;241m.\u001b[39mwhere(mask)[\u001b[38;5;241m0\u001b[39m]\n",
      "File \u001b[1;32m~\\.virtualenvs\\Global_Utility_05-sbsjTaLH\\lib\\site-packages\\sklearn\\feature_selection\\_variance_threshold.py:132\u001b[0m, in \u001b[0;36mVarianceThreshold._get_support_mask\u001b[1;34m(self)\u001b[0m\n\u001b[0;32m    129\u001b[0m \u001b[38;5;28;01mdef\u001b[39;00m \u001b[38;5;21m_get_support_mask\u001b[39m(\u001b[38;5;28mself\u001b[39m):\n\u001b[0;32m    130\u001b[0m     check_is_fitted(\u001b[38;5;28mself\u001b[39m)\n\u001b[1;32m--> 132\u001b[0m     \u001b[38;5;28;01mreturn\u001b[39;00m \u001b[38;5;28;43mself\u001b[39;49m\u001b[38;5;241;43m.\u001b[39;49m\u001b[43mvariances_\u001b[49m \u001b[38;5;241m>\u001b[39m \u001b[38;5;28mself\u001b[39m\u001b[38;5;241m.\u001b[39mthreshold\n",
      "\u001b[1;31mAttributeError\u001b[0m: 'VarianceThreshold' object has no attribute 'variances_'"
     ]
    }
   ],
   "source": [
    "X_train.columns[~vt_q.get_support()]"
   ]
  },
  {
   "cell_type": "code",
   "execution_count": 33,
   "metadata": {
    "colab": {
     "base_uri": "https://localhost:8080/"
    },
    "id": "6Nbyoq4w4tAL",
    "outputId": "4b7ecada-5a02-4ae0-bc44-25ddee215387"
   },
   "outputs": [
    {
     "ename": "ValueError",
     "evalue": "could not convert string to float: '14-09-2016'",
     "output_type": "error",
     "traceback": [
      "\u001b[1;31m---------------------------------------------------------------------------\u001b[0m",
      "\u001b[1;31mValueError\u001b[0m                                Traceback (most recent call last)",
      "\u001b[1;32m~\\AppData\\Local\\Temp\\ipykernel_11744\\3137383343.py\u001b[0m in \u001b[0;36m?\u001b[1;34m()\u001b[0m\n\u001b[1;32m----> 2\u001b[1;33m \u001b[0mvt_q\u001b[0m \u001b[1;33m=\u001b[0m \u001b[0mVarianceThreshold\u001b[0m\u001b[1;33m(\u001b[0m\u001b[0mthreshold\u001b[0m\u001b[1;33m=\u001b[0m\u001b[1;36m0.05\u001b[0m\u001b[1;33m)\u001b[0m\u001b[1;33m\u001b[0m\u001b[1;33m\u001b[0m\u001b[0m\n\u001b[0m\u001b[0;32m      3\u001b[0m \u001b[0mvt_q\u001b[0m\u001b[1;33m.\u001b[0m\u001b[0mfit\u001b[0m\u001b[1;33m(\u001b[0m\u001b[0mX_train\u001b[0m\u001b[1;33m)\u001b[0m\u001b[1;33m\u001b[0m\u001b[1;33m\u001b[0m\u001b[0m\n\u001b[0;32m      4\u001b[0m \u001b[1;33m\u001b[0m\u001b[0m\n\u001b[0;32m      5\u001b[0m \u001b[0mX_train\u001b[0m\u001b[1;33m.\u001b[0m\u001b[0mcolumns\u001b[0m\u001b[1;33m[\u001b[0m\u001b[1;33m~\u001b[0m\u001b[0mvt_q\u001b[0m\u001b[1;33m.\u001b[0m\u001b[0mget_support\u001b[0m\u001b[1;33m(\u001b[0m\u001b[1;33m)\u001b[0m\u001b[1;33m]\u001b[0m\u001b[1;33m\u001b[0m\u001b[1;33m\u001b[0m\u001b[0m\n",
      "\u001b[1;32m~\\.virtualenvs\\Global_Utility_05-sbsjTaLH\\lib\\site-packages\\sklearn\\feature_selection\\_variance_threshold.py\u001b[0m in \u001b[0;36m?\u001b[1;34m(self, X, y)\u001b[0m\n\u001b[0;32m     94\u001b[0m         \u001b[0mself\u001b[0m \u001b[1;33m:\u001b[0m \u001b[0mobject\u001b[0m\u001b[1;33m\u001b[0m\u001b[1;33m\u001b[0m\u001b[0m\n\u001b[0;32m     95\u001b[0m             \u001b[0mReturns\u001b[0m \u001b[0mthe\u001b[0m \u001b[0minstance\u001b[0m \u001b[0mitself\u001b[0m\u001b[1;33m.\u001b[0m\u001b[1;33m\u001b[0m\u001b[1;33m\u001b[0m\u001b[0m\n\u001b[0;32m     96\u001b[0m         \"\"\"\n\u001b[0;32m     97\u001b[0m         \u001b[0mself\u001b[0m\u001b[1;33m.\u001b[0m\u001b[0m_validate_params\u001b[0m\u001b[1;33m(\u001b[0m\u001b[1;33m)\u001b[0m\u001b[1;33m\u001b[0m\u001b[1;33m\u001b[0m\u001b[0m\n\u001b[1;32m---> 98\u001b[1;33m         X = self._validate_data(\n\u001b[0m\u001b[0;32m     99\u001b[0m             \u001b[0mX\u001b[0m\u001b[1;33m,\u001b[0m\u001b[1;33m\u001b[0m\u001b[1;33m\u001b[0m\u001b[0m\n\u001b[0;32m    100\u001b[0m             \u001b[0maccept_sparse\u001b[0m\u001b[1;33m=\u001b[0m\u001b[1;33m(\u001b[0m\u001b[1;34m\"csr\"\u001b[0m\u001b[1;33m,\u001b[0m \u001b[1;34m\"csc\"\u001b[0m\u001b[1;33m)\u001b[0m\u001b[1;33m,\u001b[0m\u001b[1;33m\u001b[0m\u001b[1;33m\u001b[0m\u001b[0m\n\u001b[0;32m    101\u001b[0m             \u001b[0mdtype\u001b[0m\u001b[1;33m=\u001b[0m\u001b[0mnp\u001b[0m\u001b[1;33m.\u001b[0m\u001b[0mfloat64\u001b[0m\u001b[1;33m,\u001b[0m\u001b[1;33m\u001b[0m\u001b[1;33m\u001b[0m\u001b[0m\n",
      "\u001b[1;32m~\\.virtualenvs\\Global_Utility_05-sbsjTaLH\\lib\\site-packages\\sklearn\\base.py\u001b[0m in \u001b[0;36m?\u001b[1;34m(self, X, y, reset, validate_separately, **check_params)\u001b[0m\n\u001b[0;32m    561\u001b[0m \u001b[1;33m\u001b[0m\u001b[0m\n\u001b[0;32m    562\u001b[0m         \u001b[1;32mif\u001b[0m \u001b[0mno_val_X\u001b[0m \u001b[1;32mand\u001b[0m \u001b[0mno_val_y\u001b[0m\u001b[1;33m:\u001b[0m\u001b[1;33m\u001b[0m\u001b[1;33m\u001b[0m\u001b[0m\n\u001b[0;32m    563\u001b[0m             \u001b[1;32mraise\u001b[0m \u001b[0mValueError\u001b[0m\u001b[1;33m(\u001b[0m\u001b[1;34m\"Validation should be done on X, y or both.\"\u001b[0m\u001b[1;33m)\u001b[0m\u001b[1;33m\u001b[0m\u001b[1;33m\u001b[0m\u001b[0m\n\u001b[0;32m    564\u001b[0m         \u001b[1;32melif\u001b[0m \u001b[1;32mnot\u001b[0m \u001b[0mno_val_X\u001b[0m \u001b[1;32mand\u001b[0m \u001b[0mno_val_y\u001b[0m\u001b[1;33m:\u001b[0m\u001b[1;33m\u001b[0m\u001b[1;33m\u001b[0m\u001b[0m\n\u001b[1;32m--> 565\u001b[1;33m             \u001b[0mX\u001b[0m \u001b[1;33m=\u001b[0m \u001b[0mcheck_array\u001b[0m\u001b[1;33m(\u001b[0m\u001b[0mX\u001b[0m\u001b[1;33m,\u001b[0m \u001b[0minput_name\u001b[0m\u001b[1;33m=\u001b[0m\u001b[1;34m\"X\"\u001b[0m\u001b[1;33m,\u001b[0m \u001b[1;33m**\u001b[0m\u001b[0mcheck_params\u001b[0m\u001b[1;33m)\u001b[0m\u001b[1;33m\u001b[0m\u001b[1;33m\u001b[0m\u001b[0m\n\u001b[0m\u001b[0;32m    566\u001b[0m             \u001b[0mout\u001b[0m \u001b[1;33m=\u001b[0m \u001b[0mX\u001b[0m\u001b[1;33m\u001b[0m\u001b[1;33m\u001b[0m\u001b[0m\n\u001b[0;32m    567\u001b[0m         \u001b[1;32melif\u001b[0m \u001b[0mno_val_X\u001b[0m \u001b[1;32mand\u001b[0m \u001b[1;32mnot\u001b[0m \u001b[0mno_val_y\u001b[0m\u001b[1;33m:\u001b[0m\u001b[1;33m\u001b[0m\u001b[1;33m\u001b[0m\u001b[0m\n\u001b[0;32m    568\u001b[0m             \u001b[0my\u001b[0m \u001b[1;33m=\u001b[0m \u001b[0m_check_y\u001b[0m\u001b[1;33m(\u001b[0m\u001b[0my\u001b[0m\u001b[1;33m,\u001b[0m \u001b[1;33m**\u001b[0m\u001b[0mcheck_params\u001b[0m\u001b[1;33m)\u001b[0m\u001b[1;33m\u001b[0m\u001b[1;33m\u001b[0m\u001b[0m\n",
      "\u001b[1;32m~\\.virtualenvs\\Global_Utility_05-sbsjTaLH\\lib\\site-packages\\sklearn\\utils\\validation.py\u001b[0m in \u001b[0;36m?\u001b[1;34m(array, accept_sparse, accept_large_sparse, dtype, order, copy, force_all_finite, ensure_2d, allow_nd, ensure_min_samples, ensure_min_features, estimator, input_name)\u001b[0m\n\u001b[0;32m    877\u001b[0m                     \u001b[0marray\u001b[0m \u001b[1;33m=\u001b[0m \u001b[0mxp\u001b[0m\u001b[1;33m.\u001b[0m\u001b[0mastype\u001b[0m\u001b[1;33m(\u001b[0m\u001b[0marray\u001b[0m\u001b[1;33m,\u001b[0m \u001b[0mdtype\u001b[0m\u001b[1;33m,\u001b[0m \u001b[0mcopy\u001b[0m\u001b[1;33m=\u001b[0m\u001b[1;32mFalse\u001b[0m\u001b[1;33m)\u001b[0m\u001b[1;33m\u001b[0m\u001b[1;33m\u001b[0m\u001b[0m\n\u001b[0;32m    878\u001b[0m                 \u001b[1;32melse\u001b[0m\u001b[1;33m:\u001b[0m\u001b[1;33m\u001b[0m\u001b[1;33m\u001b[0m\u001b[0m\n\u001b[0;32m    879\u001b[0m                     \u001b[0marray\u001b[0m \u001b[1;33m=\u001b[0m \u001b[0m_asarray_with_order\u001b[0m\u001b[1;33m(\u001b[0m\u001b[0marray\u001b[0m\u001b[1;33m,\u001b[0m \u001b[0morder\u001b[0m\u001b[1;33m=\u001b[0m\u001b[0morder\u001b[0m\u001b[1;33m,\u001b[0m \u001b[0mdtype\u001b[0m\u001b[1;33m=\u001b[0m\u001b[0mdtype\u001b[0m\u001b[1;33m,\u001b[0m \u001b[0mxp\u001b[0m\u001b[1;33m=\u001b[0m\u001b[0mxp\u001b[0m\u001b[1;33m)\u001b[0m\u001b[1;33m\u001b[0m\u001b[1;33m\u001b[0m\u001b[0m\n\u001b[0;32m    880\u001b[0m             \u001b[1;32mexcept\u001b[0m \u001b[0mComplexWarning\u001b[0m \u001b[1;32mas\u001b[0m \u001b[0mcomplex_warning\u001b[0m\u001b[1;33m:\u001b[0m\u001b[1;33m\u001b[0m\u001b[1;33m\u001b[0m\u001b[0m\n\u001b[1;32m--> 881\u001b[1;33m                 raise ValueError(\n\u001b[0m\u001b[0;32m    882\u001b[0m                     \u001b[1;34m\"Complex data not supported\\n{}\\n\"\u001b[0m\u001b[1;33m.\u001b[0m\u001b[0mformat\u001b[0m\u001b[1;33m(\u001b[0m\u001b[0marray\u001b[0m\u001b[1;33m)\u001b[0m\u001b[1;33m\u001b[0m\u001b[1;33m\u001b[0m\u001b[0m\n\u001b[0;32m    883\u001b[0m                 ) from complex_warning\n\u001b[0;32m    884\u001b[0m \u001b[1;33m\u001b[0m\u001b[0m\n",
      "\u001b[1;32m~\\.virtualenvs\\Global_Utility_05-sbsjTaLH\\lib\\site-packages\\sklearn\\utils\\_array_api.py\u001b[0m in \u001b[0;36m?\u001b[1;34m(array, dtype, order, copy, xp)\u001b[0m\n\u001b[0;32m    181\u001b[0m     \u001b[1;32mif\u001b[0m \u001b[0mxp\u001b[0m \u001b[1;32mis\u001b[0m \u001b[1;32mNone\u001b[0m\u001b[1;33m:\u001b[0m\u001b[1;33m\u001b[0m\u001b[1;33m\u001b[0m\u001b[0m\n\u001b[0;32m    182\u001b[0m         \u001b[0mxp\u001b[0m\u001b[1;33m,\u001b[0m \u001b[0m_\u001b[0m \u001b[1;33m=\u001b[0m \u001b[0mget_namespace\u001b[0m\u001b[1;33m(\u001b[0m\u001b[0marray\u001b[0m\u001b[1;33m)\u001b[0m\u001b[1;33m\u001b[0m\u001b[1;33m\u001b[0m\u001b[0m\n\u001b[0;32m    183\u001b[0m     \u001b[1;32mif\u001b[0m \u001b[0mxp\u001b[0m\u001b[1;33m.\u001b[0m\u001b[0m__name__\u001b[0m \u001b[1;32min\u001b[0m \u001b[1;33m{\u001b[0m\u001b[1;34m\"numpy\"\u001b[0m\u001b[1;33m,\u001b[0m \u001b[1;34m\"numpy.array_api\"\u001b[0m\u001b[1;33m}\u001b[0m\u001b[1;33m:\u001b[0m\u001b[1;33m\u001b[0m\u001b[1;33m\u001b[0m\u001b[0m\n\u001b[0;32m    184\u001b[0m         \u001b[1;31m# Use NumPy API to support order\u001b[0m\u001b[1;33m\u001b[0m\u001b[1;33m\u001b[0m\u001b[0m\n\u001b[1;32m--> 185\u001b[1;33m         \u001b[0marray\u001b[0m \u001b[1;33m=\u001b[0m \u001b[0mnumpy\u001b[0m\u001b[1;33m.\u001b[0m\u001b[0masarray\u001b[0m\u001b[1;33m(\u001b[0m\u001b[0marray\u001b[0m\u001b[1;33m,\u001b[0m \u001b[0morder\u001b[0m\u001b[1;33m=\u001b[0m\u001b[0morder\u001b[0m\u001b[1;33m,\u001b[0m \u001b[0mdtype\u001b[0m\u001b[1;33m=\u001b[0m\u001b[0mdtype\u001b[0m\u001b[1;33m)\u001b[0m\u001b[1;33m\u001b[0m\u001b[1;33m\u001b[0m\u001b[0m\n\u001b[0m\u001b[0;32m    186\u001b[0m         \u001b[1;32mreturn\u001b[0m \u001b[0mxp\u001b[0m\u001b[1;33m.\u001b[0m\u001b[0masarray\u001b[0m\u001b[1;33m(\u001b[0m\u001b[0marray\u001b[0m\u001b[1;33m,\u001b[0m \u001b[0mcopy\u001b[0m\u001b[1;33m=\u001b[0m\u001b[0mcopy\u001b[0m\u001b[1;33m)\u001b[0m\u001b[1;33m\u001b[0m\u001b[1;33m\u001b[0m\u001b[0m\n\u001b[0;32m    187\u001b[0m     \u001b[1;32melse\u001b[0m\u001b[1;33m:\u001b[0m\u001b[1;33m\u001b[0m\u001b[1;33m\u001b[0m\u001b[0m\n\u001b[0;32m    188\u001b[0m         \u001b[1;32mreturn\u001b[0m \u001b[0mxp\u001b[0m\u001b[1;33m.\u001b[0m\u001b[0masarray\u001b[0m\u001b[1;33m(\u001b[0m\u001b[0marray\u001b[0m\u001b[1;33m,\u001b[0m \u001b[0mdtype\u001b[0m\u001b[1;33m=\u001b[0m\u001b[0mdtype\u001b[0m\u001b[1;33m,\u001b[0m \u001b[0mcopy\u001b[0m\u001b[1;33m=\u001b[0m\u001b[0mcopy\u001b[0m\u001b[1;33m)\u001b[0m\u001b[1;33m\u001b[0m\u001b[1;33m\u001b[0m\u001b[0m\n",
      "\u001b[1;32m~\\.virtualenvs\\Global_Utility_05-sbsjTaLH\\lib\\site-packages\\pandas\\core\\generic.py\u001b[0m in \u001b[0;36m?\u001b[1;34m(self, dtype)\u001b[0m\n\u001b[0;32m   1996\u001b[0m     \u001b[1;32mdef\u001b[0m \u001b[0m__array__\u001b[0m\u001b[1;33m(\u001b[0m\u001b[0mself\u001b[0m\u001b[1;33m,\u001b[0m \u001b[0mdtype\u001b[0m\u001b[1;33m:\u001b[0m \u001b[0mnpt\u001b[0m\u001b[1;33m.\u001b[0m\u001b[0mDTypeLike\u001b[0m \u001b[1;33m|\u001b[0m \u001b[1;32mNone\u001b[0m \u001b[1;33m=\u001b[0m \u001b[1;32mNone\u001b[0m\u001b[1;33m)\u001b[0m \u001b[1;33m->\u001b[0m \u001b[0mnp\u001b[0m\u001b[1;33m.\u001b[0m\u001b[0mndarray\u001b[0m\u001b[1;33m:\u001b[0m\u001b[1;33m\u001b[0m\u001b[1;33m\u001b[0m\u001b[0m\n\u001b[0;32m   1997\u001b[0m         \u001b[0mvalues\u001b[0m \u001b[1;33m=\u001b[0m \u001b[0mself\u001b[0m\u001b[1;33m.\u001b[0m\u001b[0m_values\u001b[0m\u001b[1;33m\u001b[0m\u001b[1;33m\u001b[0m\u001b[0m\n\u001b[1;32m-> 1998\u001b[1;33m         \u001b[0marr\u001b[0m \u001b[1;33m=\u001b[0m \u001b[0mnp\u001b[0m\u001b[1;33m.\u001b[0m\u001b[0masarray\u001b[0m\u001b[1;33m(\u001b[0m\u001b[0mvalues\u001b[0m\u001b[1;33m,\u001b[0m \u001b[0mdtype\u001b[0m\u001b[1;33m=\u001b[0m\u001b[0mdtype\u001b[0m\u001b[1;33m)\u001b[0m\u001b[1;33m\u001b[0m\u001b[1;33m\u001b[0m\u001b[0m\n\u001b[0m\u001b[0;32m   1999\u001b[0m         if (\n\u001b[0;32m   2000\u001b[0m             \u001b[0mastype_is_view\u001b[0m\u001b[1;33m(\u001b[0m\u001b[0mvalues\u001b[0m\u001b[1;33m.\u001b[0m\u001b[0mdtype\u001b[0m\u001b[1;33m,\u001b[0m \u001b[0marr\u001b[0m\u001b[1;33m.\u001b[0m\u001b[0mdtype\u001b[0m\u001b[1;33m)\u001b[0m\u001b[1;33m\u001b[0m\u001b[1;33m\u001b[0m\u001b[0m\n\u001b[0;32m   2001\u001b[0m             \u001b[1;32mand\u001b[0m \u001b[0musing_copy_on_write\u001b[0m\u001b[1;33m(\u001b[0m\u001b[1;33m)\u001b[0m\u001b[1;33m\u001b[0m\u001b[1;33m\u001b[0m\u001b[0m\n",
      "\u001b[1;31mValueError\u001b[0m: could not convert string to float: '14-09-2016'"
     ]
    }
   ],
   "source": [
    "vt_q = VarianceThreshold(threshold=0.05)\n",
    "vt_q.fit(X_train)\n",
    "\n",
    "X_train.columns[~vt_q.get_support()]"
   ]
  },
  {
   "cell_type": "code",
   "execution_count": 34,
   "metadata": {
    "colab": {
     "base_uri": "https://localhost:8080/"
    },
    "id": "hMp_spX84xSg",
    "outputId": "76d788ef-adf4-4103-def6-59f27c19f379"
   },
   "outputs": [
    {
     "name": "stdout",
     "output_type": "stream",
     "text": [
      "abin : 0\n",
      "Feeder_Category : 0\n",
      "BREAKER_MAKE : 0\n",
      "UpcaseRoadTraffic : 0\n",
      "Upcase_DepthOfCable : 0\n",
      "Upcase_SoilCondition : 0\n",
      "Upcase_LeadExposed : 0\n",
      "Upcase_ArmourCableCondition : 0\n",
      "CABLE_SIZE : 0\n",
      "NO__OF_PARALLEL_RUNNING_CABLES : 0\n",
      "FaultCurrent_Count : 0\n",
      "_5Yr_Faults_Count : 0\n",
      "No_of_Load_transfer_Operations : 0\n",
      "No_of_Times_Exceeded100_ : 0\n",
      "No_of_times_exceeded_60_ : 0\n",
      "No_of_time_below_60_ : 0\n",
      "No_of_Times_Exceeded90_ : 0\n",
      "LENGTH_OF_CABLE_MTRS_ : 0\n",
      "NO__OF_JOINTS : 0\n",
      "AGE_YRS_ : 0\n",
      "Number_OF_Cables : 0\n",
      "PILC : 0\n",
      "XLPE : 0\n",
      "DATE_ONLY : 0\n",
      "DAY_OF_WEEK : 0\n",
      "WEEKEND_Y_N_ : 0\n",
      "Average_Current : 0\n",
      "MORNING_AVG_CURRENT : 0\n",
      "AFTERNOON_AVG_CURRENT : 0\n",
      "EVENING_AVG_CURRENT : 0\n",
      "Peak_Current : 0\n",
      "Peak_Slab : 0\n",
      "Average_voltage : 0\n",
      "MORNING_AVG_VOLTAGE : 0\n",
      "AFTERNOON_AVG_VOLTAGE : 0\n",
      "EVENING_AVG_VOLTAGE : 0\n",
      "Peak_Voltage : 0\n",
      "target : 0\n",
      "Avg_Heat_Index : 0\n",
      "Morning_AVG_Heat_Index : 0\n",
      "Afternoon_AVG_Heat_Index : 0\n",
      "Evening_Avg_Heat_Index : 0\n",
      "Peak_HI : 0\n",
      "Avg_humidity : 0\n",
      "Morning_AVG_humidity : 0\n",
      "Afternoon_AVG_HUMIDITY : 0\n",
      "Evening_Avg_HUMIDITY : 0\n",
      "Max_Humidity : 0\n",
      "Avg_TEMP : 0\n",
      "Morning_AVG_TEMP : 0\n",
      "Afternoon_AVG_TEMP : 0\n",
      "Evening_Avg_TEMP : 0\n",
      "Max_TEMP : 0\n",
      "IR_Value_After_JointingPHASE_TO : 185\n",
      "MORNING_AVG_CURRENT_N_1 : 0\n",
      "MORNING_AVG_CURRENT_N_2 : 0\n",
      "AFTERNOON_AVG_CURRENT_N_1 : 0\n",
      "AFTERNOON_AVG_CURRENT_N_2 : 0\n",
      "EVENING_AVG_CURRENT_N_1 : 0\n",
      "EVENING_AVG_CURRENT_N_2 : 0\n",
      "MORNING_AVG_VOLTAGE_N_1 : 0\n",
      "MORNING_AVG_VOLTAGE_N_2 : 0\n",
      "AFTERNOON_AVG_VOLTAGE_N_1 : 0\n",
      "AFTERNOON_AVG_VOLTAGE_N_2 : 0\n",
      "EVENING_AVG_VOLTAGE_N_1 : 0\n",
      "EVENING_AVG_VOLTAGE_N_2 : 0\n",
      "TARGET_N_1 : 0\n",
      "TARGET_N_2 : 0\n",
      "AVERAGE_CURRENT_N_1 : 0\n",
      "AVERAGE_CURRENT_N_2 : 0\n",
      "AVERAGE_VOLTAGE_N_1 : 0\n",
      "AVERAGE_VOLTAGE_N_2 : 0\n",
      "AVERAGE_HEAT_INDEX_N_1 : 0\n",
      "AVERAGE_HEAT_INDEX_N_2 : 0\n",
      "AVERAGE_HUMUDITY_N_1 : 0\n",
      "AVERAGE_HUMUDITY_N_2 : 0\n",
      "AVERAGE_TEMP_N_1 : 0\n",
      "AVERAGE_TEMP_N_2 : 0\n",
      "MORNING_AVG_HEAT_INDEX_N_1 : 0\n",
      "MORNING_AVG_HEAT_INDEX_N_2 : 0\n",
      "AFTERNOON_AVG_HEAT_INDEX_N_1 : 0\n",
      "AFTERNOON_AVG_HEAT_INDEX_N_2 : 0\n",
      "EVENING_AVG_HEAT_INDEX_N_1 : 0\n",
      "EVENING_AVG_HEAT_INDEX_N_2 : 0\n",
      "MORNING_AVG_HUMUDITY_N_1 : 0\n",
      "MORNING_AVG_HUMUDITY_N_2 : 0\n",
      "AFTERNOON_AVG_HUMUDITY_N_1 : 0\n",
      "AFTERNOON_AVG_HUMUDITY_N_2 : 0\n",
      "EVENING_AVG_HUMUDITY_N_1 : 0\n",
      "EVENING_AVG_HUMUDITY_N_2 : 0\n",
      "MORNING_AVG_TEMP_N_1 : 0\n",
      "MORNING_AVG_TEMP_N_2 : 0\n",
      "AFTERNOON_AVG_TEMP_N_1 : 0\n",
      "AFTERNOON_AVG_TEMP_N_2 : 0\n",
      "EVENING_AVG_TEMP_N_1 : 0\n",
      "EVENING_AVG_TEMP_N_2 : 0\n",
      "Peak_Current_N_1 : 0\n",
      "Peak_Current_N_2 : 0\n",
      "Peak_Current_Time_N_1 : 0\n",
      "Peak_Current_Time_N_2 : 0\n",
      "Peak_Current_Slab_N_1 : 0\n",
      "Peak_Current_Slab_N_2 : 0\n",
      "New_PublicHoliday : 0\n",
      "New_Summer : 0\n",
      "New_Monsoon : 0\n",
      "New_Winter : 0\n",
      "_dataobs_ : 0\n",
      "Feeder : 0\n",
      "Switch : 0\n",
      "Section Id : 0\n",
      "Pathid : 0\n",
      "Path Order : 0\n",
      "Lat : 0\n",
      "Long : 0\n",
      "Customer At Risk : 0\n",
      "Revenue At Rsik : 0\n",
      "Assets At Risk : 0\n",
      "Risk Type : 0\n",
      "NoFaultsSince2016 : 0\n"
     ]
    }
   ],
   "source": [
    "## CHecking the null values \n",
    "\n",
    "for i in df.columns:\n",
    "    print(f\"{i} : {df[i].isna().sum()}\")"
   ]
  },
  {
   "cell_type": "code",
   "execution_count": 37,
   "metadata": {
    "colab": {
     "base_uri": "https://localhost:8080/"
    },
    "id": "W5JP8InL5ArG",
    "outputId": "38f4624d-0c3a-4dfb-8da3-a5bc5a351fdd"
   },
   "outputs": [
    {
     "name": "stdout",
     "output_type": "stream",
     "text": [
      "Collecting feature_engine\n",
      "  Using cached feature_engine-1.6.0-py2.py3-none-any.whl (319 kB)\n",
      "Requirement already satisfied: numpy>=1.18.2 in c:\\users\\yr272yb\\.virtualenvs\\global_utility_05-sbsjtalh\\lib\\site-packages (from feature_engine) (1.23.1)\n",
      "Requirement already satisfied: pandas>=1.0.3 in c:\\users\\yr272yb\\.virtualenvs\\global_utility_05-sbsjtalh\\lib\\site-packages (from feature_engine) (2.0.1)\n",
      "Requirement already satisfied: scikit-learn>=1.0.0 in c:\\users\\yr272yb\\.virtualenvs\\global_utility_05-sbsjtalh\\lib\\site-packages (from feature_engine) (1.2.2)\n",
      "Requirement already satisfied: scipy>=1.4.1 in c:\\users\\yr272yb\\.virtualenvs\\global_utility_05-sbsjtalh\\lib\\site-packages (from feature_engine) (1.9.1)\n",
      "Collecting statsmodels>=0.11.1 (from feature_engine)\n",
      "  Downloading statsmodels-0.14.0-cp39-cp39-win_amd64.whl (9.4 MB)\n",
      "                                              0.0/9.4 MB ? eta -:--:--\n",
      "     -                                        0.3/9.4 MB 5.9 MB/s eta 0:00:02\n",
      "     --                                       0.6/9.4 MB 5.9 MB/s eta 0:00:02\n",
      "     ----                                     1.1/9.4 MB 6.3 MB/s eta 0:00:02\n",
      "     -----                                    1.4/9.4 MB 7.1 MB/s eta 0:00:02\n",
      "     ------                                   1.5/9.4 MB 6.7 MB/s eta 0:00:02\n",
      "     ------                                   1.5/9.4 MB 6.7 MB/s eta 0:00:02\n",
      "     ----------                               2.4/9.4 MB 7.0 MB/s eta 0:00:01\n",
      "     -----------                              2.8/9.4 MB 7.1 MB/s eta 0:00:01\n",
      "     --------------                           3.3/9.4 MB 7.3 MB/s eta 0:00:01\n",
      "     ----------------                         3.8/9.4 MB 7.6 MB/s eta 0:00:01\n",
      "     -----------------                        4.2/9.4 MB 7.6 MB/s eta 0:00:01\n",
      "     -------------------                      4.5/9.4 MB 7.6 MB/s eta 0:00:01\n",
      "     -------------------                      4.6/9.4 MB 7.5 MB/s eta 0:00:01\n",
      "     -------------------                      4.6/9.4 MB 7.5 MB/s eta 0:00:01\n",
      "     -------------------                      4.6/9.4 MB 7.5 MB/s eta 0:00:01\n",
      "     -------------------                      4.6/9.4 MB 7.5 MB/s eta 0:00:01\n",
      "     -------------------                      4.6/9.4 MB 7.5 MB/s eta 0:00:01\n",
      "     -------------------                      4.6/9.4 MB 7.5 MB/s eta 0:00:01\n",
      "     -------------------                      4.6/9.4 MB 7.5 MB/s eta 0:00:01\n",
      "     -----------------------                  5.5/9.4 MB 5.8 MB/s eta 0:00:01\n",
      "     -------------------------                5.9/9.4 MB 5.9 MB/s eta 0:00:01\n",
      "     --------------------------               6.3/9.4 MB 5.9 MB/s eta 0:00:01\n",
      "     ----------------------------             6.6/9.4 MB 6.0 MB/s eta 0:00:01\n",
      "     ------------------------------           7.0/9.4 MB 6.1 MB/s eta 0:00:01\n",
      "     -------------------------------          7.4/9.4 MB 6.1 MB/s eta 0:00:01\n",
      "     --------------------------------         7.6/9.4 MB 6.2 MB/s eta 0:00:01\n",
      "     ----------------------------------       8.0/9.4 MB 6.2 MB/s eta 0:00:01\n",
      "     -----------------------------------      8.3/9.4 MB 6.2 MB/s eta 0:00:01\n",
      "     ------------------------------------     8.6/9.4 MB 6.2 MB/s eta 0:00:01\n",
      "     --------------------------------------   9.0/9.4 MB 6.3 MB/s eta 0:00:01\n",
      "     ---------------------------------------  9.3/9.4 MB 6.3 MB/s eta 0:00:01\n",
      "     ---------------------------------------- 9.4/9.4 MB 6.2 MB/s eta 0:00:00\n",
      "Requirement already satisfied: python-dateutil>=2.8.2 in c:\\users\\yr272yb\\.virtualenvs\\global_utility_05-sbsjtalh\\lib\\site-packages (from pandas>=1.0.3->feature_engine) (2.8.2)\n",
      "Requirement already satisfied: pytz>=2020.1 in c:\\users\\yr272yb\\.virtualenvs\\global_utility_05-sbsjtalh\\lib\\site-packages (from pandas>=1.0.3->feature_engine) (2023.3)\n",
      "Requirement already satisfied: tzdata>=2022.1 in c:\\users\\yr272yb\\.virtualenvs\\global_utility_05-sbsjtalh\\lib\\site-packages (from pandas>=1.0.3->feature_engine) (2023.3)\n",
      "Requirement already satisfied: joblib>=1.1.1 in c:\\users\\yr272yb\\.virtualenvs\\global_utility_05-sbsjtalh\\lib\\site-packages (from scikit-learn>=1.0.0->feature_engine) (1.2.0)\n",
      "Requirement already satisfied: threadpoolctl>=2.0.0 in c:\\users\\yr272yb\\.virtualenvs\\global_utility_05-sbsjtalh\\lib\\site-packages (from scikit-learn>=1.0.0->feature_engine) (3.1.0)\n",
      "Collecting patsy>=0.5.2 (from statsmodels>=0.11.1->feature_engine)\n",
      "  Downloading patsy-0.5.3-py2.py3-none-any.whl (233 kB)\n",
      "                                              0.0/233.8 kB ? eta -:--:--\n",
      "     -------------------------------------- 233.8/233.8 kB 7.2 MB/s eta 0:00:00\n",
      "Requirement already satisfied: packaging>=21.3 in c:\\users\\yr272yb\\.virtualenvs\\global_utility_05-sbsjtalh\\lib\\site-packages (from statsmodels>=0.11.1->feature_engine) (23.1)\n",
      "Requirement already satisfied: six in c:\\users\\yr272yb\\.virtualenvs\\global_utility_05-sbsjtalh\\lib\\site-packages (from patsy>=0.5.2->statsmodels>=0.11.1->feature_engine) (1.16.0)\n",
      "Installing collected packages: patsy, statsmodels, feature_engine\n",
      "Successfully installed feature_engine-1.6.0 patsy-0.5.3 statsmodels-0.14.0\n"
     ]
    }
   ],
   "source": [
    "! pip install feature_engine"
   ]
  },
  {
   "cell_type": "code",
   "execution_count": 38,
   "metadata": {
    "colab": {
     "base_uri": "https://localhost:8080/",
     "height": 74
    },
    "id": "hF17dSTs43Zp",
    "outputId": "756e4aba-710b-4298-bc8b-2167c74c3c30"
   },
   "outputs": [
    {
     "ename": "ValueError",
     "evalue": "Some of the variables in the dataset contain NaN. Check and remove those before using this transformer.",
     "output_type": "error",
     "traceback": [
      "\u001b[1;31m---------------------------------------------------------------------------\u001b[0m",
      "\u001b[1;31mValueError\u001b[0m                                Traceback (most recent call last)",
      "Cell \u001b[1;32mIn[38], line 6\u001b[0m\n\u001b[0;32m      3\u001b[0m \u001b[38;5;66;03m## For constant features \u001b[39;00m\n\u001b[0;32m      5\u001b[0m d_c \u001b[38;5;241m=\u001b[39m DropConstantFeatures(tol\u001b[38;5;241m=\u001b[39m\u001b[38;5;241m1\u001b[39m,missing_values\u001b[38;5;241m=\u001b[39m\u001b[38;5;124m'\u001b[39m\u001b[38;5;124mraise\u001b[39m\u001b[38;5;124m'\u001b[39m)    \u001b[38;5;66;03m## for constant features tol = 1\u001b[39;00m\n\u001b[1;32m----> 6\u001b[0m \u001b[43md_c\u001b[49m\u001b[38;5;241;43m.\u001b[39;49m\u001b[43mfit\u001b[49m\u001b[43m(\u001b[49m\u001b[43mX_train\u001b[49m\u001b[43m)\u001b[49m\n",
      "File \u001b[1;32m~\\.virtualenvs\\Global_Utility_05-sbsjTaLH\\lib\\site-packages\\feature_engine\\selection\\drop_constant_features.py:185\u001b[0m, in \u001b[0;36mDropConstantFeatures.fit\u001b[1;34m(self, X, y)\u001b[0m\n\u001b[0;32m    181\u001b[0m \u001b[38;5;28mself\u001b[39m\u001b[38;5;241m.\u001b[39mvariables_ \u001b[38;5;241m=\u001b[39m find_all_variables(X, \u001b[38;5;28mself\u001b[39m\u001b[38;5;241m.\u001b[39mvariables_)\n\u001b[0;32m    183\u001b[0m \u001b[38;5;28;01mif\u001b[39;00m \u001b[38;5;28mself\u001b[39m\u001b[38;5;241m.\u001b[39mmissing_values \u001b[38;5;241m==\u001b[39m \u001b[38;5;124m\"\u001b[39m\u001b[38;5;124mraise\u001b[39m\u001b[38;5;124m\"\u001b[39m:\n\u001b[0;32m    184\u001b[0m     \u001b[38;5;66;03m# check if dataset contains na\u001b[39;00m\n\u001b[1;32m--> 185\u001b[0m     \u001b[43m_check_contains_na\u001b[49m\u001b[43m(\u001b[49m\u001b[43mX\u001b[49m\u001b[43m,\u001b[49m\u001b[43m \u001b[49m\u001b[38;5;28;43mself\u001b[39;49m\u001b[38;5;241;43m.\u001b[39;49m\u001b[43mvariables_\u001b[49m\u001b[43m)\u001b[49m\n\u001b[0;32m    187\u001b[0m \u001b[38;5;28;01mif\u001b[39;00m \u001b[38;5;28mself\u001b[39m\u001b[38;5;241m.\u001b[39mmissing_values \u001b[38;5;241m==\u001b[39m \u001b[38;5;124m\"\u001b[39m\u001b[38;5;124minclude\u001b[39m\u001b[38;5;124m\"\u001b[39m:\n\u001b[0;32m    188\u001b[0m     X[\u001b[38;5;28mself\u001b[39m\u001b[38;5;241m.\u001b[39mvariables_] \u001b[38;5;241m=\u001b[39m X[\u001b[38;5;28mself\u001b[39m\u001b[38;5;241m.\u001b[39mvariables_]\u001b[38;5;241m.\u001b[39mfillna(\u001b[38;5;124m\"\u001b[39m\u001b[38;5;124mmissing_values\u001b[39m\u001b[38;5;124m\"\u001b[39m)\n",
      "File \u001b[1;32m~\\.virtualenvs\\Global_Utility_05-sbsjTaLH\\lib\\site-packages\\feature_engine\\dataframe_checks.py:266\u001b[0m, in \u001b[0;36m_check_contains_na\u001b[1;34m(X, variables)\u001b[0m\n\u001b[0;32m    249\u001b[0m \u001b[38;5;250m\u001b[39m\u001b[38;5;124;03m\"\"\"\u001b[39;00m\n\u001b[0;32m    250\u001b[0m \u001b[38;5;124;03mChecks if DataFrame contains null values in the selected columns.\u001b[39;00m\n\u001b[0;32m    251\u001b[0m \n\u001b[1;32m   (...)\u001b[0m\n\u001b[0;32m    262\u001b[0m \u001b[38;5;124;03m    If the variable(s) contain null values.\u001b[39;00m\n\u001b[0;32m    263\u001b[0m \u001b[38;5;124;03m\"\"\"\u001b[39;00m\n\u001b[0;32m    265\u001b[0m \u001b[38;5;28;01mif\u001b[39;00m X[variables]\u001b[38;5;241m.\u001b[39misnull()\u001b[38;5;241m.\u001b[39many()\u001b[38;5;241m.\u001b[39many():\n\u001b[1;32m--> 266\u001b[0m     \u001b[38;5;28;01mraise\u001b[39;00m \u001b[38;5;167;01mValueError\u001b[39;00m(\n\u001b[0;32m    267\u001b[0m         \u001b[38;5;124m\"\u001b[39m\u001b[38;5;124mSome of the variables in the dataset contain NaN. Check and \u001b[39m\u001b[38;5;124m\"\u001b[39m\n\u001b[0;32m    268\u001b[0m         \u001b[38;5;124m\"\u001b[39m\u001b[38;5;124mremove those before using this transformer.\u001b[39m\u001b[38;5;124m\"\u001b[39m\n\u001b[0;32m    269\u001b[0m     )\n",
      "\u001b[1;31mValueError\u001b[0m: Some of the variables in the dataset contain NaN. Check and remove those before using this transformer."
     ]
    }
   ],
   "source": [
    "from feature_engine.selection import DropConstantFeatures\n",
    "\n",
    "## For constant features \n",
    "\n",
    "d_c = DropConstantFeatures(tol=1,missing_values='raise')    ## for constant features tol = 1\n",
    "d_c.fit(X_train)"
   ]
  },
  {
   "cell_type": "code",
   "execution_count": null,
   "metadata": {
    "colab": {
     "base_uri": "https://localhost:8080/"
    },
    "id": "nKrsUALB4-gT",
    "outputId": "5bb77b8c-2e87-4771-e2bc-8eb11b4a6e53"
   },
   "outputs": [],
   "source": [
    "d_c.features_to_drop_"
   ]
  },
  {
   "cell_type": "code",
   "execution_count": null,
   "metadata": {
    "colab": {
     "base_uri": "https://localhost:8080/"
    },
    "id": "34ksm9ZC5lpk",
    "outputId": "c29fb363-b495-4faf-b922-4ca8639a258e"
   },
   "outputs": [],
   "source": [
    "d_c.features_to_drop_"
   ]
  },
  {
   "cell_type": "code",
   "execution_count": null,
   "metadata": {
    "colab": {
     "base_uri": "https://localhost:8080/",
     "height": 74
    },
    "id": "t6aGc9mE57-T",
    "outputId": "167876cf-699d-4a6d-83eb-80397ee640d3"
   },
   "outputs": [],
   "source": [
    "## For quasi constant features\n",
    "\n",
    "d_c_q = DropConstantFeatures(tol=0.98,missing_values='raise')    ## for quasi constant features tol < 1\n",
    "d_c_q.fit(X_train)"
   ]
  },
  {
   "cell_type": "code",
   "execution_count": null,
   "metadata": {
    "colab": {
     "base_uri": "https://localhost:8080/"
    },
    "id": "WM-vfpxD5_lQ",
    "outputId": "6b0c843e-f854-4e66-f9ae-fb4f3d2ca197"
   },
   "outputs": [],
   "source": [
    "d_c_q.features_to_drop_"
   ]
  },
  {
   "cell_type": "code",
   "execution_count": null,
   "metadata": {
    "id": "gC4Il9Dp6Ery"
   },
   "outputs": [],
   "source": [
    "## Dropping Duplicate features\n",
    "\n",
    "from feature_engine.selection import DropDuplicateFeatures"
   ]
  },
  {
   "cell_type": "code",
   "execution_count": null,
   "metadata": {
    "colab": {
     "base_uri": "https://localhost:8080/",
     "height": 74
    },
    "id": "sBfhbCnB6J-1",
    "outputId": "fc7649af-7e3d-4141-ec9e-4ee1949f61ec"
   },
   "outputs": [],
   "source": [
    "d_d_f = DropDuplicateFeatures(variables=None,missing_values='raise')\n",
    "d_d_f.fit(X_train)"
   ]
  },
  {
   "cell_type": "code",
   "execution_count": null,
   "metadata": {
    "colab": {
     "base_uri": "https://localhost:8080/"
    },
    "id": "JpKZYqhE6MQn",
    "outputId": "a263494f-b5b3-4908-aad1-bb74856ee0c5"
   },
   "outputs": [],
   "source": [
    "d_d_f.features_to_drop_"
   ]
  },
  {
   "cell_type": "code",
   "execution_count": null,
   "metadata": {
    "id": "Ue8Q0aAP6W3S"
   },
   "outputs": [],
   "source": [
    "### Correlation\n",
    "\n",
    "## higher correlation higher they are associated i.e. high correlated with target and less correlated with themselves\n",
    "\n",
    "def correlation(dataset, threshold):\n",
    "    col_corr = set()\n",
    "    corr_mat = dataset.corr()\n",
    "    for i in range(len(corr_mat.columns)):\n",
    "        for j in range(i):\n",
    "            if abs(corr_mat.iloc[i,j]) > threshold:\n",
    "                colname = corr_mat.columns[i]\n",
    "                col_corr.add(colname)\n",
    "    return col_corr"
   ]
  },
  {
   "cell_type": "code",
   "execution_count": null,
   "metadata": {
    "colab": {
     "base_uri": "https://localhost:8080/"
    },
    "id": "0WDOyE1l6a40",
    "outputId": "28e3fc0f-60d2-48ea-9834-dda8ec349305"
   },
   "outputs": [],
   "source": [
    "corr_features = correlation(X_train,0.8)\n",
    "\n",
    "print(len(set(corr_features)) )   ## so we can remove 98 features from the datsets\n",
    "\n",
    "corr_features"
   ]
  },
  {
   "cell_type": "code",
   "execution_count": null,
   "metadata": {
    "colab": {
     "base_uri": "https://localhost:8080/",
     "height": 423
    },
    "id": "nBm5R6JN6cyo",
    "outputId": "823bae02-3428-4a40-c17d-2bb26bff9ba7"
   },
   "outputs": [],
   "source": [
    "## Correlation feature and its values\n",
    "\n",
    "corrmax = X_train.corr()\n",
    "corrmax = corrmax.abs().unstack()\n",
    "corrmax = corrmax.sort_values(ascending=False)\n",
    "corrmax = corrmax[corrmax >= 0.8]\n",
    "corrmax = corrmax[corrmax < 1]\n",
    "corrmax = pd.DataFrame(corrmax).reset_index()\n",
    "corrmax"
   ]
  },
  {
   "cell_type": "code",
   "execution_count": null,
   "metadata": {
    "colab": {
     "base_uri": "https://localhost:8080/",
     "height": 74
    },
    "id": "KcSLsVSo6mrH",
    "outputId": "b9b314b5-3f3a-4185-f988-6dc18c8b10ac"
   },
   "outputs": [],
   "source": [
    "## using Random forest classifier\n",
    "\n",
    "from sklearn.ensemble import RandomForestClassifier\n",
    "rf = RandomForestClassifier(n_estimators=150,random_state=40,max_depth=6)\n",
    "\n",
    "rf.fit(X_train,y_train)"
   ]
  },
  {
   "cell_type": "code",
   "execution_count": null,
   "metadata": {
    "colab": {
     "base_uri": "https://localhost:8080/",
     "height": 1000
    },
    "id": "3Xef8mvJ6usA",
    "outputId": "db897bf3-0193-4db3-b20d-5dac715e3ac8"
   },
   "outputs": [],
   "source": [
    "rf_imp = pd.concat([pd.Series(X_train.columns),pd.Series(rf.feature_importances_).abs()],axis=1)\n",
    "rf_imp.columns=['Features','Importance']\n",
    "rf_imp.sort_values(by='Importance',ascending=False).head(50)"
   ]
  },
  {
   "cell_type": "code",
   "execution_count": null,
   "metadata": {
    "id": "aF_LOcdy6xg5"
   },
   "outputs": [],
   "source": [
    "## Using feature engine\n",
    "\n",
    "from feature_engine.selection import DropCorrelatedFeatures, SmartCorrelatedSelection"
   ]
  },
  {
   "cell_type": "code",
   "execution_count": null,
   "metadata": {
    "colab": {
     "base_uri": "https://localhost:8080/"
    },
    "id": "Y-q7Sdgg64mO",
    "outputId": "1f98a701-1e39-4c01-a0dd-a98b02688686"
   },
   "outputs": [],
   "source": [
    "d_c_f = DropCorrelatedFeatures(threshold=0.8,method='pearson',missing_values='ignore')\n",
    "d_c_f.fit(X_train)\n",
    "\n",
    "d_c_f.correlated_feature_sets_"
   ]
  },
  {
   "cell_type": "code",
   "execution_count": null,
   "metadata": {
    "colab": {
     "base_uri": "https://localhost:8080/"
    },
    "id": "iC0kS-3X66XE",
    "outputId": "2333b918-6878-4ac9-a304-0655dd5f4aaf"
   },
   "outputs": [],
   "source": [
    "## SO we can select one variable from each set and rest will be dropped\n",
    "\n",
    "len(d_c_f.features_to_drop_)"
   ]
  },
  {
   "cell_type": "code",
   "execution_count": null,
   "metadata": {
    "colab": {
     "base_uri": "https://localhost:8080/",
     "height": 116
    },
    "id": "ZLLFJ1nV7KyX",
    "outputId": "d6c48682-9c82-4a6a-e3fe-00799f226808"
   },
   "outputs": [],
   "source": [
    "## SmartCorrelatedSelection\n",
    "\n",
    "rf_1 = RandomForestClassifier(n_estimators=30,n_jobs=4,random_state=40)\n",
    "\n",
    "## Correlation selector\n",
    "s_c_s = SmartCorrelatedSelection(variables=None,\n",
    "                                method='pearson',\n",
    "                                threshold=0.8,\n",
    "                                missing_values='raise',\n",
    "                                selection_method='model_performance',\n",
    "                                estimator=rf_1,\n",
    "                                scoring='roc_auc',\n",
    "                                cv=4)\n",
    "\n",
    "s_c_s.fit(X_train,y_train)"
   ]
  },
  {
   "cell_type": "code",
   "execution_count": null,
   "metadata": {
    "colab": {
     "base_uri": "https://localhost:8080/"
    },
    "id": "9y_w_eNt7QX_",
    "outputId": "7da1a0f8-819d-42b3-b33f-d9249fd2c4cf"
   },
   "outputs": [],
   "source": [
    "s_c_s.correlated_feature_sets_"
   ]
  },
  {
   "cell_type": "code",
   "execution_count": null,
   "metadata": {
    "colab": {
     "base_uri": "https://localhost:8080/",
     "height": 436
    },
    "id": "w5M_hCiY7VjW",
    "outputId": "fe62d780-a0f4-49a5-c025-381601088da5"
   },
   "outputs": [],
   "source": [
    "## Information gain\n",
    "\n",
    "from sklearn.feature_selection import mutual_info_classif,SelectKBest\n",
    "\n",
    "plt.figure(figsize=(50,20))\n",
    "imp = mutual_info_classif(X_train,y_train)\n",
    "feature_imp = pd.Series(imp, X.columns).sort_values(ascending=False)\n",
    "feature_imp.plot(kind='barh')\n",
    "plt.show()"
   ]
  },
  {
   "cell_type": "code",
   "execution_count": null,
   "metadata": {
    "colab": {
     "base_uri": "https://localhost:8080/"
    },
    "id": "cYRkcqcQ7VgA",
    "outputId": "7e66144d-d5dc-4d2e-a7b2-9d16e63d2080"
   },
   "outputs": [],
   "source": [
    "feature_imp[:40].sort_values(ascending=False)"
   ]
  },
  {
   "cell_type": "code",
   "execution_count": null,
   "metadata": {
    "colab": {
     "base_uri": "https://localhost:8080/"
    },
    "id": "sRFNOP_U7VZd",
    "outputId": "a8269c81-4be7-4236-bb56-2e1de8682111"
   },
   "outputs": [],
   "source": [
    "sel_k = SelectKBest(mutual_info_classif,k=30).fit(X_train,y_train)\n",
    "X_train.columns[sel_k.get_support()]"
   ]
  },
  {
   "cell_type": "code",
   "execution_count": null,
   "metadata": {
    "id": "uLEXbAK-7VV-"
   },
   "outputs": [],
   "source": [
    "### Chi2 test \n",
    "\n",
    "\n",
    "from scipy.stats import chi2_contingency\n",
    "\n",
    "chi_ls = []\n",
    "for i in X_train.columns:\n",
    "    c = pd.crosstab(y_train,X_train[i])\n",
    "    p_val = chi2_contingency(c)[1]\n",
    "    chi_ls.append(p_val)"
   ]
  },
  {
   "cell_type": "code",
   "execution_count": null,
   "metadata": {
    "colab": {
     "base_uri": "https://localhost:8080/",
     "height": 1000
    },
    "id": "tgnaZlCK7VTl",
    "outputId": "669aa4da-2cf9-4b3e-90f4-a69327de8e0a"
   },
   "outputs": [],
   "source": [
    "plt.figure(figsize=(20,20))\n",
    "pd.Series(chi_ls,index=X_train.columns).sort_values(ascending=True).plot.bar(rot=1000)\n",
    "plt.ylabel('p-val')\n",
    "plt.title('Feature importance based on chi square test')\n",
    "\n",
    "\n",
    "## lets take top feqatures\n",
    "\n",
    "s = pd.Series(chi_ls,index=X_train.columns).sort_values(ascending=True).index\n",
    "s"
   ]
  },
  {
   "cell_type": "markdown",
   "metadata": {
    "id": "CkDksemx79AB"
   },
   "source": [
    "## Wrapper Methods "
   ]
  },
  {
   "cell_type": "code",
   "execution_count": null,
   "metadata": {
    "colab": {
     "base_uri": "https://localhost:8080/",
     "height": 139
    },
    "id": "6pdKhEqL7zHj",
    "outputId": "908b477e-e3d2-4a34-932e-62d24d598710"
   },
   "outputs": [],
   "source": [
    "## Using Sequestial Feature selector -> forward\n",
    "\n",
    "from sklearn.feature_selection import SequentialFeatureSelector\n",
    "from sklearn.ensemble import RandomForestClassifier\n",
    "\n",
    "sfs = SequentialFeatureSelector(estimator=RandomForestClassifier(),\n",
    "                               n_features_to_select=20,\n",
    "                               direction='forward',\n",
    "                               scoring='roc_auc',\n",
    "                               cv=2,\n",
    "                               n_jobs=4)\n",
    "\n",
    "sfs.fit(X_train,y_train)"
   ]
  },
  {
   "cell_type": "code",
   "execution_count": null,
   "metadata": {
    "colab": {
     "base_uri": "https://localhost:8080/"
    },
    "id": "cSIW7Qo57-6Q",
    "outputId": "32affeb0-6d44-4892-a80b-db101e937337"
   },
   "outputs": [],
   "source": [
    "sfs.get_feature_names_out()"
   ]
  },
  {
   "cell_type": "code",
   "execution_count": null,
   "metadata": {
    "colab": {
     "base_uri": "https://localhost:8080/",
     "height": 116
    },
    "id": "fVHyBbyX8Ch1",
    "outputId": "c6183afb-fa10-4918-9b58-b52d50e7afcc"
   },
   "outputs": [],
   "source": [
    "## ## Using Sequestial Feature selector -> backward\n",
    "\n",
    "from sklearn.feature_selection import SequentialFeatureSelector\n",
    "from sklearn.ensemble import RandomForestClassifier\n",
    "\n",
    "sfs_b = SequentialFeatureSelector(estimator=RandomForestClassifier(),\n",
    "                               n_features_to_select=10,\n",
    "                               direction='backward',\n",
    "                               scoring='roc_auc',\n",
    "                               cv=2,\n",
    "                               n_jobs=4)\n",
    "\n",
    "sfs_b.fit(X_train,y_train)"
   ]
  },
  {
   "cell_type": "code",
   "execution_count": null,
   "metadata": {
    "colab": {
     "base_uri": "https://localhost:8080/"
    },
    "id": "F3NQdzIK8CeN",
    "outputId": "ce55f1ee-60f9-404f-a2cf-a7b35f2c22a7"
   },
   "outputs": [],
   "source": [
    "sfs_b.get_feature_names_out()"
   ]
  },
  {
   "cell_type": "code",
   "execution_count": null,
   "metadata": {},
   "outputs": [],
   "source": [
    "### Till here"
   ]
  },
  {
   "cell_type": "code",
   "execution_count": null,
   "metadata": {
    "colab": {
     "base_uri": "https://localhost:8080/"
    },
    "id": "gowg2ebG8Cbc",
    "outputId": "e789870a-8f3a-437a-d169-bbfad6354c93"
   },
   "outputs": [],
   "source": [
    "[i for i in df.columns]"
   ]
  },
  {
   "cell_type": "code",
   "execution_count": null,
   "metadata": {
    "colab": {
     "base_uri": "https://localhost:8080/",
     "height": 487
    },
    "id": "fN7_C5-C8CY6",
    "outputId": "ab17fac5-dc77-4265-d478-f5539a8a9953"
   },
   "outputs": [],
   "source": [
    "## After consideriung all : \n",
    "\n",
    "dataframe = df[['abin',\n",
    "                 'Feeder_Category',\n",
    "                 'BREAKER_MAKE',\n",
    "                 'UpcaseRoadTraffic',\n",
    "                 'Upcase_DepthOfCable',\n",
    "                 'Upcase_SoilCondition',\n",
    "                 'Upcase_LeadExposed',\n",
    "                 'Upcase_ArmourCableCondition',\n",
    "                 'CABLE_SIZE',\n",
    "                 'NO__OF_PARALLEL_RUNNING_CABLES',\n",
    "                 'FaultCurrent_Count',\n",
    "                 '_5Yr_Faults_Count',\n",
    "                 'No_of_Load_transfer_Operations',\n",
    "                 'No_of_times_exceeded_60_',\n",
    "                 'No_of_time_below_60_',\n",
    "                 'LENGTH_OF_CABLE_MTRS_',\n",
    "                 'NO__OF_JOINTS',\n",
    "                 'AGE_YRS_',\n",
    "                 'Number_OF_Cables',\n",
    "                 'PILC',\n",
    "                 'XLPE',\n",
    "                 'DAY_OF_WEEK',\n",
    "                 'WEEKEND_Y_N_',\n",
    "                 'Average_Current',\n",
    "                 'MORNING_AVG_CURRENT',\n",
    "                 'AFTERNOON_AVG_CURRENT',\n",
    "                 'EVENING_AVG_CURRENT',\n",
    "                 'Peak_Current',\n",
    "                 'Average_voltage',\n",
    "                 'MORNING_AVG_VOLTAGE',\n",
    "                 'AFTERNOON_AVG_VOLTAGE',\n",
    "                 'EVENING_AVG_VOLTAGE',\n",
    "                 'Peak_Voltage',\n",
    "                 'Avg_Heat_Index',\n",
    "                 'Morning_AVG_Heat_Index',\n",
    "                 'Afternoon_AVG_Heat_Index',\n",
    "                 'Evening_Avg_Heat_Index',\n",
    "                 'Peak_HI',\n",
    "                 'Avg_humidity',\n",
    "                 'Morning_AVG_humidity',\n",
    "                 'Afternoon_AVG_HUMIDITY',\n",
    "                 'Evening_Avg_HUMIDITY',\n",
    "                 'Max_Humidity',\n",
    "                 'Avg_TEMP',\n",
    "                 'Morning_AVG_TEMP',\n",
    "                 'Afternoon_AVG_TEMP',\n",
    "                 'Evening_Avg_TEMP',\n",
    "                 'Max_TEMP',\n",
    "                 'MORNING_AVG_CURRENT_N_1',\n",
    "                 'MORNING_AVG_CURRENT_N_2',\n",
    "                 'AFTERNOON_AVG_CURRENT_N_1',\n",
    "                 'AFTERNOON_AVG_CURRENT_N_2',\n",
    "                 'EVENING_AVG_CURRENT_N_1',\n",
    "                 'EVENING_AVG_CURRENT_N_2',\n",
    "                 'MORNING_AVG_VOLTAGE_N_1',\n",
    "                 'MORNING_AVG_VOLTAGE_N_2',\n",
    "                 'AFTERNOON_AVG_VOLTAGE_N_1',\n",
    "                 'AFTERNOON_AVG_VOLTAGE_N_2',\n",
    "                 'EVENING_AVG_VOLTAGE_N_1',\n",
    "                 'EVENING_AVG_VOLTAGE_N_2',\n",
    "                 'TARGET_N_1',\n",
    "                 'TARGET_N_2',\n",
    "                 'AVERAGE_CURRENT_N_1',\n",
    "                 'AVERAGE_CURRENT_N_2',\n",
    "                 'AVERAGE_VOLTAGE_N_1',\n",
    "                 'AVERAGE_VOLTAGE_N_2',\n",
    "                 'AVERAGE_HEAT_INDEX_N_1',\n",
    "                 'AVERAGE_HEAT_INDEX_N_2',\n",
    "                 'AVERAGE_HUMUDITY_N_1',\n",
    "                 'AVERAGE_HUMUDITY_N_2',\n",
    "                 'AVERAGE_TEMP_N_1',\n",
    "                 'AVERAGE_TEMP_N_2',\n",
    "                 'MORNING_AVG_HEAT_INDEX_N_1',\n",
    "                 'MORNING_AVG_HEAT_INDEX_N_2',\n",
    "                 'AFTERNOON_AVG_HEAT_INDEX_N_1',\n",
    "                 'AFTERNOON_AVG_HEAT_INDEX_N_2',\n",
    "                 'EVENING_AVG_HEAT_INDEX_N_1',\n",
    "                 'EVENING_AVG_HEAT_INDEX_N_2',\n",
    "                 'MORNING_AVG_HUMUDITY_N_1',\n",
    "                 'MORNING_AVG_HUMUDITY_N_2',\n",
    "                 'AFTERNOON_AVG_HUMUDITY_N_1',\n",
    "                 'AFTERNOON_AVG_HUMUDITY_N_2',\n",
    "                 'EVENING_AVG_HUMUDITY_N_1',\n",
    "                 'EVENING_AVG_HUMUDITY_N_2',\n",
    "                 'MORNING_AVG_TEMP_N_1',\n",
    "                 'MORNING_AVG_TEMP_N_2',\n",
    "                 'AFTERNOON_AVG_TEMP_N_1',\n",
    "                 'AFTERNOON_AVG_TEMP_N_2',\n",
    "                 'EVENING_AVG_TEMP_N_1',\n",
    "                 'EVENING_AVG_TEMP_N_2',\n",
    "                 'Peak_Current_N_1',\n",
    "                 'Peak_Current_N_2',\n",
    "                 'New_PublicHoliday',\n",
    "                 'New_Summer',\n",
    "                 'New_Monsoon',\n",
    "                 'target']]\n",
    "\n",
    "dataframe"
   ]
  },
  {
   "cell_type": "code",
   "execution_count": null,
   "metadata": {},
   "outputs": [],
   "source": [
    "\"\"\"### Saving the Dataframe\n",
    "\n",
    "try:\n",
    "    dataframe.to_csv(\"C:\\Project\\Electricity_project\\GlobalUtility_EY_04052023\\Clean_Data\\GlobalEYUtility.csv\")\n",
    "    print(\"Saved Successfully.\")\n",
    "except Exception as e:\n",
    "    print(e)\"\"\""
   ]
  },
  {
   "cell_type": "code",
   "execution_count": null,
   "metadata": {
    "colab": {
     "base_uri": "https://localhost:8080/"
    },
    "id": "NLiE8jBEO0Uv",
    "outputId": "0fe5b71b-9e80-40fb-b84d-758f50a31e57"
   },
   "outputs": [],
   "source": [
    "## CHecking the null values \n",
    "\n",
    "for i in dataframe.columns:\n",
    "    print(f\"{i} : {dataframe[i].isna().sum()}\")"
   ]
  },
  {
   "cell_type": "code",
   "execution_count": null,
   "metadata": {
    "id": "kPTdczlAQB6v"
   },
   "outputs": [],
   "source": [
    "X_p = dataframe.drop(columns=['target'])\n",
    "y_p = dataframe['target']"
   ]
  },
  {
   "cell_type": "code",
   "execution_count": null,
   "metadata": {
    "colab": {
     "base_uri": "https://localhost:8080/"
    },
    "id": "QxadoaCYQRu9",
    "outputId": "8c40f807-e79b-49ed-cd16-c709b3e62068"
   },
   "outputs": [],
   "source": [
    "print(X_p.shape)\n",
    "print(y_p.shape)"
   ]
  },
  {
   "cell_type": "code",
   "execution_count": null,
   "metadata": {
    "id": "nOGsn6tSQU4J"
   },
   "outputs": [],
   "source": [
    "## splitting in train test val set\n",
    "\n",
    "X_train, X_test, y_train, y_test = train_test_split(X_p, y_p, test_size=0.2, random_state=1)\n",
    "\n",
    "X_train, X_val, y_train, y_val = train_test_split(X_train, y_train, test_size=0.25, random_state=1)"
   ]
  },
  {
   "cell_type": "code",
   "execution_count": null,
   "metadata": {
    "colab": {
     "base_uri": "https://localhost:8080/"
    },
    "id": "5EESGBxWQY51",
    "outputId": "7bb278bd-66e0-4044-85aa-3f953ff84f39"
   },
   "outputs": [],
   "source": [
    "print(f\"X_train : {X_train.shape}\")\n",
    "print(f\"X_test : {X_test.shape}\")\n",
    "print(f\"y_train : {y_train.shape}\")\n",
    "print(f\"y_test : {y_test.shape}\")\n",
    "print(f\"X_val : {X_val.shape}\")\n",
    "print(f\"y_val : {y_val.shape}\")"
   ]
  },
  {
   "cell_type": "code",
   "execution_count": null,
   "metadata": {
    "id": "89MOOOt5Qbc1"
   },
   "outputs": [],
   "source": [
    "from sklearn.linear_model import LogisticRegression\n",
    "from sklearn.tree import DecisionTreeClassifier\n",
    "from sklearn.ensemble import RandomForestClassifier\n",
    "from xgboost import XGBClassifier\n",
    "from sklearn.ensemble import GradientBoostingClassifier\n",
    "\n",
    "from sklearn.metrics import classification_report, accuracy_score, confusion_matrix, precision_score, recall_score, f1_score, roc_auc_score"
   ]
  },
  {
   "cell_type": "code",
   "execution_count": null,
   "metadata": {
    "id": "vhg4Il-EQfPD"
   },
   "outputs": [],
   "source": [
    "algos = [LogisticRegression(), \n",
    "         DecisionTreeClassifier(), \n",
    "         RandomForestClassifier(),\n",
    "         XGBClassifier(),\n",
    "         GradientBoostingClassifier()]\n",
    "\n",
    "names = [\"Logistic Regression\",\n",
    "         \"DecisionTree Classifier\",\n",
    "         \"RandomForest Classifier\",\n",
    "         \"XGBClassifier\",\n",
    "         \"GradientBoostingClassifier\"]\n",
    "\n",
    "acc = []\n",
    "pre = []\n",
    "rec = []\n",
    "f1 = []\n",
    "r_a = []"
   ]
  },
  {
   "cell_type": "code",
   "execution_count": null,
   "metadata": {
    "colab": {
     "base_uri": "https://localhost:8080/"
    },
    "id": "Mt6LUnIjQhgD",
    "outputId": "c0b653a8-4f2a-4e98-d467-f879beb8bfd3"
   },
   "outputs": [],
   "source": [
    "for name in algos:\n",
    "    model = name\n",
    "    model.fit(X_train,y_train)\n",
    "    y_pred = model.predict(X_val)\n",
    "    accu = accuracy_score(y_val,y_pred)\n",
    "    prec = precision_score(y_val,y_pred)\n",
    "    reca = recall_score(y_val,y_pred)\n",
    "    f1_sc = f1_score(y_val,y_pred)\n",
    "    roc_auc = roc_auc_score(y_val,y_pred)\n",
    "    \n",
    "    acc.append(accu) \n",
    "    pre.append(prec)\n",
    "    rec.append(rec)\n",
    "    f1.append(f1_score)\n",
    "    r_a.append(roc_auc)"
   ]
  },
  {
   "cell_type": "code",
   "execution_count": null,
   "metadata": {
    "colab": {
     "base_uri": "https://localhost:8080/",
     "height": 206
    },
    "id": "SYmJ09OlQkYn",
    "outputId": "69404f20-81d4-44ab-c626-b147178f1fb2"
   },
   "outputs": [],
   "source": [
    "evaluation = pd.DataFrame({'Name':names, \n",
    "                           'Accuracy_Score':acc, \n",
    "                          'Precision' : pre,\n",
    "                          'Recall' : reca,\n",
    "                          'F_1 Score ': f1_sc,\n",
    "                          'ROC_AUC' : r_a})\n",
    "evaluation"
   ]
  },
  {
   "cell_type": "code",
   "execution_count": null,
   "metadata": {
    "id": "rpy5BSnMQpGm"
   },
   "outputs": [],
   "source": [
    "from sklearn.model_selection import GridSearchCV\n",
    "\n",
    "xgb = XGBClassifier()\n",
    "\n",
    "params = {\n",
    "    'n_estimators': [100,200,300,400],\n",
    "    'max_depth': [1,2,3,4,5,6],\n",
    "    'eta': [0.1,0.01,0.001,0.0001]\n",
    "}"
   ]
  },
  {
   "cell_type": "code",
   "execution_count": null,
   "metadata": {
    "colab": {
     "base_uri": "https://localhost:8080/",
     "height": 1000
    },
    "id": "-xD3Vz_iQy_v",
    "outputId": "6d7f9f40-a585-4964-b14f-b3989c707f8c"
   },
   "outputs": [],
   "source": [
    "\"\"\"cross_val = GridSearchCV(estimator=xgb,param_grid=params,verbose=2)\n",
    "cross_val.fit(X_train,y_train)\"\"\""
   ]
  },
  {
   "cell_type": "code",
   "execution_count": null,
   "metadata": {
    "colab": {
     "base_uri": "https://localhost:8080/"
    },
    "id": "TYTwKGgVQzCb",
    "outputId": "aa245545-c9e4-4bed-b40a-0f68386a5cd4"
   },
   "outputs": [],
   "source": [
    "cross_val.best_params_"
   ]
  },
  {
   "cell_type": "code",
   "execution_count": null,
   "metadata": {
    "colab": {
     "base_uri": "https://localhost:8080/",
     "height": 248
    },
    "id": "WI-lJsj6a7Yk",
    "outputId": "d19a8424-d0ac-47a2-d77c-91297be98e9f"
   },
   "outputs": [],
   "source": [
    "model = XGBClassifier(n_estimators=100, max_depth=2 ,eta=0.1)\n",
    "model.fit(X_train,y_train)"
   ]
  },
  {
   "cell_type": "code",
   "execution_count": null,
   "metadata": {
    "colab": {
     "base_uri": "https://localhost:8080/",
     "height": 1000
    },
    "id": "2Rot0sFexKFz",
    "outputId": "d3c9186a-a532-45cd-f5bf-48de9d787bcf"
   },
   "outputs": [],
   "source": [
    "#Fea = pd.DataFrame({'Feature': get_config('X_train').columns, 'Value' : abs(model.feature_importances_[0])}).sort_values(by='Value', ascending=False)\n",
    "Fea = pd.DataFrame({'Feature': X_train.columns, 'Value' : abs(model.feature_importances_)}).sort_values(by='Value', ascending=False)\n",
    "Fea"
   ]
  },
  {
   "cell_type": "code",
   "execution_count": null,
   "metadata": {},
   "outputs": [],
   "source": [
    "Fea[Fea['Value'] > 0]"
   ]
  },
  {
   "cell_type": "code",
   "execution_count": null,
   "metadata": {
    "colab": {
     "base_uri": "https://localhost:8080/"
    },
    "id": "qdi899sDa7bY",
    "outputId": "ccf4e34f-33f9-4ecb-e76c-d9ddc6e2b08c"
   },
   "outputs": [],
   "source": [
    "y_pred = model.predict(X_val)\n",
    "y_pred"
   ]
  },
  {
   "cell_type": "code",
   "execution_count": null,
   "metadata": {
    "colab": {
     "base_uri": "https://localhost:8080/"
    },
    "id": "ecRWghisa7eL",
    "outputId": "6e8cde57-b613-49ba-84f3-4d21c8512452"
   },
   "outputs": [],
   "source": [
    "y_val"
   ]
  },
  {
   "cell_type": "code",
   "execution_count": null,
   "metadata": {
    "colab": {
     "base_uri": "https://localhost:8080/"
    },
    "id": "fhqB2Hima7gr",
    "outputId": "af50766b-e9c0-4046-f62b-478eeeb0f9a7"
   },
   "outputs": [],
   "source": [
    "print(\"Score on training set : \", model.score(X_train,y_train))\n",
    "print(\"Score on valid set : \", model.score(X_val,y_val))\n",
    "print(\"Score on testing set : \",model.score(X_test, y_test))"
   ]
  },
  {
   "cell_type": "code",
   "execution_count": null,
   "metadata": {
    "id": "V0W3d8-Ca7jT"
   },
   "outputs": [],
   "source": [
    "### Confusion Matrix -> Based on Testing set\n",
    "\n",
    "from sklearn.metrics import confusion_matrix\n",
    "\n",
    "cf_matrix = confusion_matrix(y_val, y_pred)\n",
    "\n",
    "TN = cf_matrix[0][0]\n",
    "FN = cf_matrix[1][0]\n",
    "TP = cf_matrix[1][1]\n",
    "FP = cf_matrix[0][1]\n",
    "\n",
    "print(cf_matrix)\n",
    "\n",
    "print(f\"True Negative : {TN}\")\n",
    "print(f\"False Negative : {FN}\")\n",
    "print(f\"True Positive : {TP}\")\n",
    "print(f\"False Positive : {TN}\")"
   ]
  },
  {
   "cell_type": "code",
   "execution_count": null,
   "metadata": {},
   "outputs": [],
   "source": [
    "ax = sns.heatmap(cf_matrix, annot=True, cmap='Blues')\n",
    "\n",
    "ax.set_title('Seaborn Confusion Matrix with labels\\n\\n');\n",
    "ax.set_xlabel('\\nPredicted Values')\n",
    "ax.set_ylabel('Actual Values ');\n",
    "\n",
    "## Ticket labels - List must be in alphabetical order\n",
    "ax.xaxis.set_ticklabels(['False','True'])\n",
    "ax.yaxis.set_ticklabels(['False','True'])\n",
    "\n",
    "## Display the visualization of the Confusion Matrix.\n",
    "plt.show()"
   ]
  },
  {
   "cell_type": "code",
   "execution_count": null,
   "metadata": {},
   "outputs": [],
   "source": [
    "### AUC-ROC Curve\n",
    "\n",
    "from sklearn.metrics import roc_curve, auc\n",
    "\n",
    "class_probabilities = model.predict_proba(X_val)\n",
    "preds = class_probabilities[:, 1]\n",
    "\n",
    "fpr, tpr, threshold = roc_curve(y_val, y_pred)\n",
    "roc_auc = auc(fpr, tpr)\n",
    "\n",
    "# Printing AUC\n",
    "print(f\"AUC for our classifier is: {roc_auc}\")\n",
    "\n",
    "# Plotting the ROC\n",
    "plt.title('Receiver Operating Characteristic')\n",
    "plt.plot(fpr, tpr, 'b', label = 'AUC = %0.2f' % roc_auc)\n",
    "plt.legend(loc = 'lower right')\n",
    "plt.plot([0, 1], [0, 1],'r--')\n",
    "plt.xlim([0, 1])\n",
    "plt.ylim([0, 1])\n",
    "plt.ylabel('True Positive Rate')\n",
    "plt.xlabel('False Positive Rate')\n",
    "plt.show()"
   ]
  },
  {
   "cell_type": "code",
   "execution_count": null,
   "metadata": {},
   "outputs": [],
   "source": [
    "X_test.shape"
   ]
  },
  {
   "cell_type": "code",
   "execution_count": null,
   "metadata": {},
   "outputs": [],
   "source": [
    "## Prediction on test set\n",
    "class_pred = model.predict(X_test)\n",
    "class_prob_test = model.predict_proba(X_test)\n",
    "print(class_prob_test[0])\n",
    "print(class_pred[0])"
   ]
  },
  {
   "cell_type": "code",
   "execution_count": null,
   "metadata": {},
   "outputs": [],
   "source": [
    "ab = []\n",
    "for i in class_prob_test[:,0]:\n",
    "    if i <= 0.5:\n",
    "        ab.append(\"Low\")\n",
    "    elif i>0.5 and i<=0.75:\n",
    "        ab.append(\"Need Further Evaluation\")\n",
    "    else:\n",
    "        ab.append(\"High\")        "
   ]
  },
  {
   "cell_type": "code",
   "execution_count": 1,
   "metadata": {},
   "outputs": [
    {
     "ename": "NameError",
     "evalue": "name 'pd' is not defined",
     "output_type": "error",
     "traceback": [
      "\u001b[1;31m---------------------------------------------------------------------------\u001b[0m",
      "\u001b[1;31mNameError\u001b[0m                                 Traceback (most recent call last)",
      "Cell \u001b[1;32mIn[1], line 1\u001b[0m\n\u001b[1;32m----> 1\u001b[0m \u001b[43mpd\u001b[49m\u001b[38;5;241m.\u001b[39mDataFrame(\u001b[38;5;28mlist\u001b[39m(\u001b[38;5;28mzip\u001b[39m(cls_prob[:,\u001b[38;5;241m0\u001b[39m],pred_cls,ab,y_test)), columns \u001b[38;5;241m=\u001b[39m[\u001b[38;5;124m'\u001b[39m\u001b[38;5;124mProb\u001b[39m\u001b[38;5;124m'\u001b[39m, \u001b[38;5;124m'\u001b[39m\u001b[38;5;124mPredicted_class\u001b[39m\u001b[38;5;124m'\u001b[39m,\u001b[38;5;124m'\u001b[39m\u001b[38;5;124mclass\u001b[39m\u001b[38;5;124m'\u001b[39m,\u001b[38;5;124m'\u001b[39m\u001b[38;5;124mActual Class\u001b[39m\u001b[38;5;124m'\u001b[39m])\n",
      "\u001b[1;31mNameError\u001b[0m: name 'pd' is not defined"
     ]
    }
   ],
   "source": [
    "#list(zip(class_prob_test[:,0],ab))\n",
    "\n",
    "pd.DataFrame(list(zip(class_prob_test[:,0],ab)), columns =['Prob', 'class'])"
   ]
  },
  {
   "cell_type": "code",
   "execution_count": null,
   "metadata": {},
   "outputs": [],
   "source": []
  }
 ],
 "metadata": {
  "colab": {
   "provenance": []
  },
  "kernelspec": {
   "display_name": "Python 3 (ipykernel)",
   "language": "python",
   "name": "python3"
  },
  "language_info": {
   "codemirror_mode": {
    "name": "ipython",
    "version": 3
   },
   "file_extension": ".py",
   "mimetype": "text/x-python",
   "name": "python",
   "nbconvert_exporter": "python",
   "pygments_lexer": "ipython3",
   "version": "3.9.13"
  },
  "widgets": {
   "application/vnd.jupyter.widget-state+json": {
    "09ec550aaa3845a88a4a88b1226469d7": {
     "model_module": "@jupyter-widgets/controls",
     "model_module_version": "1.5.0",
     "model_name": "ProgressStyleModel",
     "state": {
      "_model_module": "@jupyter-widgets/controls",
      "_model_module_version": "1.5.0",
      "_model_name": "ProgressStyleModel",
      "_view_count": null,
      "_view_module": "@jupyter-widgets/base",
      "_view_module_version": "1.2.0",
      "_view_name": "StyleView",
      "bar_color": null,
      "description_width": ""
     }
    },
    "0acb9d3cc46f4ec6b2523297f1e7c225": {
     "model_module": "@jupyter-widgets/controls",
     "model_module_version": "1.5.0",
     "model_name": "DescriptionStyleModel",
     "state": {
      "_model_module": "@jupyter-widgets/controls",
      "_model_module_version": "1.5.0",
      "_model_name": "DescriptionStyleModel",
      "_view_count": null,
      "_view_module": "@jupyter-widgets/base",
      "_view_module_version": "1.2.0",
      "_view_name": "StyleView",
      "description_width": ""
     }
    },
    "0e82e78e12ef4c9a8f4623b82d88a3f7": {
     "model_module": "@jupyter-widgets/base",
     "model_module_version": "1.2.0",
     "model_name": "LayoutModel",
     "state": {
      "_model_module": "@jupyter-widgets/base",
      "_model_module_version": "1.2.0",
      "_model_name": "LayoutModel",
      "_view_count": null,
      "_view_module": "@jupyter-widgets/base",
      "_view_module_version": "1.2.0",
      "_view_name": "LayoutView",
      "align_content": null,
      "align_items": null,
      "align_self": null,
      "border": null,
      "bottom": null,
      "display": null,
      "flex": null,
      "flex_flow": null,
      "grid_area": null,
      "grid_auto_columns": null,
      "grid_auto_flow": null,
      "grid_auto_rows": null,
      "grid_column": null,
      "grid_gap": null,
      "grid_row": null,
      "grid_template_areas": null,
      "grid_template_columns": null,
      "grid_template_rows": null,
      "height": null,
      "justify_content": null,
      "justify_items": null,
      "left": null,
      "margin": null,
      "max_height": null,
      "max_width": null,
      "min_height": null,
      "min_width": null,
      "object_fit": null,
      "object_position": null,
      "order": null,
      "overflow": null,
      "overflow_x": null,
      "overflow_y": null,
      "padding": null,
      "right": null,
      "top": null,
      "visibility": "hidden",
      "width": null
     }
    },
    "23d4183286ae4294ae556952f789ce71": {
     "model_module": "@jupyter-widgets/controls",
     "model_module_version": "1.5.0",
     "model_name": "HTMLModel",
     "state": {
      "_dom_classes": [],
      "_model_module": "@jupyter-widgets/controls",
      "_model_module_version": "1.5.0",
      "_model_name": "HTMLModel",
      "_view_count": null,
      "_view_module": "@jupyter-widgets/controls",
      "_view_module_version": "1.5.0",
      "_view_name": "HTMLView",
      "description": "",
      "description_tooltip": null,
      "layout": "IPY_MODEL_9129218a811344048fc6b7334feba60c",
      "placeholder": "​",
      "style": "IPY_MODEL_e086dd9a0c754bbfb31a227f6f62b1ea",
      "value": "Processing: 100%"
     }
    },
    "2446b59bc6d64872a2501441f49a33b1": {
     "model_module": "@jupyter-widgets/base",
     "model_module_version": "1.2.0",
     "model_name": "LayoutModel",
     "state": {
      "_model_module": "@jupyter-widgets/base",
      "_model_module_version": "1.2.0",
      "_model_name": "LayoutModel",
      "_view_count": null,
      "_view_module": "@jupyter-widgets/base",
      "_view_module_version": "1.2.0",
      "_view_name": "LayoutView",
      "align_content": null,
      "align_items": null,
      "align_self": null,
      "border": null,
      "bottom": null,
      "display": null,
      "flex": null,
      "flex_flow": null,
      "grid_area": null,
      "grid_auto_columns": null,
      "grid_auto_flow": null,
      "grid_auto_rows": null,
      "grid_column": null,
      "grid_gap": null,
      "grid_row": null,
      "grid_template_areas": null,
      "grid_template_columns": null,
      "grid_template_rows": null,
      "height": null,
      "justify_content": null,
      "justify_items": null,
      "left": null,
      "margin": null,
      "max_height": null,
      "max_width": null,
      "min_height": null,
      "min_width": null,
      "object_fit": null,
      "object_position": null,
      "order": null,
      "overflow": null,
      "overflow_x": null,
      "overflow_y": null,
      "padding": null,
      "right": null,
      "top": null,
      "visibility": null,
      "width": null
     }
    },
    "3790fb08fdd443faba9d6e8ee30c1fb6": {
     "model_module": "@jupyter-widgets/controls",
     "model_module_version": "1.5.0",
     "model_name": "HTMLModel",
     "state": {
      "_dom_classes": [],
      "_model_module": "@jupyter-widgets/controls",
      "_model_module_version": "1.5.0",
      "_model_name": "HTMLModel",
      "_view_count": null,
      "_view_module": "@jupyter-widgets/controls",
      "_view_module_version": "1.5.0",
      "_view_name": "HTMLView",
      "description": "",
      "description_tooltip": null,
      "layout": "IPY_MODEL_2446b59bc6d64872a2501441f49a33b1",
      "placeholder": "​",
      "style": "IPY_MODEL_62938909194840088c9493df0eb5aead",
      "value": " 65/65 [00:19&lt;00:00,  4.67it/s]"
     }
    },
    "3f69385acee247deb4c12b6adeeb5cb4": {
     "model_module": "@jupyter-widgets/controls",
     "model_module_version": "1.5.0",
     "model_name": "HBoxModel",
     "state": {
      "_dom_classes": [],
      "_model_module": "@jupyter-widgets/controls",
      "_model_module_version": "1.5.0",
      "_model_name": "HBoxModel",
      "_view_count": null,
      "_view_module": "@jupyter-widgets/controls",
      "_view_module_version": "1.5.0",
      "_view_name": "HBoxView",
      "box_style": "",
      "children": [
       "IPY_MODEL_23d4183286ae4294ae556952f789ce71",
       "IPY_MODEL_d764a76424884586b774da05b668e464",
       "IPY_MODEL_d851475868284c1d8ab15a341cb2906b"
      ],
      "layout": "IPY_MODEL_dbe9eadc413944c4b898f3529d5921dd"
     }
    },
    "466d744b94fc4e3194da892085c77b3e": {
     "model_module": "@jupyter-widgets/base",
     "model_module_version": "1.2.0",
     "model_name": "LayoutModel",
     "state": {
      "_model_module": "@jupyter-widgets/base",
      "_model_module_version": "1.2.0",
      "_model_name": "LayoutModel",
      "_view_count": null,
      "_view_module": "@jupyter-widgets/base",
      "_view_module_version": "1.2.0",
      "_view_name": "LayoutView",
      "align_content": null,
      "align_items": null,
      "align_self": null,
      "border": null,
      "bottom": null,
      "display": null,
      "flex": null,
      "flex_flow": null,
      "grid_area": null,
      "grid_auto_columns": null,
      "grid_auto_flow": null,
      "grid_auto_rows": null,
      "grid_column": null,
      "grid_gap": null,
      "grid_row": null,
      "grid_template_areas": null,
      "grid_template_columns": null,
      "grid_template_rows": null,
      "height": null,
      "justify_content": null,
      "justify_items": null,
      "left": null,
      "margin": null,
      "max_height": null,
      "max_width": null,
      "min_height": null,
      "min_width": null,
      "object_fit": null,
      "object_position": null,
      "order": null,
      "overflow": null,
      "overflow_x": null,
      "overflow_y": null,
      "padding": null,
      "right": null,
      "top": null,
      "visibility": null,
      "width": null
     }
    },
    "4a53c3c652e044749b43bc46ef4975aa": {
     "model_module": "@jupyter-widgets/controls",
     "model_module_version": "1.5.0",
     "model_name": "ProgressStyleModel",
     "state": {
      "_model_module": "@jupyter-widgets/controls",
      "_model_module_version": "1.5.0",
      "_model_name": "ProgressStyleModel",
      "_view_count": null,
      "_view_module": "@jupyter-widgets/base",
      "_view_module_version": "1.2.0",
      "_view_name": "StyleView",
      "bar_color": null,
      "description_width": ""
     }
    },
    "580e859b1a144101b4acdb7676867c66": {
     "model_module": "@jupyter-widgets/base",
     "model_module_version": "1.2.0",
     "model_name": "LayoutModel",
     "state": {
      "_model_module": "@jupyter-widgets/base",
      "_model_module_version": "1.2.0",
      "_model_name": "LayoutModel",
      "_view_count": null,
      "_view_module": "@jupyter-widgets/base",
      "_view_module_version": "1.2.0",
      "_view_name": "LayoutView",
      "align_content": null,
      "align_items": null,
      "align_self": null,
      "border": null,
      "bottom": null,
      "display": null,
      "flex": null,
      "flex_flow": null,
      "grid_area": null,
      "grid_auto_columns": null,
      "grid_auto_flow": null,
      "grid_auto_rows": null,
      "grid_column": null,
      "grid_gap": null,
      "grid_row": null,
      "grid_template_areas": null,
      "grid_template_columns": null,
      "grid_template_rows": null,
      "height": null,
      "justify_content": null,
      "justify_items": null,
      "left": null,
      "margin": null,
      "max_height": null,
      "max_width": null,
      "min_height": null,
      "min_width": null,
      "object_fit": null,
      "object_position": null,
      "order": null,
      "overflow": null,
      "overflow_x": null,
      "overflow_y": null,
      "padding": null,
      "right": null,
      "top": null,
      "visibility": null,
      "width": null
     }
    },
    "58a977f13a174cf3a435dbc47a010a5a": {
     "model_module": "@jupyter-widgets/controls",
     "model_module_version": "1.5.0",
     "model_name": "HBoxModel",
     "state": {
      "_dom_classes": [],
      "_model_module": "@jupyter-widgets/controls",
      "_model_module_version": "1.5.0",
      "_model_name": "HBoxModel",
      "_view_count": null,
      "_view_module": "@jupyter-widgets/controls",
      "_view_module_version": "1.5.0",
      "_view_name": "HBoxView",
      "box_style": "",
      "children": [
       "IPY_MODEL_93e6a1acce7a42bc80b503a4e283e58c",
       "IPY_MODEL_e6290e4367bd45469ee08b3542d7d296",
       "IPY_MODEL_d341ff69d55142d8b93104468822b5c0"
      ],
      "layout": "IPY_MODEL_0e82e78e12ef4c9a8f4623b82d88a3f7"
     }
    },
    "62938909194840088c9493df0eb5aead": {
     "model_module": "@jupyter-widgets/controls",
     "model_module_version": "1.5.0",
     "model_name": "DescriptionStyleModel",
     "state": {
      "_model_module": "@jupyter-widgets/controls",
      "_model_module_version": "1.5.0",
      "_model_name": "DescriptionStyleModel",
      "_view_count": null,
      "_view_module": "@jupyter-widgets/base",
      "_view_module_version": "1.2.0",
      "_view_name": "StyleView",
      "description_width": ""
     }
    },
    "6dc22c459e4f45d58f81ff81502e358a": {
     "model_module": "@jupyter-widgets/base",
     "model_module_version": "1.2.0",
     "model_name": "LayoutModel",
     "state": {
      "_model_module": "@jupyter-widgets/base",
      "_model_module_version": "1.2.0",
      "_model_name": "LayoutModel",
      "_view_count": null,
      "_view_module": "@jupyter-widgets/base",
      "_view_module_version": "1.2.0",
      "_view_name": "LayoutView",
      "align_content": null,
      "align_items": null,
      "align_self": null,
      "border": null,
      "bottom": null,
      "display": null,
      "flex": null,
      "flex_flow": null,
      "grid_area": null,
      "grid_auto_columns": null,
      "grid_auto_flow": null,
      "grid_auto_rows": null,
      "grid_column": null,
      "grid_gap": null,
      "grid_row": null,
      "grid_template_areas": null,
      "grid_template_columns": null,
      "grid_template_rows": null,
      "height": null,
      "justify_content": null,
      "justify_items": null,
      "left": null,
      "margin": null,
      "max_height": null,
      "max_width": null,
      "min_height": null,
      "min_width": null,
      "object_fit": null,
      "object_position": null,
      "order": null,
      "overflow": null,
      "overflow_x": null,
      "overflow_y": null,
      "padding": null,
      "right": null,
      "top": null,
      "visibility": null,
      "width": null
     }
    },
    "77cb86a9d92a4afaace6149461a9c6ef": {
     "model_module": "@jupyter-widgets/base",
     "model_module_version": "1.2.0",
     "model_name": "LayoutModel",
     "state": {
      "_model_module": "@jupyter-widgets/base",
      "_model_module_version": "1.2.0",
      "_model_name": "LayoutModel",
      "_view_count": null,
      "_view_module": "@jupyter-widgets/base",
      "_view_module_version": "1.2.0",
      "_view_name": "LayoutView",
      "align_content": null,
      "align_items": null,
      "align_self": null,
      "border": null,
      "bottom": null,
      "display": null,
      "flex": null,
      "flex_flow": null,
      "grid_area": null,
      "grid_auto_columns": null,
      "grid_auto_flow": null,
      "grid_auto_rows": null,
      "grid_column": null,
      "grid_gap": null,
      "grid_row": null,
      "grid_template_areas": null,
      "grid_template_columns": null,
      "grid_template_rows": null,
      "height": null,
      "justify_content": null,
      "justify_items": null,
      "left": null,
      "margin": null,
      "max_height": null,
      "max_width": null,
      "min_height": null,
      "min_width": null,
      "object_fit": null,
      "object_position": null,
      "order": null,
      "overflow": null,
      "overflow_x": null,
      "overflow_y": null,
      "padding": null,
      "right": null,
      "top": null,
      "visibility": null,
      "width": null
     }
    },
    "78b6414cccf34e7f95e6455b3c9dc7cd": {
     "model_module": "@jupyter-widgets/controls",
     "model_module_version": "1.5.0",
     "model_name": "HTMLModel",
     "state": {
      "_dom_classes": [],
      "_model_module": "@jupyter-widgets/controls",
      "_model_module_version": "1.5.0",
      "_model_name": "HTMLModel",
      "_view_count": null,
      "_view_module": "@jupyter-widgets/controls",
      "_view_module_version": "1.5.0",
      "_view_name": "HTMLView",
      "description": "",
      "description_tooltip": null,
      "layout": "IPY_MODEL_ceed635675b44d36bb7269479562adf0",
      "placeholder": "​",
      "style": "IPY_MODEL_0acb9d3cc46f4ec6b2523297f1e7c225",
      "value": "Processing: 100%"
     }
    },
    "88cd0c1bd6fe40a78df3b649a647b2a6": {
     "model_module": "@jupyter-widgets/controls",
     "model_module_version": "1.5.0",
     "model_name": "DescriptionStyleModel",
     "state": {
      "_model_module": "@jupyter-widgets/controls",
      "_model_module_version": "1.5.0",
      "_model_name": "DescriptionStyleModel",
      "_view_count": null,
      "_view_module": "@jupyter-widgets/base",
      "_view_module_version": "1.2.0",
      "_view_name": "StyleView",
      "description_width": ""
     }
    },
    "88e066a7946041c4a0a320f4b59a3ff9": {
     "model_module": "@jupyter-widgets/controls",
     "model_module_version": "1.5.0",
     "model_name": "DescriptionStyleModel",
     "state": {
      "_model_module": "@jupyter-widgets/controls",
      "_model_module_version": "1.5.0",
      "_model_name": "DescriptionStyleModel",
      "_view_count": null,
      "_view_module": "@jupyter-widgets/base",
      "_view_module_version": "1.2.0",
      "_view_name": "StyleView",
      "description_width": ""
     }
    },
    "9129218a811344048fc6b7334feba60c": {
     "model_module": "@jupyter-widgets/base",
     "model_module_version": "1.2.0",
     "model_name": "LayoutModel",
     "state": {
      "_model_module": "@jupyter-widgets/base",
      "_model_module_version": "1.2.0",
      "_model_name": "LayoutModel",
      "_view_count": null,
      "_view_module": "@jupyter-widgets/base",
      "_view_module_version": "1.2.0",
      "_view_name": "LayoutView",
      "align_content": null,
      "align_items": null,
      "align_self": null,
      "border": null,
      "bottom": null,
      "display": null,
      "flex": null,
      "flex_flow": null,
      "grid_area": null,
      "grid_auto_columns": null,
      "grid_auto_flow": null,
      "grid_auto_rows": null,
      "grid_column": null,
      "grid_gap": null,
      "grid_row": null,
      "grid_template_areas": null,
      "grid_template_columns": null,
      "grid_template_rows": null,
      "height": null,
      "justify_content": null,
      "justify_items": null,
      "left": null,
      "margin": null,
      "max_height": null,
      "max_width": null,
      "min_height": null,
      "min_width": null,
      "object_fit": null,
      "object_position": null,
      "order": null,
      "overflow": null,
      "overflow_x": null,
      "overflow_y": null,
      "padding": null,
      "right": null,
      "top": null,
      "visibility": null,
      "width": null
     }
    },
    "92b20b00ecc04605bf2c9944b8df25fa": {
     "model_module": "@jupyter-widgets/controls",
     "model_module_version": "1.5.0",
     "model_name": "HBoxModel",
     "state": {
      "_dom_classes": [],
      "_model_module": "@jupyter-widgets/controls",
      "_model_module_version": "1.5.0",
      "_model_name": "HBoxModel",
      "_view_count": null,
      "_view_module": "@jupyter-widgets/controls",
      "_view_module_version": "1.5.0",
      "_view_name": "HBoxView",
      "box_style": "",
      "children": [
       "IPY_MODEL_78b6414cccf34e7f95e6455b3c9dc7cd",
       "IPY_MODEL_edab0a064f8f4a1fa9ff8642096ba5b3",
       "IPY_MODEL_3790fb08fdd443faba9d6e8ee30c1fb6"
      ],
      "layout": "IPY_MODEL_e31dfa32aaaa4dc5bb485e09d8118195"
     }
    },
    "93e6a1acce7a42bc80b503a4e283e58c": {
     "model_module": "@jupyter-widgets/controls",
     "model_module_version": "1.5.0",
     "model_name": "HTMLModel",
     "state": {
      "_dom_classes": [],
      "_model_module": "@jupyter-widgets/controls",
      "_model_module_version": "1.5.0",
      "_model_name": "HTMLModel",
      "_view_count": null,
      "_view_module": "@jupyter-widgets/controls",
      "_view_module_version": "1.5.0",
      "_view_name": "HTMLView",
      "description": "",
      "description_tooltip": null,
      "layout": "IPY_MODEL_77cb86a9d92a4afaace6149461a9c6ef",
      "placeholder": "​",
      "style": "IPY_MODEL_88cd0c1bd6fe40a78df3b649a647b2a6",
      "value": "Processing: 100%"
     }
    },
    "bad0d31c178e4d85b8d034df3976ea85": {
     "model_module": "@jupyter-widgets/base",
     "model_module_version": "1.2.0",
     "model_name": "LayoutModel",
     "state": {
      "_model_module": "@jupyter-widgets/base",
      "_model_module_version": "1.2.0",
      "_model_name": "LayoutModel",
      "_view_count": null,
      "_view_module": "@jupyter-widgets/base",
      "_view_module_version": "1.2.0",
      "_view_name": "LayoutView",
      "align_content": null,
      "align_items": null,
      "align_self": null,
      "border": null,
      "bottom": null,
      "display": null,
      "flex": null,
      "flex_flow": null,
      "grid_area": null,
      "grid_auto_columns": null,
      "grid_auto_flow": null,
      "grid_auto_rows": null,
      "grid_column": null,
      "grid_gap": null,
      "grid_row": null,
      "grid_template_areas": null,
      "grid_template_columns": null,
      "grid_template_rows": null,
      "height": null,
      "justify_content": null,
      "justify_items": null,
      "left": null,
      "margin": null,
      "max_height": null,
      "max_width": null,
      "min_height": null,
      "min_width": null,
      "object_fit": null,
      "object_position": null,
      "order": null,
      "overflow": null,
      "overflow_x": null,
      "overflow_y": null,
      "padding": null,
      "right": null,
      "top": null,
      "visibility": null,
      "width": null
     }
    },
    "c5b16eb1d42b4417b2182ffd3dc53d3e": {
     "model_module": "@jupyter-widgets/controls",
     "model_module_version": "1.5.0",
     "model_name": "DescriptionStyleModel",
     "state": {
      "_model_module": "@jupyter-widgets/controls",
      "_model_module_version": "1.5.0",
      "_model_name": "DescriptionStyleModel",
      "_view_count": null,
      "_view_module": "@jupyter-widgets/base",
      "_view_module_version": "1.2.0",
      "_view_name": "StyleView",
      "description_width": ""
     }
    },
    "ceed635675b44d36bb7269479562adf0": {
     "model_module": "@jupyter-widgets/base",
     "model_module_version": "1.2.0",
     "model_name": "LayoutModel",
     "state": {
      "_model_module": "@jupyter-widgets/base",
      "_model_module_version": "1.2.0",
      "_model_name": "LayoutModel",
      "_view_count": null,
      "_view_module": "@jupyter-widgets/base",
      "_view_module_version": "1.2.0",
      "_view_name": "LayoutView",
      "align_content": null,
      "align_items": null,
      "align_self": null,
      "border": null,
      "bottom": null,
      "display": null,
      "flex": null,
      "flex_flow": null,
      "grid_area": null,
      "grid_auto_columns": null,
      "grid_auto_flow": null,
      "grid_auto_rows": null,
      "grid_column": null,
      "grid_gap": null,
      "grid_row": null,
      "grid_template_areas": null,
      "grid_template_columns": null,
      "grid_template_rows": null,
      "height": null,
      "justify_content": null,
      "justify_items": null,
      "left": null,
      "margin": null,
      "max_height": null,
      "max_width": null,
      "min_height": null,
      "min_width": null,
      "object_fit": null,
      "object_position": null,
      "order": null,
      "overflow": null,
      "overflow_x": null,
      "overflow_y": null,
      "padding": null,
      "right": null,
      "top": null,
      "visibility": null,
      "width": null
     }
    },
    "d078056c4ba04d47b90453c45563d202": {
     "model_module": "@jupyter-widgets/base",
     "model_module_version": "1.2.0",
     "model_name": "LayoutModel",
     "state": {
      "_model_module": "@jupyter-widgets/base",
      "_model_module_version": "1.2.0",
      "_model_name": "LayoutModel",
      "_view_count": null,
      "_view_module": "@jupyter-widgets/base",
      "_view_module_version": "1.2.0",
      "_view_name": "LayoutView",
      "align_content": null,
      "align_items": null,
      "align_self": null,
      "border": null,
      "bottom": null,
      "display": null,
      "flex": null,
      "flex_flow": null,
      "grid_area": null,
      "grid_auto_columns": null,
      "grid_auto_flow": null,
      "grid_auto_rows": null,
      "grid_column": null,
      "grid_gap": null,
      "grid_row": null,
      "grid_template_areas": null,
      "grid_template_columns": null,
      "grid_template_rows": null,
      "height": null,
      "justify_content": null,
      "justify_items": null,
      "left": null,
      "margin": null,
      "max_height": null,
      "max_width": null,
      "min_height": null,
      "min_width": null,
      "object_fit": null,
      "object_position": null,
      "order": null,
      "overflow": null,
      "overflow_x": null,
      "overflow_y": null,
      "padding": null,
      "right": null,
      "top": null,
      "visibility": null,
      "width": null
     }
    },
    "d341ff69d55142d8b93104468822b5c0": {
     "model_module": "@jupyter-widgets/controls",
     "model_module_version": "1.5.0",
     "model_name": "HTMLModel",
     "state": {
      "_dom_classes": [],
      "_model_module": "@jupyter-widgets/controls",
      "_model_module_version": "1.5.0",
      "_model_name": "HTMLModel",
      "_view_count": null,
      "_view_module": "@jupyter-widgets/controls",
      "_view_module_version": "1.5.0",
      "_view_name": "HTMLView",
      "description": "",
      "description_tooltip": null,
      "layout": "IPY_MODEL_466d744b94fc4e3194da892085c77b3e",
      "placeholder": "​",
      "style": "IPY_MODEL_88e066a7946041c4a0a320f4b59a3ff9",
      "value": " 7/7 [00:37&lt;00:00,  4.00s/it]"
     }
    },
    "d764a76424884586b774da05b668e464": {
     "model_module": "@jupyter-widgets/controls",
     "model_module_version": "1.5.0",
     "model_name": "FloatProgressModel",
     "state": {
      "_dom_classes": [],
      "_model_module": "@jupyter-widgets/controls",
      "_model_module_version": "1.5.0",
      "_model_name": "FloatProgressModel",
      "_view_count": null,
      "_view_module": "@jupyter-widgets/controls",
      "_view_module_version": "1.5.0",
      "_view_name": "ProgressView",
      "bar_style": "",
      "description": "",
      "description_tooltip": null,
      "layout": "IPY_MODEL_580e859b1a144101b4acdb7676867c66",
      "max": 4,
      "min": 0,
      "orientation": "horizontal",
      "style": "IPY_MODEL_4a53c3c652e044749b43bc46ef4975aa",
      "value": 4
     }
    },
    "d851475868284c1d8ab15a341cb2906b": {
     "model_module": "@jupyter-widgets/controls",
     "model_module_version": "1.5.0",
     "model_name": "HTMLModel",
     "state": {
      "_dom_classes": [],
      "_model_module": "@jupyter-widgets/controls",
      "_model_module_version": "1.5.0",
      "_model_name": "HTMLModel",
      "_view_count": null,
      "_view_module": "@jupyter-widgets/controls",
      "_view_module_version": "1.5.0",
      "_view_name": "HTMLView",
      "description": "",
      "description_tooltip": null,
      "layout": "IPY_MODEL_d078056c4ba04d47b90453c45563d202",
      "placeholder": "​",
      "style": "IPY_MODEL_c5b16eb1d42b4417b2182ffd3dc53d3e",
      "value": " 4/4 [00:10&lt;00:00,  2.64s/it]"
     }
    },
    "d98f8fb4920d4e27b2a11c2d1ce4133a": {
     "model_module": "@jupyter-widgets/controls",
     "model_module_version": "1.5.0",
     "model_name": "ProgressStyleModel",
     "state": {
      "_model_module": "@jupyter-widgets/controls",
      "_model_module_version": "1.5.0",
      "_model_name": "ProgressStyleModel",
      "_view_count": null,
      "_view_module": "@jupyter-widgets/base",
      "_view_module_version": "1.2.0",
      "_view_name": "StyleView",
      "bar_color": null,
      "description_width": ""
     }
    },
    "dbe9eadc413944c4b898f3529d5921dd": {
     "model_module": "@jupyter-widgets/base",
     "model_module_version": "1.2.0",
     "model_name": "LayoutModel",
     "state": {
      "_model_module": "@jupyter-widgets/base",
      "_model_module_version": "1.2.0",
      "_model_name": "LayoutModel",
      "_view_count": null,
      "_view_module": "@jupyter-widgets/base",
      "_view_module_version": "1.2.0",
      "_view_name": "LayoutView",
      "align_content": null,
      "align_items": null,
      "align_self": null,
      "border": null,
      "bottom": null,
      "display": null,
      "flex": null,
      "flex_flow": null,
      "grid_area": null,
      "grid_auto_columns": null,
      "grid_auto_flow": null,
      "grid_auto_rows": null,
      "grid_column": null,
      "grid_gap": null,
      "grid_row": null,
      "grid_template_areas": null,
      "grid_template_columns": null,
      "grid_template_rows": null,
      "height": null,
      "justify_content": null,
      "justify_items": null,
      "left": null,
      "margin": null,
      "max_height": null,
      "max_width": null,
      "min_height": null,
      "min_width": null,
      "object_fit": null,
      "object_position": null,
      "order": null,
      "overflow": null,
      "overflow_x": null,
      "overflow_y": null,
      "padding": null,
      "right": null,
      "top": null,
      "visibility": "hidden",
      "width": null
     }
    },
    "e086dd9a0c754bbfb31a227f6f62b1ea": {
     "model_module": "@jupyter-widgets/controls",
     "model_module_version": "1.5.0",
     "model_name": "DescriptionStyleModel",
     "state": {
      "_model_module": "@jupyter-widgets/controls",
      "_model_module_version": "1.5.0",
      "_model_name": "DescriptionStyleModel",
      "_view_count": null,
      "_view_module": "@jupyter-widgets/base",
      "_view_module_version": "1.2.0",
      "_view_name": "StyleView",
      "description_width": ""
     }
    },
    "e31dfa32aaaa4dc5bb485e09d8118195": {
     "model_module": "@jupyter-widgets/base",
     "model_module_version": "1.2.0",
     "model_name": "LayoutModel",
     "state": {
      "_model_module": "@jupyter-widgets/base",
      "_model_module_version": "1.2.0",
      "_model_name": "LayoutModel",
      "_view_count": null,
      "_view_module": "@jupyter-widgets/base",
      "_view_module_version": "1.2.0",
      "_view_name": "LayoutView",
      "align_content": null,
      "align_items": null,
      "align_self": null,
      "border": null,
      "bottom": null,
      "display": null,
      "flex": null,
      "flex_flow": null,
      "grid_area": null,
      "grid_auto_columns": null,
      "grid_auto_flow": null,
      "grid_auto_rows": null,
      "grid_column": null,
      "grid_gap": null,
      "grid_row": null,
      "grid_template_areas": null,
      "grid_template_columns": null,
      "grid_template_rows": null,
      "height": null,
      "justify_content": null,
      "justify_items": null,
      "left": null,
      "margin": null,
      "max_height": null,
      "max_width": null,
      "min_height": null,
      "min_width": null,
      "object_fit": null,
      "object_position": null,
      "order": null,
      "overflow": null,
      "overflow_x": null,
      "overflow_y": null,
      "padding": null,
      "right": null,
      "top": null,
      "visibility": "hidden",
      "width": null
     }
    },
    "e6290e4367bd45469ee08b3542d7d296": {
     "model_module": "@jupyter-widgets/controls",
     "model_module_version": "1.5.0",
     "model_name": "FloatProgressModel",
     "state": {
      "_dom_classes": [],
      "_model_module": "@jupyter-widgets/controls",
      "_model_module_version": "1.5.0",
      "_model_name": "FloatProgressModel",
      "_view_count": null,
      "_view_module": "@jupyter-widgets/controls",
      "_view_module_version": "1.5.0",
      "_view_name": "ProgressView",
      "bar_style": "",
      "description": "",
      "description_tooltip": null,
      "layout": "IPY_MODEL_bad0d31c178e4d85b8d034df3976ea85",
      "max": 7,
      "min": 0,
      "orientation": "horizontal",
      "style": "IPY_MODEL_09ec550aaa3845a88a4a88b1226469d7",
      "value": 7
     }
    },
    "edab0a064f8f4a1fa9ff8642096ba5b3": {
     "model_module": "@jupyter-widgets/controls",
     "model_module_version": "1.5.0",
     "model_name": "FloatProgressModel",
     "state": {
      "_dom_classes": [],
      "_model_module": "@jupyter-widgets/controls",
      "_model_module_version": "1.5.0",
      "_model_name": "FloatProgressModel",
      "_view_count": null,
      "_view_module": "@jupyter-widgets/controls",
      "_view_module_version": "1.5.0",
      "_view_name": "ProgressView",
      "bar_style": "",
      "description": "",
      "description_tooltip": null,
      "layout": "IPY_MODEL_6dc22c459e4f45d58f81ff81502e358a",
      "max": 65,
      "min": 0,
      "orientation": "horizontal",
      "style": "IPY_MODEL_d98f8fb4920d4e27b2a11c2d1ce4133a",
      "value": 65
     }
    }
   }
  }
 },
 "nbformat": 4,
 "nbformat_minor": 1
}
